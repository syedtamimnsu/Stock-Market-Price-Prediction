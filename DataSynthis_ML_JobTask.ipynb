{
  "cells": [
    {
      "cell_type": "markdown",
      "source": [
        "Import dependencies"
      ],
      "metadata": {
        "id": "jIEe6Cb_T2ha"
      }
    },
    {
      "cell_type": "code",
      "source": [
        "import numpy as np\n",
        "import pandas as pd\n",
        "from sklearn.preprocessing import StandardScaler\n",
        "import seaborn as sns\n",
        "import matplotlib.pyplot as plt\n",
        "from sklearn.metrics import accuracy_score\n"
      ],
      "metadata": {
        "id": "gs-6q6uWT3H2"
      },
      "execution_count": null,
      "outputs": []
    },
    {
      "cell_type": "markdown",
      "source": [
        "# **Dataset Loading and Analysis**"
      ],
      "metadata": {
        "id": "kNan21vXWA-6"
      }
    },
    {
      "cell_type": "code",
      "execution_count": null,
      "metadata": {
        "id": "Q6UaGIfhsare"
      },
      "outputs": [],
      "source": [
        "# Data Collection\n",
        "import pandas_datareader as pdr\n",
        "key=\"\""
      ]
    },
    {
      "cell_type": "code",
      "execution_count": null,
      "metadata": {
        "id": "pJDNaK24sarf"
      },
      "outputs": [],
      "source": [
        "# df = pdr.get_data_tiingo('AAPL', api_key=key)"
      ]
    },
    {
      "cell_type": "code",
      "execution_count": null,
      "metadata": {
        "id": "G_xdAGJDsari"
      },
      "outputs": [],
      "source": [
        "dataset=pd.read_csv('/content/APEXFOOT_data.csv')"
      ]
    },
    {
      "cell_type": "code",
      "source": [
        "dataset.shape"
      ],
      "metadata": {
        "colab": {
          "base_uri": "https://localhost:8080/"
        },
        "id": "MLcmr3YoTr4S",
        "outputId": "11d265fc-c202-49e5-9192-4aabd246f59e"
      },
      "execution_count": null,
      "outputs": [
        {
          "output_type": "execute_result",
          "data": {
            "text/plain": [
              "(2650, 6)"
            ]
          },
          "metadata": {},
          "execution_count": 93
        }
      ]
    },
    {
      "cell_type": "code",
      "execution_count": null,
      "metadata": {
        "colab": {
          "base_uri": "https://localhost:8080/",
          "height": 206
        },
        "id": "A77Fvf77sarj",
        "outputId": "9c21dd51-c5ee-4c7e-f154-52ee68a19368"
      },
      "outputs": [
        {
          "output_type": "execute_result",
          "data": {
            "text/plain": [
              "        Date        Open        High         Low       Close  Volume\n",
              "0  10/1/2012  180.165289  184.100748  175.521448  181.503345   22000\n",
              "1  10/2/2012  184.179457  186.462023  179.535616  185.202676   54400\n",
              "2  10/3/2012  186.540732  199.842582  186.540732  196.615506  101200\n",
              "3  10/4/2012  193.624557  197.953562  189.138135  193.860685   13200\n",
              "4  10/7/2012  192.837466  192.837466  182.054309  183.943329   10000"
            ],
            "text/html": [
              "\n",
              "  <div id=\"df-241bd785-8fd7-4616-a3b4-96d71a64e4bf\" class=\"colab-df-container\">\n",
              "    <div>\n",
              "<style scoped>\n",
              "    .dataframe tbody tr th:only-of-type {\n",
              "        vertical-align: middle;\n",
              "    }\n",
              "\n",
              "    .dataframe tbody tr th {\n",
              "        vertical-align: top;\n",
              "    }\n",
              "\n",
              "    .dataframe thead th {\n",
              "        text-align: right;\n",
              "    }\n",
              "</style>\n",
              "<table border=\"1\" class=\"dataframe\">\n",
              "  <thead>\n",
              "    <tr style=\"text-align: right;\">\n",
              "      <th></th>\n",
              "      <th>Date</th>\n",
              "      <th>Open</th>\n",
              "      <th>High</th>\n",
              "      <th>Low</th>\n",
              "      <th>Close</th>\n",
              "      <th>Volume</th>\n",
              "    </tr>\n",
              "  </thead>\n",
              "  <tbody>\n",
              "    <tr>\n",
              "      <th>0</th>\n",
              "      <td>10/1/2012</td>\n",
              "      <td>180.165289</td>\n",
              "      <td>184.100748</td>\n",
              "      <td>175.521448</td>\n",
              "      <td>181.503345</td>\n",
              "      <td>22000</td>\n",
              "    </tr>\n",
              "    <tr>\n",
              "      <th>1</th>\n",
              "      <td>10/2/2012</td>\n",
              "      <td>184.179457</td>\n",
              "      <td>186.462023</td>\n",
              "      <td>179.535616</td>\n",
              "      <td>185.202676</td>\n",
              "      <td>54400</td>\n",
              "    </tr>\n",
              "    <tr>\n",
              "      <th>2</th>\n",
              "      <td>10/3/2012</td>\n",
              "      <td>186.540732</td>\n",
              "      <td>199.842582</td>\n",
              "      <td>186.540732</td>\n",
              "      <td>196.615506</td>\n",
              "      <td>101200</td>\n",
              "    </tr>\n",
              "    <tr>\n",
              "      <th>3</th>\n",
              "      <td>10/4/2012</td>\n",
              "      <td>193.624557</td>\n",
              "      <td>197.953562</td>\n",
              "      <td>189.138135</td>\n",
              "      <td>193.860685</td>\n",
              "      <td>13200</td>\n",
              "    </tr>\n",
              "    <tr>\n",
              "      <th>4</th>\n",
              "      <td>10/7/2012</td>\n",
              "      <td>192.837466</td>\n",
              "      <td>192.837466</td>\n",
              "      <td>182.054309</td>\n",
              "      <td>183.943329</td>\n",
              "      <td>10000</td>\n",
              "    </tr>\n",
              "  </tbody>\n",
              "</table>\n",
              "</div>\n",
              "    <div class=\"colab-df-buttons\">\n",
              "\n",
              "  <div class=\"colab-df-container\">\n",
              "    <button class=\"colab-df-convert\" onclick=\"convertToInteractive('df-241bd785-8fd7-4616-a3b4-96d71a64e4bf')\"\n",
              "            title=\"Convert this dataframe to an interactive table.\"\n",
              "            style=\"display:none;\">\n",
              "\n",
              "  <svg xmlns=\"http://www.w3.org/2000/svg\" height=\"24px\" viewBox=\"0 -960 960 960\">\n",
              "    <path d=\"M120-120v-720h720v720H120Zm60-500h600v-160H180v160Zm220 220h160v-160H400v160Zm0 220h160v-160H400v160ZM180-400h160v-160H180v160Zm440 0h160v-160H620v160ZM180-180h160v-160H180v160Zm440 0h160v-160H620v160Z\"/>\n",
              "  </svg>\n",
              "    </button>\n",
              "\n",
              "  <style>\n",
              "    .colab-df-container {\n",
              "      display:flex;\n",
              "      gap: 12px;\n",
              "    }\n",
              "\n",
              "    .colab-df-convert {\n",
              "      background-color: #E8F0FE;\n",
              "      border: none;\n",
              "      border-radius: 50%;\n",
              "      cursor: pointer;\n",
              "      display: none;\n",
              "      fill: #1967D2;\n",
              "      height: 32px;\n",
              "      padding: 0 0 0 0;\n",
              "      width: 32px;\n",
              "    }\n",
              "\n",
              "    .colab-df-convert:hover {\n",
              "      background-color: #E2EBFA;\n",
              "      box-shadow: 0px 1px 2px rgba(60, 64, 67, 0.3), 0px 1px 3px 1px rgba(60, 64, 67, 0.15);\n",
              "      fill: #174EA6;\n",
              "    }\n",
              "\n",
              "    .colab-df-buttons div {\n",
              "      margin-bottom: 4px;\n",
              "    }\n",
              "\n",
              "    [theme=dark] .colab-df-convert {\n",
              "      background-color: #3B4455;\n",
              "      fill: #D2E3FC;\n",
              "    }\n",
              "\n",
              "    [theme=dark] .colab-df-convert:hover {\n",
              "      background-color: #434B5C;\n",
              "      box-shadow: 0px 1px 3px 1px rgba(0, 0, 0, 0.15);\n",
              "      filter: drop-shadow(0px 1px 2px rgba(0, 0, 0, 0.3));\n",
              "      fill: #FFFFFF;\n",
              "    }\n",
              "  </style>\n",
              "\n",
              "    <script>\n",
              "      const buttonEl =\n",
              "        document.querySelector('#df-241bd785-8fd7-4616-a3b4-96d71a64e4bf button.colab-df-convert');\n",
              "      buttonEl.style.display =\n",
              "        google.colab.kernel.accessAllowed ? 'block' : 'none';\n",
              "\n",
              "      async function convertToInteractive(key) {\n",
              "        const element = document.querySelector('#df-241bd785-8fd7-4616-a3b4-96d71a64e4bf');\n",
              "        const dataTable =\n",
              "          await google.colab.kernel.invokeFunction('convertToInteractive',\n",
              "                                                    [key], {});\n",
              "        if (!dataTable) return;\n",
              "\n",
              "        const docLinkHtml = 'Like what you see? Visit the ' +\n",
              "          '<a target=\"_blank\" href=https://colab.research.google.com/notebooks/data_table.ipynb>data table notebook</a>'\n",
              "          + ' to learn more about interactive tables.';\n",
              "        element.innerHTML = '';\n",
              "        dataTable['output_type'] = 'display_data';\n",
              "        await google.colab.output.renderOutput(dataTable, element);\n",
              "        const docLink = document.createElement('div');\n",
              "        docLink.innerHTML = docLinkHtml;\n",
              "        element.appendChild(docLink);\n",
              "      }\n",
              "    </script>\n",
              "  </div>\n",
              "\n",
              "\n",
              "    <div id=\"df-48bb494d-fc27-4864-b72b-6ff099a06ea0\">\n",
              "      <button class=\"colab-df-quickchart\" onclick=\"quickchart('df-48bb494d-fc27-4864-b72b-6ff099a06ea0')\"\n",
              "                title=\"Suggest charts\"\n",
              "                style=\"display:none;\">\n",
              "\n",
              "<svg xmlns=\"http://www.w3.org/2000/svg\" height=\"24px\"viewBox=\"0 0 24 24\"\n",
              "     width=\"24px\">\n",
              "    <g>\n",
              "        <path d=\"M19 3H5c-1.1 0-2 .9-2 2v14c0 1.1.9 2 2 2h14c1.1 0 2-.9 2-2V5c0-1.1-.9-2-2-2zM9 17H7v-7h2v7zm4 0h-2V7h2v10zm4 0h-2v-4h2v4z\"/>\n",
              "    </g>\n",
              "</svg>\n",
              "      </button>\n",
              "\n",
              "<style>\n",
              "  .colab-df-quickchart {\n",
              "      --bg-color: #E8F0FE;\n",
              "      --fill-color: #1967D2;\n",
              "      --hover-bg-color: #E2EBFA;\n",
              "      --hover-fill-color: #174EA6;\n",
              "      --disabled-fill-color: #AAA;\n",
              "      --disabled-bg-color: #DDD;\n",
              "  }\n",
              "\n",
              "  [theme=dark] .colab-df-quickchart {\n",
              "      --bg-color: #3B4455;\n",
              "      --fill-color: #D2E3FC;\n",
              "      --hover-bg-color: #434B5C;\n",
              "      --hover-fill-color: #FFFFFF;\n",
              "      --disabled-bg-color: #3B4455;\n",
              "      --disabled-fill-color: #666;\n",
              "  }\n",
              "\n",
              "  .colab-df-quickchart {\n",
              "    background-color: var(--bg-color);\n",
              "    border: none;\n",
              "    border-radius: 50%;\n",
              "    cursor: pointer;\n",
              "    display: none;\n",
              "    fill: var(--fill-color);\n",
              "    height: 32px;\n",
              "    padding: 0;\n",
              "    width: 32px;\n",
              "  }\n",
              "\n",
              "  .colab-df-quickchart:hover {\n",
              "    background-color: var(--hover-bg-color);\n",
              "    box-shadow: 0 1px 2px rgba(60, 64, 67, 0.3), 0 1px 3px 1px rgba(60, 64, 67, 0.15);\n",
              "    fill: var(--button-hover-fill-color);\n",
              "  }\n",
              "\n",
              "  .colab-df-quickchart-complete:disabled,\n",
              "  .colab-df-quickchart-complete:disabled:hover {\n",
              "    background-color: var(--disabled-bg-color);\n",
              "    fill: var(--disabled-fill-color);\n",
              "    box-shadow: none;\n",
              "  }\n",
              "\n",
              "  .colab-df-spinner {\n",
              "    border: 2px solid var(--fill-color);\n",
              "    border-color: transparent;\n",
              "    border-bottom-color: var(--fill-color);\n",
              "    animation:\n",
              "      spin 1s steps(1) infinite;\n",
              "  }\n",
              "\n",
              "  @keyframes spin {\n",
              "    0% {\n",
              "      border-color: transparent;\n",
              "      border-bottom-color: var(--fill-color);\n",
              "      border-left-color: var(--fill-color);\n",
              "    }\n",
              "    20% {\n",
              "      border-color: transparent;\n",
              "      border-left-color: var(--fill-color);\n",
              "      border-top-color: var(--fill-color);\n",
              "    }\n",
              "    30% {\n",
              "      border-color: transparent;\n",
              "      border-left-color: var(--fill-color);\n",
              "      border-top-color: var(--fill-color);\n",
              "      border-right-color: var(--fill-color);\n",
              "    }\n",
              "    40% {\n",
              "      border-color: transparent;\n",
              "      border-right-color: var(--fill-color);\n",
              "      border-top-color: var(--fill-color);\n",
              "    }\n",
              "    60% {\n",
              "      border-color: transparent;\n",
              "      border-right-color: var(--fill-color);\n",
              "    }\n",
              "    80% {\n",
              "      border-color: transparent;\n",
              "      border-right-color: var(--fill-color);\n",
              "      border-bottom-color: var(--fill-color);\n",
              "    }\n",
              "    90% {\n",
              "      border-color: transparent;\n",
              "      border-bottom-color: var(--fill-color);\n",
              "    }\n",
              "  }\n",
              "</style>\n",
              "\n",
              "      <script>\n",
              "        async function quickchart(key) {\n",
              "          const quickchartButtonEl =\n",
              "            document.querySelector('#' + key + ' button');\n",
              "          quickchartButtonEl.disabled = true;  // To prevent multiple clicks.\n",
              "          quickchartButtonEl.classList.add('colab-df-spinner');\n",
              "          try {\n",
              "            const charts = await google.colab.kernel.invokeFunction(\n",
              "                'suggestCharts', [key], {});\n",
              "          } catch (error) {\n",
              "            console.error('Error during call to suggestCharts:', error);\n",
              "          }\n",
              "          quickchartButtonEl.classList.remove('colab-df-spinner');\n",
              "          quickchartButtonEl.classList.add('colab-df-quickchart-complete');\n",
              "        }\n",
              "        (() => {\n",
              "          let quickchartButtonEl =\n",
              "            document.querySelector('#df-48bb494d-fc27-4864-b72b-6ff099a06ea0 button');\n",
              "          quickchartButtonEl.style.display =\n",
              "            google.colab.kernel.accessAllowed ? 'block' : 'none';\n",
              "        })();\n",
              "      </script>\n",
              "    </div>\n",
              "\n",
              "    </div>\n",
              "  </div>\n"
            ],
            "application/vnd.google.colaboratory.intrinsic+json": {
              "type": "dataframe",
              "variable_name": "dataset",
              "summary": "{\n  \"name\": \"dataset\",\n  \"rows\": 2650,\n  \"fields\": [\n    {\n      \"column\": \"Date\",\n      \"properties\": {\n        \"dtype\": \"object\",\n        \"num_unique_values\": 2650,\n        \"samples\": [\n          \"11/25/2019\",\n          \"8/1/2017\",\n          \"3/9/2016\"\n        ],\n        \"semantic_type\": \"\",\n        \"description\": \"\"\n      }\n    },\n    {\n      \"column\": \"Open\",\n      \"properties\": {\n        \"dtype\": \"number\",\n        \"std\": 52.95152843614226,\n        \"min\": 165.2892562,\n        \"max\": 473.8292011,\n        \"num_unique_values\": 1331,\n        \"samples\": [\n          236.0487997,\n          248.0909091,\n          276.3636364\n        ],\n        \"semantic_type\": \"\",\n        \"description\": \"\"\n      }\n    },\n    {\n      \"column\": \"High\",\n      \"properties\": {\n        \"dtype\": \"number\",\n        \"std\": 53.99601397039166,\n        \"min\": 167.6505313,\n        \"max\": 476.1904762,\n        \"num_unique_values\": 1308,\n        \"samples\": [\n          242.5619835,\n          230.5785124,\n          249.4293585\n        ],\n        \"semantic_type\": \"\",\n        \"description\": \"\"\n      }\n    },\n    {\n      \"column\": \"Low\",\n      \"properties\": {\n        \"dtype\": \"number\",\n        \"std\": 51.38910733362093,\n        \"min\": 161.3537977,\n        \"max\": 449.4293585,\n        \"num_unique_values\": 1295,\n        \"samples\": [\n          218.9689099,\n          312.8689492,\n          211.0979929\n        ],\n        \"semantic_type\": \"\",\n        \"description\": \"\"\n      }\n    },\n    {\n      \"column\": \"Close\",\n      \"properties\": {\n        \"dtype\": \"number\",\n        \"std\": 52.439549092672266,\n        \"min\": 164.8170012,\n        \"max\": 466.824085,\n        \"num_unique_values\": 1658,\n        \"samples\": [\n          296.0909091,\n          380.4014168,\n          282.0936639\n        ],\n        \"semantic_type\": \"\",\n        \"description\": \"\"\n      }\n    },\n    {\n      \"column\": \"Volume\",\n      \"properties\": {\n        \"dtype\": \"number\",\n        \"std\": 88551,\n        \"min\": 0,\n        \"max\": 1036185,\n        \"num_unique_values\": 2380,\n        \"samples\": [\n          2391,\n          319363,\n          31423\n        ],\n        \"semantic_type\": \"\",\n        \"description\": \"\"\n      }\n    }\n  ]\n}"
            }
          },
          "metadata": {},
          "execution_count": 94
        }
      ],
      "source": [
        "dataset.head()"
      ]
    },
    {
      "cell_type": "code",
      "execution_count": null,
      "metadata": {
        "colab": {
          "base_uri": "https://localhost:8080/",
          "height": 206
        },
        "id": "xFRtDAQWsarl",
        "outputId": "fa5d0877-ec8a-48fd-a609-9958d1eee588"
      },
      "outputs": [
        {
          "output_type": "execute_result",
          "data": {
            "text/plain": [
              "           Date   Open   High    Low  Close  Volume\n",
              "2645  2/14/2024  256.3  259.6  255.0  257.2   29754\n",
              "2646  2/15/2024  257.2  260.0  254.4  255.3   22813\n",
              "2647  2/18/2024  255.0  258.0  245.1  249.3   24703\n",
              "2648  2/19/2024  255.0  257.7  250.2  255.3   19892\n",
              "2649  2/20/2024  251.0  257.8  251.0  253.3   18864"
            ],
            "text/html": [
              "\n",
              "  <div id=\"df-289b75c8-c182-4466-b07b-f3a5ab133359\" class=\"colab-df-container\">\n",
              "    <div>\n",
              "<style scoped>\n",
              "    .dataframe tbody tr th:only-of-type {\n",
              "        vertical-align: middle;\n",
              "    }\n",
              "\n",
              "    .dataframe tbody tr th {\n",
              "        vertical-align: top;\n",
              "    }\n",
              "\n",
              "    .dataframe thead th {\n",
              "        text-align: right;\n",
              "    }\n",
              "</style>\n",
              "<table border=\"1\" class=\"dataframe\">\n",
              "  <thead>\n",
              "    <tr style=\"text-align: right;\">\n",
              "      <th></th>\n",
              "      <th>Date</th>\n",
              "      <th>Open</th>\n",
              "      <th>High</th>\n",
              "      <th>Low</th>\n",
              "      <th>Close</th>\n",
              "      <th>Volume</th>\n",
              "    </tr>\n",
              "  </thead>\n",
              "  <tbody>\n",
              "    <tr>\n",
              "      <th>2645</th>\n",
              "      <td>2/14/2024</td>\n",
              "      <td>256.3</td>\n",
              "      <td>259.6</td>\n",
              "      <td>255.0</td>\n",
              "      <td>257.2</td>\n",
              "      <td>29754</td>\n",
              "    </tr>\n",
              "    <tr>\n",
              "      <th>2646</th>\n",
              "      <td>2/15/2024</td>\n",
              "      <td>257.2</td>\n",
              "      <td>260.0</td>\n",
              "      <td>254.4</td>\n",
              "      <td>255.3</td>\n",
              "      <td>22813</td>\n",
              "    </tr>\n",
              "    <tr>\n",
              "      <th>2647</th>\n",
              "      <td>2/18/2024</td>\n",
              "      <td>255.0</td>\n",
              "      <td>258.0</td>\n",
              "      <td>245.1</td>\n",
              "      <td>249.3</td>\n",
              "      <td>24703</td>\n",
              "    </tr>\n",
              "    <tr>\n",
              "      <th>2648</th>\n",
              "      <td>2/19/2024</td>\n",
              "      <td>255.0</td>\n",
              "      <td>257.7</td>\n",
              "      <td>250.2</td>\n",
              "      <td>255.3</td>\n",
              "      <td>19892</td>\n",
              "    </tr>\n",
              "    <tr>\n",
              "      <th>2649</th>\n",
              "      <td>2/20/2024</td>\n",
              "      <td>251.0</td>\n",
              "      <td>257.8</td>\n",
              "      <td>251.0</td>\n",
              "      <td>253.3</td>\n",
              "      <td>18864</td>\n",
              "    </tr>\n",
              "  </tbody>\n",
              "</table>\n",
              "</div>\n",
              "    <div class=\"colab-df-buttons\">\n",
              "\n",
              "  <div class=\"colab-df-container\">\n",
              "    <button class=\"colab-df-convert\" onclick=\"convertToInteractive('df-289b75c8-c182-4466-b07b-f3a5ab133359')\"\n",
              "            title=\"Convert this dataframe to an interactive table.\"\n",
              "            style=\"display:none;\">\n",
              "\n",
              "  <svg xmlns=\"http://www.w3.org/2000/svg\" height=\"24px\" viewBox=\"0 -960 960 960\">\n",
              "    <path d=\"M120-120v-720h720v720H120Zm60-500h600v-160H180v160Zm220 220h160v-160H400v160Zm0 220h160v-160H400v160ZM180-400h160v-160H180v160Zm440 0h160v-160H620v160ZM180-180h160v-160H180v160Zm440 0h160v-160H620v160Z\"/>\n",
              "  </svg>\n",
              "    </button>\n",
              "\n",
              "  <style>\n",
              "    .colab-df-container {\n",
              "      display:flex;\n",
              "      gap: 12px;\n",
              "    }\n",
              "\n",
              "    .colab-df-convert {\n",
              "      background-color: #E8F0FE;\n",
              "      border: none;\n",
              "      border-radius: 50%;\n",
              "      cursor: pointer;\n",
              "      display: none;\n",
              "      fill: #1967D2;\n",
              "      height: 32px;\n",
              "      padding: 0 0 0 0;\n",
              "      width: 32px;\n",
              "    }\n",
              "\n",
              "    .colab-df-convert:hover {\n",
              "      background-color: #E2EBFA;\n",
              "      box-shadow: 0px 1px 2px rgba(60, 64, 67, 0.3), 0px 1px 3px 1px rgba(60, 64, 67, 0.15);\n",
              "      fill: #174EA6;\n",
              "    }\n",
              "\n",
              "    .colab-df-buttons div {\n",
              "      margin-bottom: 4px;\n",
              "    }\n",
              "\n",
              "    [theme=dark] .colab-df-convert {\n",
              "      background-color: #3B4455;\n",
              "      fill: #D2E3FC;\n",
              "    }\n",
              "\n",
              "    [theme=dark] .colab-df-convert:hover {\n",
              "      background-color: #434B5C;\n",
              "      box-shadow: 0px 1px 3px 1px rgba(0, 0, 0, 0.15);\n",
              "      filter: drop-shadow(0px 1px 2px rgba(0, 0, 0, 0.3));\n",
              "      fill: #FFFFFF;\n",
              "    }\n",
              "  </style>\n",
              "\n",
              "    <script>\n",
              "      const buttonEl =\n",
              "        document.querySelector('#df-289b75c8-c182-4466-b07b-f3a5ab133359 button.colab-df-convert');\n",
              "      buttonEl.style.display =\n",
              "        google.colab.kernel.accessAllowed ? 'block' : 'none';\n",
              "\n",
              "      async function convertToInteractive(key) {\n",
              "        const element = document.querySelector('#df-289b75c8-c182-4466-b07b-f3a5ab133359');\n",
              "        const dataTable =\n",
              "          await google.colab.kernel.invokeFunction('convertToInteractive',\n",
              "                                                    [key], {});\n",
              "        if (!dataTable) return;\n",
              "\n",
              "        const docLinkHtml = 'Like what you see? Visit the ' +\n",
              "          '<a target=\"_blank\" href=https://colab.research.google.com/notebooks/data_table.ipynb>data table notebook</a>'\n",
              "          + ' to learn more about interactive tables.';\n",
              "        element.innerHTML = '';\n",
              "        dataTable['output_type'] = 'display_data';\n",
              "        await google.colab.output.renderOutput(dataTable, element);\n",
              "        const docLink = document.createElement('div');\n",
              "        docLink.innerHTML = docLinkHtml;\n",
              "        element.appendChild(docLink);\n",
              "      }\n",
              "    </script>\n",
              "  </div>\n",
              "\n",
              "\n",
              "    <div id=\"df-603d87fc-a346-4360-8c33-161a539acad2\">\n",
              "      <button class=\"colab-df-quickchart\" onclick=\"quickchart('df-603d87fc-a346-4360-8c33-161a539acad2')\"\n",
              "                title=\"Suggest charts\"\n",
              "                style=\"display:none;\">\n",
              "\n",
              "<svg xmlns=\"http://www.w3.org/2000/svg\" height=\"24px\"viewBox=\"0 0 24 24\"\n",
              "     width=\"24px\">\n",
              "    <g>\n",
              "        <path d=\"M19 3H5c-1.1 0-2 .9-2 2v14c0 1.1.9 2 2 2h14c1.1 0 2-.9 2-2V5c0-1.1-.9-2-2-2zM9 17H7v-7h2v7zm4 0h-2V7h2v10zm4 0h-2v-4h2v4z\"/>\n",
              "    </g>\n",
              "</svg>\n",
              "      </button>\n",
              "\n",
              "<style>\n",
              "  .colab-df-quickchart {\n",
              "      --bg-color: #E8F0FE;\n",
              "      --fill-color: #1967D2;\n",
              "      --hover-bg-color: #E2EBFA;\n",
              "      --hover-fill-color: #174EA6;\n",
              "      --disabled-fill-color: #AAA;\n",
              "      --disabled-bg-color: #DDD;\n",
              "  }\n",
              "\n",
              "  [theme=dark] .colab-df-quickchart {\n",
              "      --bg-color: #3B4455;\n",
              "      --fill-color: #D2E3FC;\n",
              "      --hover-bg-color: #434B5C;\n",
              "      --hover-fill-color: #FFFFFF;\n",
              "      --disabled-bg-color: #3B4455;\n",
              "      --disabled-fill-color: #666;\n",
              "  }\n",
              "\n",
              "  .colab-df-quickchart {\n",
              "    background-color: var(--bg-color);\n",
              "    border: none;\n",
              "    border-radius: 50%;\n",
              "    cursor: pointer;\n",
              "    display: none;\n",
              "    fill: var(--fill-color);\n",
              "    height: 32px;\n",
              "    padding: 0;\n",
              "    width: 32px;\n",
              "  }\n",
              "\n",
              "  .colab-df-quickchart:hover {\n",
              "    background-color: var(--hover-bg-color);\n",
              "    box-shadow: 0 1px 2px rgba(60, 64, 67, 0.3), 0 1px 3px 1px rgba(60, 64, 67, 0.15);\n",
              "    fill: var(--button-hover-fill-color);\n",
              "  }\n",
              "\n",
              "  .colab-df-quickchart-complete:disabled,\n",
              "  .colab-df-quickchart-complete:disabled:hover {\n",
              "    background-color: var(--disabled-bg-color);\n",
              "    fill: var(--disabled-fill-color);\n",
              "    box-shadow: none;\n",
              "  }\n",
              "\n",
              "  .colab-df-spinner {\n",
              "    border: 2px solid var(--fill-color);\n",
              "    border-color: transparent;\n",
              "    border-bottom-color: var(--fill-color);\n",
              "    animation:\n",
              "      spin 1s steps(1) infinite;\n",
              "  }\n",
              "\n",
              "  @keyframes spin {\n",
              "    0% {\n",
              "      border-color: transparent;\n",
              "      border-bottom-color: var(--fill-color);\n",
              "      border-left-color: var(--fill-color);\n",
              "    }\n",
              "    20% {\n",
              "      border-color: transparent;\n",
              "      border-left-color: var(--fill-color);\n",
              "      border-top-color: var(--fill-color);\n",
              "    }\n",
              "    30% {\n",
              "      border-color: transparent;\n",
              "      border-left-color: var(--fill-color);\n",
              "      border-top-color: var(--fill-color);\n",
              "      border-right-color: var(--fill-color);\n",
              "    }\n",
              "    40% {\n",
              "      border-color: transparent;\n",
              "      border-right-color: var(--fill-color);\n",
              "      border-top-color: var(--fill-color);\n",
              "    }\n",
              "    60% {\n",
              "      border-color: transparent;\n",
              "      border-right-color: var(--fill-color);\n",
              "    }\n",
              "    80% {\n",
              "      border-color: transparent;\n",
              "      border-right-color: var(--fill-color);\n",
              "      border-bottom-color: var(--fill-color);\n",
              "    }\n",
              "    90% {\n",
              "      border-color: transparent;\n",
              "      border-bottom-color: var(--fill-color);\n",
              "    }\n",
              "  }\n",
              "</style>\n",
              "\n",
              "      <script>\n",
              "        async function quickchart(key) {\n",
              "          const quickchartButtonEl =\n",
              "            document.querySelector('#' + key + ' button');\n",
              "          quickchartButtonEl.disabled = true;  // To prevent multiple clicks.\n",
              "          quickchartButtonEl.classList.add('colab-df-spinner');\n",
              "          try {\n",
              "            const charts = await google.colab.kernel.invokeFunction(\n",
              "                'suggestCharts', [key], {});\n",
              "          } catch (error) {\n",
              "            console.error('Error during call to suggestCharts:', error);\n",
              "          }\n",
              "          quickchartButtonEl.classList.remove('colab-df-spinner');\n",
              "          quickchartButtonEl.classList.add('colab-df-quickchart-complete');\n",
              "        }\n",
              "        (() => {\n",
              "          let quickchartButtonEl =\n",
              "            document.querySelector('#df-603d87fc-a346-4360-8c33-161a539acad2 button');\n",
              "          quickchartButtonEl.style.display =\n",
              "            google.colab.kernel.accessAllowed ? 'block' : 'none';\n",
              "        })();\n",
              "      </script>\n",
              "    </div>\n",
              "\n",
              "    </div>\n",
              "  </div>\n"
            ],
            "application/vnd.google.colaboratory.intrinsic+json": {
              "type": "dataframe",
              "repr_error": "0"
            }
          },
          "metadata": {},
          "execution_count": 95
        }
      ],
      "source": [
        "dataset.tail()"
      ]
    },
    {
      "cell_type": "code",
      "source": [
        "#Statistical measure of dataset\n",
        "dataset.describe()"
      ],
      "metadata": {
        "colab": {
          "base_uri": "https://localhost:8080/",
          "height": 300
        },
        "id": "XtMQy7HsUJ-P",
        "outputId": "f805cbba-04a1-47df-a632-ddfdb92b8458"
      },
      "execution_count": null,
      "outputs": [
        {
          "output_type": "execute_result",
          "data": {
            "text/plain": [
              "              Open         High          Low        Close        Volume\n",
              "count  2650.000000  2650.000000  2650.000000  2650.000000  2.650000e+03\n",
              "mean    249.676203   253.078529   245.504566   248.377089  4.596915e+04\n",
              "std      52.951528    53.996014    51.389107    52.439549  8.855168e+04\n",
              "min     165.289256   167.650531   161.353798   164.817001  0.000000e+00\n",
              "25%     213.242818   216.450217   210.940575   212.652499  6.259000e+03\n",
              "50%     253.443526   256.316411   250.295159   252.262889  1.680000e+04\n",
              "75%     272.550177   277.000000   268.181818   271.704053  4.732150e+04\n",
              "max     473.829201   476.190476   449.429358   466.824085  1.036185e+06"
            ],
            "text/html": [
              "\n",
              "  <div id=\"df-860458c8-a592-43dc-a30e-de2fbcfcaa91\" class=\"colab-df-container\">\n",
              "    <div>\n",
              "<style scoped>\n",
              "    .dataframe tbody tr th:only-of-type {\n",
              "        vertical-align: middle;\n",
              "    }\n",
              "\n",
              "    .dataframe tbody tr th {\n",
              "        vertical-align: top;\n",
              "    }\n",
              "\n",
              "    .dataframe thead th {\n",
              "        text-align: right;\n",
              "    }\n",
              "</style>\n",
              "<table border=\"1\" class=\"dataframe\">\n",
              "  <thead>\n",
              "    <tr style=\"text-align: right;\">\n",
              "      <th></th>\n",
              "      <th>Open</th>\n",
              "      <th>High</th>\n",
              "      <th>Low</th>\n",
              "      <th>Close</th>\n",
              "      <th>Volume</th>\n",
              "    </tr>\n",
              "  </thead>\n",
              "  <tbody>\n",
              "    <tr>\n",
              "      <th>count</th>\n",
              "      <td>2650.000000</td>\n",
              "      <td>2650.000000</td>\n",
              "      <td>2650.000000</td>\n",
              "      <td>2650.000000</td>\n",
              "      <td>2.650000e+03</td>\n",
              "    </tr>\n",
              "    <tr>\n",
              "      <th>mean</th>\n",
              "      <td>249.676203</td>\n",
              "      <td>253.078529</td>\n",
              "      <td>245.504566</td>\n",
              "      <td>248.377089</td>\n",
              "      <td>4.596915e+04</td>\n",
              "    </tr>\n",
              "    <tr>\n",
              "      <th>std</th>\n",
              "      <td>52.951528</td>\n",
              "      <td>53.996014</td>\n",
              "      <td>51.389107</td>\n",
              "      <td>52.439549</td>\n",
              "      <td>8.855168e+04</td>\n",
              "    </tr>\n",
              "    <tr>\n",
              "      <th>min</th>\n",
              "      <td>165.289256</td>\n",
              "      <td>167.650531</td>\n",
              "      <td>161.353798</td>\n",
              "      <td>164.817001</td>\n",
              "      <td>0.000000e+00</td>\n",
              "    </tr>\n",
              "    <tr>\n",
              "      <th>25%</th>\n",
              "      <td>213.242818</td>\n",
              "      <td>216.450217</td>\n",
              "      <td>210.940575</td>\n",
              "      <td>212.652499</td>\n",
              "      <td>6.259000e+03</td>\n",
              "    </tr>\n",
              "    <tr>\n",
              "      <th>50%</th>\n",
              "      <td>253.443526</td>\n",
              "      <td>256.316411</td>\n",
              "      <td>250.295159</td>\n",
              "      <td>252.262889</td>\n",
              "      <td>1.680000e+04</td>\n",
              "    </tr>\n",
              "    <tr>\n",
              "      <th>75%</th>\n",
              "      <td>272.550177</td>\n",
              "      <td>277.000000</td>\n",
              "      <td>268.181818</td>\n",
              "      <td>271.704053</td>\n",
              "      <td>4.732150e+04</td>\n",
              "    </tr>\n",
              "    <tr>\n",
              "      <th>max</th>\n",
              "      <td>473.829201</td>\n",
              "      <td>476.190476</td>\n",
              "      <td>449.429358</td>\n",
              "      <td>466.824085</td>\n",
              "      <td>1.036185e+06</td>\n",
              "    </tr>\n",
              "  </tbody>\n",
              "</table>\n",
              "</div>\n",
              "    <div class=\"colab-df-buttons\">\n",
              "\n",
              "  <div class=\"colab-df-container\">\n",
              "    <button class=\"colab-df-convert\" onclick=\"convertToInteractive('df-860458c8-a592-43dc-a30e-de2fbcfcaa91')\"\n",
              "            title=\"Convert this dataframe to an interactive table.\"\n",
              "            style=\"display:none;\">\n",
              "\n",
              "  <svg xmlns=\"http://www.w3.org/2000/svg\" height=\"24px\" viewBox=\"0 -960 960 960\">\n",
              "    <path d=\"M120-120v-720h720v720H120Zm60-500h600v-160H180v160Zm220 220h160v-160H400v160Zm0 220h160v-160H400v160ZM180-400h160v-160H180v160Zm440 0h160v-160H620v160ZM180-180h160v-160H180v160Zm440 0h160v-160H620v160Z\"/>\n",
              "  </svg>\n",
              "    </button>\n",
              "\n",
              "  <style>\n",
              "    .colab-df-container {\n",
              "      display:flex;\n",
              "      gap: 12px;\n",
              "    }\n",
              "\n",
              "    .colab-df-convert {\n",
              "      background-color: #E8F0FE;\n",
              "      border: none;\n",
              "      border-radius: 50%;\n",
              "      cursor: pointer;\n",
              "      display: none;\n",
              "      fill: #1967D2;\n",
              "      height: 32px;\n",
              "      padding: 0 0 0 0;\n",
              "      width: 32px;\n",
              "    }\n",
              "\n",
              "    .colab-df-convert:hover {\n",
              "      background-color: #E2EBFA;\n",
              "      box-shadow: 0px 1px 2px rgba(60, 64, 67, 0.3), 0px 1px 3px 1px rgba(60, 64, 67, 0.15);\n",
              "      fill: #174EA6;\n",
              "    }\n",
              "\n",
              "    .colab-df-buttons div {\n",
              "      margin-bottom: 4px;\n",
              "    }\n",
              "\n",
              "    [theme=dark] .colab-df-convert {\n",
              "      background-color: #3B4455;\n",
              "      fill: #D2E3FC;\n",
              "    }\n",
              "\n",
              "    [theme=dark] .colab-df-convert:hover {\n",
              "      background-color: #434B5C;\n",
              "      box-shadow: 0px 1px 3px 1px rgba(0, 0, 0, 0.15);\n",
              "      filter: drop-shadow(0px 1px 2px rgba(0, 0, 0, 0.3));\n",
              "      fill: #FFFFFF;\n",
              "    }\n",
              "  </style>\n",
              "\n",
              "    <script>\n",
              "      const buttonEl =\n",
              "        document.querySelector('#df-860458c8-a592-43dc-a30e-de2fbcfcaa91 button.colab-df-convert');\n",
              "      buttonEl.style.display =\n",
              "        google.colab.kernel.accessAllowed ? 'block' : 'none';\n",
              "\n",
              "      async function convertToInteractive(key) {\n",
              "        const element = document.querySelector('#df-860458c8-a592-43dc-a30e-de2fbcfcaa91');\n",
              "        const dataTable =\n",
              "          await google.colab.kernel.invokeFunction('convertToInteractive',\n",
              "                                                    [key], {});\n",
              "        if (!dataTable) return;\n",
              "\n",
              "        const docLinkHtml = 'Like what you see? Visit the ' +\n",
              "          '<a target=\"_blank\" href=https://colab.research.google.com/notebooks/data_table.ipynb>data table notebook</a>'\n",
              "          + ' to learn more about interactive tables.';\n",
              "        element.innerHTML = '';\n",
              "        dataTable['output_type'] = 'display_data';\n",
              "        await google.colab.output.renderOutput(dataTable, element);\n",
              "        const docLink = document.createElement('div');\n",
              "        docLink.innerHTML = docLinkHtml;\n",
              "        element.appendChild(docLink);\n",
              "      }\n",
              "    </script>\n",
              "  </div>\n",
              "\n",
              "\n",
              "    <div id=\"df-f0c01013-a93b-4f35-a566-1e3c85adea9c\">\n",
              "      <button class=\"colab-df-quickchart\" onclick=\"quickchart('df-f0c01013-a93b-4f35-a566-1e3c85adea9c')\"\n",
              "                title=\"Suggest charts\"\n",
              "                style=\"display:none;\">\n",
              "\n",
              "<svg xmlns=\"http://www.w3.org/2000/svg\" height=\"24px\"viewBox=\"0 0 24 24\"\n",
              "     width=\"24px\">\n",
              "    <g>\n",
              "        <path d=\"M19 3H5c-1.1 0-2 .9-2 2v14c0 1.1.9 2 2 2h14c1.1 0 2-.9 2-2V5c0-1.1-.9-2-2-2zM9 17H7v-7h2v7zm4 0h-2V7h2v10zm4 0h-2v-4h2v4z\"/>\n",
              "    </g>\n",
              "</svg>\n",
              "      </button>\n",
              "\n",
              "<style>\n",
              "  .colab-df-quickchart {\n",
              "      --bg-color: #E8F0FE;\n",
              "      --fill-color: #1967D2;\n",
              "      --hover-bg-color: #E2EBFA;\n",
              "      --hover-fill-color: #174EA6;\n",
              "      --disabled-fill-color: #AAA;\n",
              "      --disabled-bg-color: #DDD;\n",
              "  }\n",
              "\n",
              "  [theme=dark] .colab-df-quickchart {\n",
              "      --bg-color: #3B4455;\n",
              "      --fill-color: #D2E3FC;\n",
              "      --hover-bg-color: #434B5C;\n",
              "      --hover-fill-color: #FFFFFF;\n",
              "      --disabled-bg-color: #3B4455;\n",
              "      --disabled-fill-color: #666;\n",
              "  }\n",
              "\n",
              "  .colab-df-quickchart {\n",
              "    background-color: var(--bg-color);\n",
              "    border: none;\n",
              "    border-radius: 50%;\n",
              "    cursor: pointer;\n",
              "    display: none;\n",
              "    fill: var(--fill-color);\n",
              "    height: 32px;\n",
              "    padding: 0;\n",
              "    width: 32px;\n",
              "  }\n",
              "\n",
              "  .colab-df-quickchart:hover {\n",
              "    background-color: var(--hover-bg-color);\n",
              "    box-shadow: 0 1px 2px rgba(60, 64, 67, 0.3), 0 1px 3px 1px rgba(60, 64, 67, 0.15);\n",
              "    fill: var(--button-hover-fill-color);\n",
              "  }\n",
              "\n",
              "  .colab-df-quickchart-complete:disabled,\n",
              "  .colab-df-quickchart-complete:disabled:hover {\n",
              "    background-color: var(--disabled-bg-color);\n",
              "    fill: var(--disabled-fill-color);\n",
              "    box-shadow: none;\n",
              "  }\n",
              "\n",
              "  .colab-df-spinner {\n",
              "    border: 2px solid var(--fill-color);\n",
              "    border-color: transparent;\n",
              "    border-bottom-color: var(--fill-color);\n",
              "    animation:\n",
              "      spin 1s steps(1) infinite;\n",
              "  }\n",
              "\n",
              "  @keyframes spin {\n",
              "    0% {\n",
              "      border-color: transparent;\n",
              "      border-bottom-color: var(--fill-color);\n",
              "      border-left-color: var(--fill-color);\n",
              "    }\n",
              "    20% {\n",
              "      border-color: transparent;\n",
              "      border-left-color: var(--fill-color);\n",
              "      border-top-color: var(--fill-color);\n",
              "    }\n",
              "    30% {\n",
              "      border-color: transparent;\n",
              "      border-left-color: var(--fill-color);\n",
              "      border-top-color: var(--fill-color);\n",
              "      border-right-color: var(--fill-color);\n",
              "    }\n",
              "    40% {\n",
              "      border-color: transparent;\n",
              "      border-right-color: var(--fill-color);\n",
              "      border-top-color: var(--fill-color);\n",
              "    }\n",
              "    60% {\n",
              "      border-color: transparent;\n",
              "      border-right-color: var(--fill-color);\n",
              "    }\n",
              "    80% {\n",
              "      border-color: transparent;\n",
              "      border-right-color: var(--fill-color);\n",
              "      border-bottom-color: var(--fill-color);\n",
              "    }\n",
              "    90% {\n",
              "      border-color: transparent;\n",
              "      border-bottom-color: var(--fill-color);\n",
              "    }\n",
              "  }\n",
              "</style>\n",
              "\n",
              "      <script>\n",
              "        async function quickchart(key) {\n",
              "          const quickchartButtonEl =\n",
              "            document.querySelector('#' + key + ' button');\n",
              "          quickchartButtonEl.disabled = true;  // To prevent multiple clicks.\n",
              "          quickchartButtonEl.classList.add('colab-df-spinner');\n",
              "          try {\n",
              "            const charts = await google.colab.kernel.invokeFunction(\n",
              "                'suggestCharts', [key], {});\n",
              "          } catch (error) {\n",
              "            console.error('Error during call to suggestCharts:', error);\n",
              "          }\n",
              "          quickchartButtonEl.classList.remove('colab-df-spinner');\n",
              "          quickchartButtonEl.classList.add('colab-df-quickchart-complete');\n",
              "        }\n",
              "        (() => {\n",
              "          let quickchartButtonEl =\n",
              "            document.querySelector('#df-f0c01013-a93b-4f35-a566-1e3c85adea9c button');\n",
              "          quickchartButtonEl.style.display =\n",
              "            google.colab.kernel.accessAllowed ? 'block' : 'none';\n",
              "        })();\n",
              "      </script>\n",
              "    </div>\n",
              "\n",
              "    </div>\n",
              "  </div>\n"
            ],
            "application/vnd.google.colaboratory.intrinsic+json": {
              "type": "dataframe",
              "summary": "{\n  \"name\": \"dataset\",\n  \"rows\": 8,\n  \"fields\": [\n    {\n      \"column\": \"Open\",\n      \"properties\": {\n        \"dtype\": \"number\",\n        \"std\": 860.1320526270342,\n        \"min\": 52.95152843614226,\n        \"max\": 2650.0,\n        \"num_unique_values\": 8,\n        \"samples\": [\n          249.67620348754716,\n          253.4435262,\n          2650.0\n        ],\n        \"semantic_type\": \"\",\n        \"description\": \"\"\n      }\n    },\n    {\n      \"column\": \"High\",\n      \"properties\": {\n        \"dtype\": \"number\",\n        \"std\": 859.198276928924,\n        \"min\": 53.99601397039166,\n        \"max\": 2650.0,\n        \"num_unique_values\": 8,\n        \"samples\": [\n          253.0785294028302,\n          256.31641085,\n          2650.0\n        ],\n        \"semantic_type\": \"\",\n        \"description\": \"\"\n      }\n    },\n    {\n      \"column\": \"Low\",\n      \"properties\": {\n        \"dtype\": \"number\",\n        \"std\": 861.4856709847244,\n        \"min\": 51.38910733362093,\n        \"max\": 2650.0,\n        \"num_unique_values\": 8,\n        \"samples\": [\n          245.50456620237736,\n          250.2951594,\n          2650.0\n        ],\n        \"semantic_type\": \"\",\n        \"description\": \"\"\n      }\n    },\n    {\n      \"column\": \"Close\",\n      \"properties\": {\n        \"dtype\": \"number\",\n        \"std\": 860.473935277773,\n        \"min\": 52.439549092672266,\n        \"max\": 2650.0,\n        \"num_unique_values\": 8,\n        \"samples\": [\n          248.37708856483016,\n          252.2628886,\n          2650.0\n        ],\n        \"semantic_type\": \"\",\n        \"description\": \"\"\n      }\n    },\n    {\n      \"column\": \"Volume\",\n      \"properties\": {\n        \"dtype\": \"number\",\n        \"std\": 357139.76263609016,\n        \"min\": 0.0,\n        \"max\": 1036185.0,\n        \"num_unique_values\": 8,\n        \"samples\": [\n          45969.15358490566,\n          16800.0,\n          2650.0\n        ],\n        \"semantic_type\": \"\",\n        \"description\": \"\"\n      }\n    }\n  ]\n}"
            }
          },
          "metadata": {},
          "execution_count": 96
        }
      ]
    },
    {
      "cell_type": "code",
      "source": [
        "# number of missing values in each column\n",
        "dataset.isnull().sum()"
      ],
      "metadata": {
        "colab": {
          "base_uri": "https://localhost:8080/",
          "height": 272
        },
        "id": "P9PIUZz0UOvB",
        "outputId": "0e09a3a8-00a0-4b83-d384-08bba9e93174"
      },
      "execution_count": null,
      "outputs": [
        {
          "output_type": "execute_result",
          "data": {
            "text/plain": [
              "Date      0\n",
              "Open      0\n",
              "High      0\n",
              "Low       0\n",
              "Close     0\n",
              "Volume    0\n",
              "dtype: int64"
            ],
            "text/html": [
              "<div>\n",
              "<style scoped>\n",
              "    .dataframe tbody tr th:only-of-type {\n",
              "        vertical-align: middle;\n",
              "    }\n",
              "\n",
              "    .dataframe tbody tr th {\n",
              "        vertical-align: top;\n",
              "    }\n",
              "\n",
              "    .dataframe thead th {\n",
              "        text-align: right;\n",
              "    }\n",
              "</style>\n",
              "<table border=\"1\" class=\"dataframe\">\n",
              "  <thead>\n",
              "    <tr style=\"text-align: right;\">\n",
              "      <th></th>\n",
              "      <th>0</th>\n",
              "    </tr>\n",
              "  </thead>\n",
              "  <tbody>\n",
              "    <tr>\n",
              "      <th>Date</th>\n",
              "      <td>0</td>\n",
              "    </tr>\n",
              "    <tr>\n",
              "      <th>Open</th>\n",
              "      <td>0</td>\n",
              "    </tr>\n",
              "    <tr>\n",
              "      <th>High</th>\n",
              "      <td>0</td>\n",
              "    </tr>\n",
              "    <tr>\n",
              "      <th>Low</th>\n",
              "      <td>0</td>\n",
              "    </tr>\n",
              "    <tr>\n",
              "      <th>Close</th>\n",
              "      <td>0</td>\n",
              "    </tr>\n",
              "    <tr>\n",
              "      <th>Volume</th>\n",
              "      <td>0</td>\n",
              "    </tr>\n",
              "  </tbody>\n",
              "</table>\n",
              "</div><br><label><b>dtype:</b> int64</label>"
            ]
          },
          "metadata": {},
          "execution_count": 97
        }
      ]
    },
    {
      "cell_type": "code",
      "source": [
        "# Close feature distribution\n",
        "plt.figure(figsize=(6,6))\n",
        "sns.distplot(dataset['Close'])\n",
        "plt.title('Market Close Price')\n",
        "plt.show()"
      ],
      "metadata": {
        "colab": {
          "base_uri": "https://localhost:8080/",
          "height": 755
        },
        "id": "4D45LfHZUcFV",
        "outputId": "1e392e0f-67f2-46bb-b06e-8097a3d080ab"
      },
      "execution_count": null,
      "outputs": [
        {
          "output_type": "stream",
          "name": "stderr",
          "text": [
            "/tmp/ipython-input-2539782210.py:3: UserWarning: \n",
            "\n",
            "`distplot` is a deprecated function and will be removed in seaborn v0.14.0.\n",
            "\n",
            "Please adapt your code to use either `displot` (a figure-level function with\n",
            "similar flexibility) or `histplot` (an axes-level function for histograms).\n",
            "\n",
            "For a guide to updating your code to use the new functions, please see\n",
            "https://gist.github.com/mwaskom/de44147ed2974457ad6372750bbe5751\n",
            "\n",
            "  sns.distplot(dataset['Close'])\n"
          ]
        },
        {
          "output_type": "display_data",
          "data": {
            "text/plain": [
              "<Figure size 600x600 with 1 Axes>"
            ],
            "image/png": "[encoded data removed]"
          },
          "metadata": {}
        }
      ]
    },
    {
      "cell_type": "markdown",
      "source": [
        "# **DATASET PREPROCESSING**"
      ],
      "metadata": {
        "id": "6nBdpOtPWYiw"
      }
    },
    {
      "cell_type": "markdown",
      "source": [
        "We need only \"Close\" feature for predict stock market price.\n",
        "\n",
        "No need other features, so extract \"Close\" from dataset\n"
      ],
      "metadata": {
        "id": "FIqvVLqLUzwh"
      }
    },
    {
      "cell_type": "code",
      "execution_count": null,
      "metadata": {
        "id": "yqBeIZHnsarn"
      },
      "outputs": [],
      "source": [
        "ds_close=dataset.reset_index()['Close']"
      ]
    },
    {
      "cell_type": "code",
      "execution_count": null,
      "metadata": {
        "colab": {
          "base_uri": "https://localhost:8080/"
        },
        "id": "nFMx4wafsarn",
        "outputId": "d07628fc-20d8-4ebf-973e-48f921d7ff0d"
      },
      "outputs": [
        {
          "output_type": "stream",
          "name": "stdout",
          "text": [
            "0       181.503345\n",
            "1       185.202676\n",
            "2       196.615506\n",
            "3       193.860685\n",
            "4       183.943329\n",
            "           ...    \n",
            "2645    257.200000\n",
            "2646    255.300000\n",
            "2647    249.300000\n",
            "2648    255.300000\n",
            "2649    253.300000\n",
            "Name: Close, Length: 2650, dtype: float64\n"
          ]
        }
      ],
      "source": [
        "print(ds_close)"
      ]
    },
    {
      "cell_type": "code",
      "execution_count": null,
      "metadata": {
        "colab": {
          "base_uri": "https://localhost:8080/",
          "height": 447
        },
        "id": "tbypt9Pjsarp",
        "outputId": "c3a4662b-1c90-412a-af6f-68a524909ec6"
      },
      "outputs": [
        {
          "output_type": "execute_result",
          "data": {
            "text/plain": [
              "[<matplotlib.lines.Line2D at 0x7b41d01d50a0>]"
            ]
          },
          "metadata": {},
          "execution_count": 101
        },
        {
          "output_type": "display_data",
          "data": {
            "text/plain": [
              "<Figure size 640x480 with 1 Axes>"
            ],
            "image/png": "[encoded data removed]"
          },
          "metadata": {}
        }
      ],
      "source": [
        "# Ploat \"close\" feature value from dataset\n",
        "import matplotlib.pyplot as plt\n",
        "plt.plot(ds_close)"
      ]
    },
    {
      "cell_type": "code",
      "execution_count": null,
      "metadata": {
        "id": "qGkYnJnQsarr"
      },
      "outputs": [],
      "source": [
        "# Scaled dataset, value between 0-1\n",
        "from sklearn.preprocessing import MinMaxScaler\n",
        "scaler=MinMaxScaler(feature_range=(0,1))\n",
        "ds_close=scaler.fit_transform(np.array(ds_close).reshape(-1,1))"
      ]
    },
    {
      "cell_type": "code",
      "execution_count": null,
      "metadata": {
        "colab": {
          "base_uri": "https://localhost:8080/"
        },
        "id": "qjwHRkoksars",
        "outputId": "d46d7366-ca09-4d6e-8e31-2070e40c86a9"
      },
      "outputs": [
        {
          "output_type": "stream",
          "name": "stdout",
          "text": [
            "[[0.0552515 ]\n",
            " [0.06750065]\n",
            " [0.10529059]\n",
            " ...\n",
            " [0.27973847]\n",
            " [0.29960555]\n",
            " [0.29298319]]\n"
          ]
        }
      ],
      "source": [
        "print(ds_close)"
      ]
    },
    {
      "cell_type": "markdown",
      "source": [
        "This is a time series dataset. its means stock price depend on prevous date stock price"
      ],
      "metadata": {
        "id": "zzsVlROyWbau"
      }
    },
    {
      "cell_type": "markdown",
      "source": [
        "So there are not possible to split dataset by use Cross Validation or randomseed"
      ],
      "metadata": {
        "id": "4RbP1c2aWl_o"
      }
    },
    {
      "cell_type": "markdown",
      "source": [
        "split dataset manually"
      ],
      "metadata": {
        "id": "Gf2DpFfoWwdU"
      }
    },
    {
      "cell_type": "code",
      "execution_count": null,
      "metadata": {
        "id": "jm5752SVsart"
      },
      "outputs": [],
      "source": [
        "##splitting dataset into train and test split\n",
        "train_size=int(len(ds_close)*0.80)\n",
        "test_size=len(ds_close)-train_size\n",
        "train_data,test_data=ds_close[0:train_size,:],ds_close[train_size:len(ds_close),:1]"
      ]
    },
    {
      "cell_type": "code",
      "execution_count": null,
      "metadata": {
        "colab": {
          "base_uri": "https://localhost:8080/"
        },
        "id": "e-SkC2Yfsart",
        "outputId": "a3667de9-2524-44d5-de42-316d2a49c749"
      },
      "outputs": [
        {
          "output_type": "execute_result",
          "data": {
            "text/plain": [
              "(2120, 530)"
            ]
          },
          "metadata": {},
          "execution_count": 105
        }
      ],
      "source": [
        "train_size,test_size"
      ]
    },
    {
      "cell_type": "code",
      "execution_count": null,
      "metadata": {
        "colab": {
          "base_uri": "https://localhost:8080/"
        },
        "collapsed": true,
        "id": "xDoaMk1hsaru",
        "outputId": "e23ec55e-8de6-4336-8b04-05426ea5e218"
      },
      "outputs": [
        {
          "output_type": "execute_result",
          "data": {
            "text/plain": [
              "array([[0.0552515 ],\n",
              "       [0.06750065],\n",
              "       [0.10529059],\n",
              "       ...,\n",
              "       [0.30586396],\n",
              "       [0.27001564],\n",
              "       [0.27603597]])"
            ]
          },
          "metadata": {},
          "execution_count": 106
        }
      ],
      "source": [
        "train_data"
      ]
    },
    {
      "cell_type": "markdown",
      "source": [
        "create dataset by use \"close\" feature.\n",
        "\n",
        "Here features will be previous days data, and target will be predict next days stock close price based on previous days close price."
      ],
      "metadata": {
        "id": "Qf7CnTaXXCdk"
      }
    },
    {
      "cell_type": "markdown",
      "source": [
        "f1--f2--f3--f4------Y\n",
        "\n",
        "140-130-166 187-----156\n",
        "\n",
        "130-166-187-156-----149"
      ],
      "metadata": {
        "id": "_1Yu0oDoXfr2"
      }
    },
    {
      "cell_type": "code",
      "execution_count": null,
      "metadata": {
        "id": "5Vm6kZiCsarv"
      },
      "outputs": [],
      "source": [
        "import numpy as np\n",
        "# convert an array of values into a dataset matrix\n",
        "def create_dataset(dataset, time_step=1):\n",
        "\tdataX, dataY = [], []\n",
        "\tfor i in range(len(dataset)-time_step-1):\n",
        "\t\ta = dataset[i:(i+time_step), 0]   # i=0, 0,1,2,3-----99   100\n",
        "\t\tdataX.append(a)\n",
        "\t\tdataY.append(dataset[i + time_step, 0])\n",
        "\treturn np.array(dataX), np.array(dataY)"
      ]
    },
    {
      "cell_type": "code",
      "execution_count": null,
      "metadata": {
        "id": "eqWPocPosarw"
      },
      "outputs": [],
      "source": [
        "# reshape into X=t,t+1,t+2,t+3 and Y=t+4\n",
        "time_step = 100\n",
        "X_train, Y_train = create_dataset(train_data, time_step)\n",
        "X_test, Y_test = create_dataset(test_data, time_step)"
      ]
    },
    {
      "cell_type": "code",
      "execution_count": null,
      "metadata": {
        "colab": {
          "base_uri": "https://localhost:8080/"
        },
        "id": "Ke24YC4Dsarw",
        "outputId": "fdb940b2-3c94-4963-9633-462d5a80754d"
      },
      "outputs": [
        {
          "output_type": "stream",
          "name": "stdout",
          "text": [
            "(2019, 100)\n",
            "(2019,)\n"
          ]
        },
        {
          "output_type": "execute_result",
          "data": {
            "text/plain": [
              "(None, None)"
            ]
          },
          "metadata": {},
          "execution_count": 109
        }
      ],
      "source": [
        "print(X_train.shape), print(Y_train.shape)"
      ]
    },
    {
      "cell_type": "code",
      "execution_count": null,
      "metadata": {
        "colab": {
          "base_uri": "https://localhost:8080/"
        },
        "id": "-W5-hmOJsarx",
        "outputId": "99d47889-8512-46e7-a9e1-4faa4de610c3"
      },
      "outputs": [
        {
          "output_type": "stream",
          "name": "stdout",
          "text": [
            "(429, 100)\n",
            "(429,)\n"
          ]
        },
        {
          "output_type": "execute_result",
          "data": {
            "text/plain": [
              "(None, None)"
            ]
          },
          "metadata": {},
          "execution_count": 110
        }
      ],
      "source": [
        "print(X_test.shape), print(Y_test.shape)"
      ]
    },
    {
      "cell_type": "code",
      "execution_count": null,
      "metadata": {
        "id": "lmuXY3FJsary"
      },
      "outputs": [],
      "source": [
        "# reshape input to be [samples, time steps, features] which is required for LSTM\n",
        "X_train =X_train.reshape(X_train.shape[0],X_train.shape[1] , 1)\n",
        "X_test = X_test.reshape(X_test.shape[0],X_test.shape[1] , 1)"
      ]
    },
    {
      "cell_type": "markdown",
      "source": [
        "# **LSTM Model**"
      ],
      "metadata": {
        "id": "ZsJa-v4jYPOy"
      }
    },
    {
      "cell_type": "code",
      "execution_count": null,
      "metadata": {
        "id": "zYZrlaCHsarz"
      },
      "outputs": [],
      "source": [
        "### Create the Stacked LSTM model\n",
        "from tensorflow.keras.models import Sequential\n",
        "from tensorflow.keras.layers import Dense\n",
        "from tensorflow.keras.layers import LSTM"
      ]
    },
    {
      "cell_type": "code",
      "execution_count": null,
      "metadata": {
        "id": "LZaYYTBHsarz"
      },
      "outputs": [],
      "source": [
        "# model=Sequential()\n",
        "# model.add(LSTM(50,return_sequences=True,input_shape=(100,1)))\n",
        "# model.add(LSTM(50,return_sequences=True))\n",
        "# model.add(LSTM(50))\n",
        "# model.add(Dense(1))\n",
        "# model.compile(loss='mean_squared_error',optimizer='adam')\n"
      ]
    },
    {
      "cell_type": "markdown",
      "source": [
        "LSTM Model arcitecture summary"
      ],
      "metadata": {
        "id": "yBWmGRjRXQFf"
      }
    },
    {
      "cell_type": "code",
      "source": [
        "from tensorflow.keras.models import Sequential\n",
        "from tensorflow.keras.layers import LSTM, Dense, Dropout, Bidirectional, BatchNormalization\n",
        "\n",
        "model = Sequential()\n",
        "model.add(Bidirectional(LSTM(128, return_sequences=True), input_shape=(100,1)))\n",
        "model.add(Dropout(0.3))\n",
        "model.add(Bidirectional(LSTM(64, return_sequences=True)))\n",
        "model.add(Dropout(0.3))\n",
        "model.add(Bidirectional(LSTM(32)))\n",
        "model.add(Dense(64, activation='relu'))\n",
        "model.add(Dense(1))\n",
        "\n",
        "model.compile(loss='mae', optimizer='adam')\n"
      ],
      "metadata": {
        "colab": {
          "base_uri": "https://localhost:8080/"
        },
        "id": "QzLUwkDP3HfH",
        "outputId": "b1433ac6-2a79-421d-9ede-7eba337d8900"
      },
      "execution_count": null,
      "outputs": [
        {
          "output_type": "stream",
          "name": "stderr",
          "text": [
            "/usr/local/lib/python3.12/dist-packages/keras/src/layers/rnn/bidirectional.py:107: UserWarning: Do not pass an `input_shape`/`input_dim` argument to a layer. When using Sequential models, prefer using an `Input(shape)` object as the first layer in the model instead.\n",
            "  super().__init__(**kwargs)\n"
          ]
        }
      ]
    },
    {
      "cell_type": "code",
      "execution_count": null,
      "metadata": {
        "colab": {
          "base_uri": "https://localhost:8080/",
          "height": 353
        },
        "id": "LIaif9CVsar0",
        "outputId": "5b8333dd-a7cf-4920-af97-e569b1c6bf33"
      },
      "outputs": [
        {
          "output_type": "display_data",
          "data": {
            "text/plain": [
              "\u001b[1mModel: \"sequential_1\"\u001b[0m\n"
            ],
            "text/html": [
              "<pre style=\"white-space:pre;overflow-x:auto;line-height:normal;font-family:Menlo,'DejaVu Sans Mono',consolas,'Courier New',monospace\"><span style=\"font-weight: bold\">Model: \"sequential_1\"</span>\n",
              "</pre>\n"
            ]
          },
          "metadata": {}
        },
        {
          "output_type": "display_data",
          "data": {
            "text/plain": [
              "┏━━━━━━━━━━━━━━━━━━━━━━━━━━━━━━━━━┳━━━━━━━━━━━━━━━━━━━━━━━━┳━━━━━━━━━━━━━━━┓\n",
              "┃\u001b[1m \u001b[0m\u001b[1mLayer (type)                   \u001b[0m\u001b[1m \u001b[0m┃\u001b[1m \u001b[0m\u001b[1mOutput Shape          \u001b[0m\u001b[1m \u001b[0m┃\u001b[1m \u001b[0m\u001b[1m      Param #\u001b[0m\u001b[1m \u001b[0m┃\n",
              "┡━━━━━━━━━━━━━━━━━━━━━━━━━━━━━━━━━╇━━━━━━━━━━━━━━━━━━━━━━━━╇━━━━━━━━━━━━━━━┩\n",
              "│ bidirectional_3 (\u001b[38;5;33mBidirectional\u001b[0m) │ (\u001b[38;5;45mNone\u001b[0m, \u001b[38;5;34m100\u001b[0m, \u001b[38;5;34m256\u001b[0m)       │       \u001b[38;5;34m133,120\u001b[0m │\n",
              "├─────────────────────────────────┼────────────────────────┼───────────────┤\n",
              "│ dropout_2 (\u001b[38;5;33mDropout\u001b[0m)             │ (\u001b[38;5;45mNone\u001b[0m, \u001b[38;5;34m100\u001b[0m, \u001b[38;5;34m256\u001b[0m)       │             \u001b[38;5;34m0\u001b[0m │\n",
              "├─────────────────────────────────┼────────────────────────┼───────────────┤\n",
              "│ bidirectional_4 (\u001b[38;5;33mBidirectional\u001b[0m) │ (\u001b[38;5;45mNone\u001b[0m, \u001b[38;5;34m100\u001b[0m, \u001b[38;5;34m128\u001b[0m)       │       \u001b[38;5;34m164,352\u001b[0m │\n",
              "├─────────────────────────────────┼────────────────────────┼───────────────┤\n",
              "│ dropout_3 (\u001b[38;5;33mDropout\u001b[0m)             │ (\u001b[38;5;45mNone\u001b[0m, \u001b[38;5;34m100\u001b[0m, \u001b[38;5;34m128\u001b[0m)       │             \u001b[38;5;34m0\u001b[0m │\n",
              "├─────────────────────────────────┼────────────────────────┼───────────────┤\n",
              "│ bidirectional_5 (\u001b[38;5;33mBidirectional\u001b[0m) │ (\u001b[38;5;45mNone\u001b[0m, \u001b[38;5;34m64\u001b[0m)             │        \u001b[38;5;34m41,216\u001b[0m │\n",
              "├─────────────────────────────────┼────────────────────────┼───────────────┤\n",
              "│ dense_2 (\u001b[38;5;33mDense\u001b[0m)                 │ (\u001b[38;5;45mNone\u001b[0m, \u001b[38;5;34m64\u001b[0m)             │         \u001b[38;5;34m4,160\u001b[0m │\n",
              "├─────────────────────────────────┼────────────────────────┼───────────────┤\n",
              "│ dense_3 (\u001b[38;5;33mDense\u001b[0m)                 │ (\u001b[38;5;45mNone\u001b[0m, \u001b[38;5;34m1\u001b[0m)              │            \u001b[38;5;34m65\u001b[0m │\n",
              "└─────────────────────────────────┴────────────────────────┴───────────────┘\n"
            ],
            "text/html": [
              "<pre style=\"white-space:pre;overflow-x:auto;line-height:normal;font-family:Menlo,'DejaVu Sans Mono',consolas,'Courier New',monospace\">┏━━━━━━━━━━━━━━━━━━━━━━━━━━━━━━━━━┳━━━━━━━━━━━━━━━━━━━━━━━━┳━━━━━━━━━━━━━━━┓\n",
              "┃<span style=\"font-weight: bold\"> Layer (type)                    </span>┃<span style=\"font-weight: bold\"> Output Shape           </span>┃<span style=\"font-weight: bold\">       Param # </span>┃\n",
              "┡━━━━━━━━━━━━━━━━━━━━━━━━━━━━━━━━━╇━━━━━━━━━━━━━━━━━━━━━━━━╇━━━━━━━━━━━━━━━┩\n",
              "│ bidirectional_3 (<span style=\"color: #0087ff; text-decoration-color: #0087ff\">Bidirectional</span>) │ (<span style=\"color: #00d7ff; text-decoration-color: #00d7ff\">None</span>, <span style=\"color: #00af00; text-decoration-color: #00af00\">100</span>, <span style=\"color: #00af00; text-decoration-color: #00af00\">256</span>)       │       <span style=\"color: #00af00; text-decoration-color: #00af00\">133,120</span> │\n",
              "├─────────────────────────────────┼────────────────────────┼───────────────┤\n",
              "│ dropout_2 (<span style=\"color: #0087ff; text-decoration-color: #0087ff\">Dropout</span>)             │ (<span style=\"color: #00d7ff; text-decoration-color: #00d7ff\">None</span>, <span style=\"color: #00af00; text-decoration-color: #00af00\">100</span>, <span style=\"color: #00af00; text-decoration-color: #00af00\">256</span>)       │             <span style=\"color: #00af00; text-decoration-color: #00af00\">0</span> │\n",
              "├─────────────────────────────────┼────────────────────────┼───────────────┤\n",
              "│ bidirectional_4 (<span style=\"color: #0087ff; text-decoration-color: #0087ff\">Bidirectional</span>) │ (<span style=\"color: #00d7ff; text-decoration-color: #00d7ff\">None</span>, <span style=\"color: #00af00; text-decoration-color: #00af00\">100</span>, <span style=\"color: #00af00; text-decoration-color: #00af00\">128</span>)       │       <span style=\"color: #00af00; text-decoration-color: #00af00\">164,352</span> │\n",
              "├─────────────────────────────────┼────────────────────────┼───────────────┤\n",
              "│ dropout_3 (<span style=\"color: #0087ff; text-decoration-color: #0087ff\">Dropout</span>)             │ (<span style=\"color: #00d7ff; text-decoration-color: #00d7ff\">None</span>, <span style=\"color: #00af00; text-decoration-color: #00af00\">100</span>, <span style=\"color: #00af00; text-decoration-color: #00af00\">128</span>)       │             <span style=\"color: #00af00; text-decoration-color: #00af00\">0</span> │\n",
              "├─────────────────────────────────┼────────────────────────┼───────────────┤\n",
              "│ bidirectional_5 (<span style=\"color: #0087ff; text-decoration-color: #0087ff\">Bidirectional</span>) │ (<span style=\"color: #00d7ff; text-decoration-color: #00d7ff\">None</span>, <span style=\"color: #00af00; text-decoration-color: #00af00\">64</span>)             │        <span style=\"color: #00af00; text-decoration-color: #00af00\">41,216</span> │\n",
              "├─────────────────────────────────┼────────────────────────┼───────────────┤\n",
              "│ dense_2 (<span style=\"color: #0087ff; text-decoration-color: #0087ff\">Dense</span>)                 │ (<span style=\"color: #00d7ff; text-decoration-color: #00d7ff\">None</span>, <span style=\"color: #00af00; text-decoration-color: #00af00\">64</span>)             │         <span style=\"color: #00af00; text-decoration-color: #00af00\">4,160</span> │\n",
              "├─────────────────────────────────┼────────────────────────┼───────────────┤\n",
              "│ dense_3 (<span style=\"color: #0087ff; text-decoration-color: #0087ff\">Dense</span>)                 │ (<span style=\"color: #00d7ff; text-decoration-color: #00d7ff\">None</span>, <span style=\"color: #00af00; text-decoration-color: #00af00\">1</span>)              │            <span style=\"color: #00af00; text-decoration-color: #00af00\">65</span> │\n",
              "└─────────────────────────────────┴────────────────────────┴───────────────┘\n",
              "</pre>\n"
            ]
          },
          "metadata": {}
        },
        {
          "output_type": "display_data",
          "data": {
            "text/plain": [
              "\u001b[1m Total params: \u001b[0m\u001b[38;5;34m342,913\u001b[0m (1.31 MB)\n"
            ],
            "text/html": [
              "<pre style=\"white-space:pre;overflow-x:auto;line-height:normal;font-family:Menlo,'DejaVu Sans Mono',consolas,'Courier New',monospace\"><span style=\"font-weight: bold\"> Total params: </span><span style=\"color: #00af00; text-decoration-color: #00af00\">342,913</span> (1.31 MB)\n",
              "</pre>\n"
            ]
          },
          "metadata": {}
        },
        {
          "output_type": "display_data",
          "data": {
            "text/plain": [
              "\u001b[1m Trainable params: \u001b[0m\u001b[38;5;34m342,913\u001b[0m (1.31 MB)\n"
            ],
            "text/html": [
              "<pre style=\"white-space:pre;overflow-x:auto;line-height:normal;font-family:Menlo,'DejaVu Sans Mono',consolas,'Courier New',monospace\"><span style=\"font-weight: bold\"> Trainable params: </span><span style=\"color: #00af00; text-decoration-color: #00af00\">342,913</span> (1.31 MB)\n",
              "</pre>\n"
            ]
          },
          "metadata": {}
        },
        {
          "output_type": "display_data",
          "data": {
            "text/plain": [
              "\u001b[1m Non-trainable params: \u001b[0m\u001b[38;5;34m0\u001b[0m (0.00 B)\n"
            ],
            "text/html": [
              "<pre style=\"white-space:pre;overflow-x:auto;line-height:normal;font-family:Menlo,'DejaVu Sans Mono',consolas,'Courier New',monospace\"><span style=\"font-weight: bold\"> Non-trainable params: </span><span style=\"color: #00af00; text-decoration-color: #00af00\">0</span> (0.00 B)\n",
              "</pre>\n"
            ]
          },
          "metadata": {}
        }
      ],
      "source": [
        "model.summary()"
      ]
    },
    {
      "cell_type": "markdown",
      "source": [
        "# **Training LSTM Model**"
      ],
      "metadata": {
        "id": "WQTy8N0dXYYf"
      }
    },
    {
      "cell_type": "code",
      "source": [
        "model.compile(optimizer='adam', loss='mse', metrics=['mae'])\n"
      ],
      "metadata": {
        "id": "vmgO6oXjeo4H"
      },
      "execution_count": null,
      "outputs": []
    },
    {
      "cell_type": "code",
      "source": [
        "history = model.fit(\n",
        "    X_train, Y_train,\n",
        "    validation_data=(X_test, Y_test),\n",
        "    epochs=100,\n",
        "    batch_size=64,\n",
        "    verbose=1\n",
        ")"
      ],
      "metadata": {
        "colab": {
          "base_uri": "https://localhost:8080/"
        },
        "id": "4_4M719UTWbB",
        "outputId": "55c6f19a-8215-4f99-8c37-9f41932a4475"
      },
      "execution_count": null,
      "outputs": [
        {
          "output_type": "stream",
          "name": "stdout",
          "text": [
            "Epoch 1/100\n",
            "\u001b[1m32/32\u001b[0m \u001b[32m━━━━━━━━━━━━━━━━━━━━\u001b[0m\u001b[37m\u001b[0m \u001b[1m6s\u001b[0m 53ms/step - loss: 0.0344 - mae: 0.1298 - val_loss: 0.0025 - val_mae: 0.0376\n",
            "Epoch 2/100\n",
            "\u001b[1m32/32\u001b[0m \u001b[32m━━━━━━━━━━━━━━━━━━━━\u001b[0m\u001b[37m\u001b[0m \u001b[1m1s\u001b[0m 31ms/step - loss: 0.0022 - mae: 0.0311 - val_loss: 0.0017 - val_mae: 0.0268\n",
            "Epoch 3/100\n",
            "\u001b[1m32/32\u001b[0m \u001b[32m━━━━━━━━━━━━━━━━━━━━\u001b[0m\u001b[37m\u001b[0m \u001b[1m1s\u001b[0m 31ms/step - loss: 0.0017 - mae: 0.0269 - val_loss: 0.0017 - val_mae: 0.0285\n",
            "Epoch 4/100\n",
            "\u001b[1m32/32\u001b[0m \u001b[32m━━━━━━━━━━━━━━━━━━━━\u001b[0m\u001b[37m\u001b[0m \u001b[1m1s\u001b[0m 31ms/step - loss: 0.0014 - mae: 0.0248 - val_loss: 0.0016 - val_mae: 0.0263\n",
            "Epoch 5/100\n",
            "\u001b[1m32/32\u001b[0m \u001b[32m━━━━━━━━━━━━━━━━━━━━\u001b[0m\u001b[37m\u001b[0m \u001b[1m1s\u001b[0m 32ms/step - loss: 0.0013 - mae: 0.0237 - val_loss: 0.0023 - val_mae: 0.0372\n",
            "Epoch 6/100\n",
            "\u001b[1m32/32\u001b[0m \u001b[32m━━━━━━━━━━━━━━━━━━━━\u001b[0m\u001b[37m\u001b[0m \u001b[1m1s\u001b[0m 39ms/step - loss: 0.0015 - mae: 0.0264 - val_loss: 0.0013 - val_mae: 0.0231\n",
            "Epoch 7/100\n",
            "\u001b[1m32/32\u001b[0m \u001b[32m━━━━━━━━━━━━━━━━━━━━\u001b[0m\u001b[37m\u001b[0m \u001b[1m2s\u001b[0m 33ms/step - loss: 0.0011 - mae: 0.0219 - val_loss: 0.0012 - val_mae: 0.0225\n",
            "Epoch 8/100\n",
            "\u001b[1m32/32\u001b[0m \u001b[32m━━━━━━━━━━━━━━━━━━━━\u001b[0m\u001b[37m\u001b[0m \u001b[1m1s\u001b[0m 33ms/step - loss: 9.4428e-04 - mae: 0.0202 - val_loss: 0.0012 - val_mae: 0.0228\n",
            "Epoch 9/100\n",
            "\u001b[1m32/32\u001b[0m \u001b[32m━━━━━━━━━━━━━━━━━━━━\u001b[0m\u001b[37m\u001b[0m \u001b[1m1s\u001b[0m 33ms/step - loss: 8.5932e-04 - mae: 0.0205 - val_loss: 0.0012 - val_mae: 0.0235\n",
            "Epoch 10/100\n",
            "\u001b[1m32/32\u001b[0m \u001b[32m━━━━━━━━━━━━━━━━━━━━\u001b[0m\u001b[37m\u001b[0m \u001b[1m1s\u001b[0m 33ms/step - loss: 9.4502e-04 - mae: 0.0203 - val_loss: 0.0011 - val_mae: 0.0209\n",
            "Epoch 11/100\n",
            "\u001b[1m32/32\u001b[0m \u001b[32m━━━━━━━━━━━━━━━━━━━━\u001b[0m\u001b[37m\u001b[0m \u001b[1m1s\u001b[0m 33ms/step - loss: 8.6002e-04 - mae: 0.0196 - val_loss: 0.0012 - val_mae: 0.0235\n",
            "Epoch 12/100\n",
            "\u001b[1m32/32\u001b[0m \u001b[32m━━━━━━━━━━━━━━━━━━━━\u001b[0m\u001b[37m\u001b[0m \u001b[1m1s\u001b[0m 33ms/step - loss: 8.3913e-04 - mae: 0.0204 - val_loss: 9.9268e-04 - val_mae: 0.0199\n",
            "Epoch 13/100\n",
            "\u001b[1m32/32\u001b[0m \u001b[32m━━━━━━━━━━━━━━━━━━━━\u001b[0m\u001b[37m\u001b[0m \u001b[1m1s\u001b[0m 33ms/step - loss: 8.6341e-04 - mae: 0.0195 - val_loss: 0.0011 - val_mae: 0.0234\n",
            "Epoch 14/100\n",
            "\u001b[1m32/32\u001b[0m \u001b[32m━━━━━━━━━━━━━━━━━━━━\u001b[0m\u001b[37m\u001b[0m \u001b[1m1s\u001b[0m 33ms/step - loss: 7.3419e-04 - mae: 0.0181 - val_loss: 9.8788e-04 - val_mae: 0.0216\n",
            "Epoch 15/100\n",
            "\u001b[1m32/32\u001b[0m \u001b[32m━━━━━━━━━━━━━━━━━━━━\u001b[0m\u001b[37m\u001b[0m \u001b[1m1s\u001b[0m 33ms/step - loss: 8.7213e-04 - mae: 0.0197 - val_loss: 0.0012 - val_mae: 0.0255\n",
            "Epoch 16/100\n",
            "\u001b[1m32/32\u001b[0m \u001b[32m━━━━━━━━━━━━━━━━━━━━\u001b[0m\u001b[37m\u001b[0m \u001b[1m1s\u001b[0m 44ms/step - loss: 8.5382e-04 - mae: 0.0210 - val_loss: 0.0012 - val_mae: 0.0267\n",
            "Epoch 17/100\n",
            "\u001b[1m32/32\u001b[0m \u001b[32m━━━━━━━━━━━━━━━━━━━━\u001b[0m\u001b[37m\u001b[0m \u001b[1m1s\u001b[0m 37ms/step - loss: 9.0604e-04 - mae: 0.0208 - val_loss: 8.8214e-04 - val_mae: 0.0189\n",
            "Epoch 18/100\n",
            "\u001b[1m32/32\u001b[0m \u001b[32m━━━━━━━━━━━━━━━━━━━━\u001b[0m\u001b[37m\u001b[0m \u001b[1m1s\u001b[0m 32ms/step - loss: 7.2101e-04 - mae: 0.0183 - val_loss: 8.5671e-04 - val_mae: 0.0192\n",
            "Epoch 19/100\n",
            "\u001b[1m32/32\u001b[0m \u001b[32m━━━━━━━━━━━━━━━━━━━━\u001b[0m\u001b[37m\u001b[0m \u001b[1m1s\u001b[0m 33ms/step - loss: 6.1451e-04 - mae: 0.0171 - val_loss: 8.4243e-04 - val_mae: 0.0186\n",
            "Epoch 20/100\n",
            "\u001b[1m32/32\u001b[0m \u001b[32m━━━━━━━━━━━━━━━━━━━━\u001b[0m\u001b[37m\u001b[0m \u001b[1m1s\u001b[0m 32ms/step - loss: 6.1427e-04 - mae: 0.0168 - val_loss: 8.3053e-04 - val_mae: 0.0183\n",
            "Epoch 21/100\n",
            "\u001b[1m32/32\u001b[0m \u001b[32m━━━━━━━━━━━━━━━━━━━━\u001b[0m\u001b[37m\u001b[0m \u001b[1m1s\u001b[0m 32ms/step - loss: 7.2144e-04 - mae: 0.0185 - val_loss: 8.3581e-04 - val_mae: 0.0186\n",
            "Epoch 22/100\n",
            "\u001b[1m32/32\u001b[0m \u001b[32m━━━━━━━━━━━━━━━━━━━━\u001b[0m\u001b[37m\u001b[0m \u001b[1m1s\u001b[0m 33ms/step - loss: 5.6285e-04 - mae: 0.0160 - val_loss: 9.8462e-04 - val_mae: 0.0225\n",
            "Epoch 23/100\n",
            "\u001b[1m32/32\u001b[0m \u001b[32m━━━━━━━━━━━━━━━━━━━━\u001b[0m\u001b[37m\u001b[0m \u001b[1m1s\u001b[0m 33ms/step - loss: 7.5521e-04 - mae: 0.0188 - val_loss: 8.1374e-04 - val_mae: 0.0181\n",
            "Epoch 24/100\n",
            "\u001b[1m32/32\u001b[0m \u001b[32m━━━━━━━━━━━━━━━━━━━━\u001b[0m\u001b[37m\u001b[0m \u001b[1m1s\u001b[0m 33ms/step - loss: 5.7339e-04 - mae: 0.0161 - val_loss: 9.7769e-04 - val_mae: 0.0219\n",
            "Epoch 25/100\n",
            "\u001b[1m32/32\u001b[0m \u001b[32m━━━━━━━━━━━━━━━━━━━━\u001b[0m\u001b[37m\u001b[0m \u001b[1m1s\u001b[0m 33ms/step - loss: 6.9401e-04 - mae: 0.0179 - val_loss: 7.7506e-04 - val_mae: 0.0175\n",
            "Epoch 26/100\n",
            "\u001b[1m32/32\u001b[0m \u001b[32m━━━━━━━━━━━━━━━━━━━━\u001b[0m\u001b[37m\u001b[0m \u001b[1m1s\u001b[0m 35ms/step - loss: 5.3566e-04 - mae: 0.0158 - val_loss: 7.8546e-04 - val_mae: 0.0176\n",
            "Epoch 27/100\n",
            "\u001b[1m32/32\u001b[0m \u001b[32m━━━━━━━━━━━━━━━━━━━━\u001b[0m\u001b[37m\u001b[0m \u001b[1m1s\u001b[0m 43ms/step - loss: 5.2602e-04 - mae: 0.0158 - val_loss: 7.4663e-04 - val_mae: 0.0170\n",
            "Epoch 28/100\n",
            "\u001b[1m32/32\u001b[0m \u001b[32m━━━━━━━━━━━━━━━━━━━━\u001b[0m\u001b[37m\u001b[0m \u001b[1m1s\u001b[0m 35ms/step - loss: 6.3722e-04 - mae: 0.0166 - val_loss: 9.7497e-04 - val_mae: 0.0222\n",
            "Epoch 29/100\n",
            "\u001b[1m32/32\u001b[0m \u001b[32m━━━━━━━━━━━━━━━━━━━━\u001b[0m\u001b[37m\u001b[0m \u001b[1m1s\u001b[0m 33ms/step - loss: 5.7258e-04 - mae: 0.0164 - val_loss: 9.1449e-04 - val_mae: 0.0224\n",
            "Epoch 30/100\n",
            "\u001b[1m32/32\u001b[0m \u001b[32m━━━━━━━━━━━━━━━━━━━━\u001b[0m\u001b[37m\u001b[0m \u001b[1m1s\u001b[0m 32ms/step - loss: 7.0119e-04 - mae: 0.0182 - val_loss: 7.5780e-04 - val_mae: 0.0172\n",
            "Epoch 31/100\n",
            "\u001b[1m32/32\u001b[0m \u001b[32m━━━━━━━━━━━━━━━━━━━━\u001b[0m\u001b[37m\u001b[0m \u001b[1m1s\u001b[0m 33ms/step - loss: 5.3819e-04 - mae: 0.0156 - val_loss: 7.3767e-04 - val_mae: 0.0170\n",
            "Epoch 32/100\n",
            "\u001b[1m32/32\u001b[0m \u001b[32m━━━━━━━━━━━━━━━━━━━━\u001b[0m\u001b[37m\u001b[0m \u001b[1m1s\u001b[0m 33ms/step - loss: 5.0934e-04 - mae: 0.0153 - val_loss: 7.7819e-04 - val_mae: 0.0187\n",
            "Epoch 33/100\n",
            "\u001b[1m32/32\u001b[0m \u001b[32m━━━━━━━━━━━━━━━━━━━━\u001b[0m\u001b[37m\u001b[0m \u001b[1m1s\u001b[0m 33ms/step - loss: 5.5663e-04 - mae: 0.0160 - val_loss: 7.3537e-04 - val_mae: 0.0169\n",
            "Epoch 34/100\n",
            "\u001b[1m32/32\u001b[0m \u001b[32m━━━━━━━━━━━━━━━━━━━━\u001b[0m\u001b[37m\u001b[0m \u001b[1m1s\u001b[0m 32ms/step - loss: 5.1215e-04 - mae: 0.0157 - val_loss: 7.3647e-04 - val_mae: 0.0171\n",
            "Epoch 35/100\n",
            "\u001b[1m32/32\u001b[0m \u001b[32m━━━━━━━━━━━━━━━━━━━━\u001b[0m\u001b[37m\u001b[0m \u001b[1m1s\u001b[0m 33ms/step - loss: 6.5337e-04 - mae: 0.0176 - val_loss: 7.0981e-04 - val_mae: 0.0170\n",
            "Epoch 36/100\n",
            "\u001b[1m32/32\u001b[0m \u001b[32m━━━━━━━━━━━━━━━━━━━━\u001b[0m\u001b[37m\u001b[0m \u001b[1m1s\u001b[0m 33ms/step - loss: 6.3895e-04 - mae: 0.0174 - val_loss: 7.5999e-04 - val_mae: 0.0172\n",
            "Epoch 37/100\n",
            "\u001b[1m32/32\u001b[0m \u001b[32m━━━━━━━━━━━━━━━━━━━━\u001b[0m\u001b[37m\u001b[0m \u001b[1m1s\u001b[0m 37ms/step - loss: 5.9906e-04 - mae: 0.0170 - val_loss: 8.0826e-04 - val_mae: 0.0196\n",
            "Epoch 38/100\n",
            "\u001b[1m32/32\u001b[0m \u001b[32m━━━━━━━━━━━━━━━━━━━━\u001b[0m\u001b[37m\u001b[0m \u001b[1m1s\u001b[0m 42ms/step - loss: 5.6598e-04 - mae: 0.0163 - val_loss: 7.3468e-04 - val_mae: 0.0182\n",
            "Epoch 39/100\n",
            "\u001b[1m32/32\u001b[0m \u001b[32m━━━━━━━━━━━━━━━━━━━━\u001b[0m\u001b[37m\u001b[0m \u001b[1m3s\u001b[0m 49ms/step - loss: 4.8703e-04 - mae: 0.0159 - val_loss: 7.1446e-04 - val_mae: 0.0166\n",
            "Epoch 40/100\n",
            "\u001b[1m32/32\u001b[0m \u001b[32m━━━━━━━━━━━━━━━━━━━━\u001b[0m\u001b[37m\u001b[0m \u001b[1m1s\u001b[0m 33ms/step - loss: 5.8372e-04 - mae: 0.0162 - val_loss: 8.5436e-04 - val_mae: 0.0209\n",
            "Epoch 41/100\n",
            "\u001b[1m32/32\u001b[0m \u001b[32m━━━━━━━━━━━━━━━━━━━━\u001b[0m\u001b[37m\u001b[0m \u001b[1m1s\u001b[0m 33ms/step - loss: 5.5053e-04 - mae: 0.0157 - val_loss: 7.8291e-04 - val_mae: 0.0203\n",
            "Epoch 42/100\n",
            "\u001b[1m32/32\u001b[0m \u001b[32m━━━━━━━━━━━━━━━━━━━━\u001b[0m\u001b[37m\u001b[0m \u001b[1m1s\u001b[0m 33ms/step - loss: 5.5092e-04 - mae: 0.0164 - val_loss: 9.4347e-04 - val_mae: 0.0238\n",
            "Epoch 43/100\n",
            "\u001b[1m32/32\u001b[0m \u001b[32m━━━━━━━━━━━━━━━━━━━━\u001b[0m\u001b[37m\u001b[0m \u001b[1m1s\u001b[0m 33ms/step - loss: 6.8018e-04 - mae: 0.0187 - val_loss: 7.6216e-04 - val_mae: 0.0190\n",
            "Epoch 44/100\n",
            "\u001b[1m32/32\u001b[0m \u001b[32m━━━━━━━━━━━━━━━━━━━━\u001b[0m\u001b[37m\u001b[0m \u001b[1m1s\u001b[0m 33ms/step - loss: 5.5727e-04 - mae: 0.0167 - val_loss: 6.9277e-04 - val_mae: 0.0172\n",
            "Epoch 45/100\n",
            "\u001b[1m32/32\u001b[0m \u001b[32m━━━━━━━━━━━━━━━━━━━━\u001b[0m\u001b[37m\u001b[0m \u001b[1m1s\u001b[0m 32ms/step - loss: 6.3320e-04 - mae: 0.0175 - val_loss: 7.0587e-04 - val_mae: 0.0171\n",
            "Epoch 46/100\n",
            "\u001b[1m32/32\u001b[0m \u001b[32m━━━━━━━━━━━━━━━━━━━━\u001b[0m\u001b[37m\u001b[0m \u001b[1m1s\u001b[0m 34ms/step - loss: 5.1897e-04 - mae: 0.0158 - val_loss: 6.6803e-04 - val_mae: 0.0162\n",
            "Epoch 47/100\n",
            "\u001b[1m32/32\u001b[0m \u001b[32m━━━━━━━━━━━━━━━━━━━━\u001b[0m\u001b[37m\u001b[0m \u001b[1m1s\u001b[0m 43ms/step - loss: 5.1544e-04 - mae: 0.0157 - val_loss: 6.4891e-04 - val_mae: 0.0157\n",
            "Epoch 48/100\n",
            "\u001b[1m32/32\u001b[0m \u001b[32m━━━━━━━━━━━━━━━━━━━━\u001b[0m\u001b[37m\u001b[0m \u001b[1m1s\u001b[0m 37ms/step - loss: 4.6168e-04 - mae: 0.0147 - val_loss: 6.6479e-04 - val_mae: 0.0177\n",
            "Epoch 49/100\n",
            "\u001b[1m32/32\u001b[0m \u001b[32m━━━━━━━━━━━━━━━━━━━━\u001b[0m\u001b[37m\u001b[0m \u001b[1m1s\u001b[0m 33ms/step - loss: 4.6834e-04 - mae: 0.0152 - val_loss: 6.4505e-04 - val_mae: 0.0163\n",
            "Epoch 50/100\n",
            "\u001b[1m32/32\u001b[0m \u001b[32m━━━━━━━━━━━━━━━━━━━━\u001b[0m\u001b[37m\u001b[0m \u001b[1m1s\u001b[0m 33ms/step - loss: 4.8058e-04 - mae: 0.0156 - val_loss: 7.3620e-04 - val_mae: 0.0183\n",
            "Epoch 51/100\n",
            "\u001b[1m32/32\u001b[0m \u001b[32m━━━━━━━━━━━━━━━━━━━━\u001b[0m\u001b[37m\u001b[0m \u001b[1m1s\u001b[0m 33ms/step - loss: 5.1870e-04 - mae: 0.0158 - val_loss: 6.4077e-04 - val_mae: 0.0159\n",
            "Epoch 52/100\n",
            "\u001b[1m32/32\u001b[0m \u001b[32m━━━━━━━━━━━━━━━━━━━━\u001b[0m\u001b[37m\u001b[0m \u001b[1m1s\u001b[0m 33ms/step - loss: 5.1506e-04 - mae: 0.0162 - val_loss: 6.4614e-04 - val_mae: 0.0159\n",
            "Epoch 53/100\n",
            "\u001b[1m32/32\u001b[0m \u001b[32m━━━━━━━━━━━━━━━━━━━━\u001b[0m\u001b[37m\u001b[0m \u001b[1m1s\u001b[0m 33ms/step - loss: 5.5144e-04 - mae: 0.0161 - val_loss: 6.7570e-04 - val_mae: 0.0167\n",
            "Epoch 54/100\n",
            "\u001b[1m32/32\u001b[0m \u001b[32m━━━━━━━━━━━━━━━━━━━━\u001b[0m\u001b[37m\u001b[0m \u001b[1m1s\u001b[0m 33ms/step - loss: 4.7953e-04 - mae: 0.0153 - val_loss: 7.9949e-04 - val_mae: 0.0208\n",
            "Epoch 55/100\n",
            "\u001b[1m32/32\u001b[0m \u001b[32m━━━━━━━━━━━━━━━━━━━━\u001b[0m\u001b[37m\u001b[0m \u001b[1m1s\u001b[0m 32ms/step - loss: 4.8571e-04 - mae: 0.0153 - val_loss: 6.8741e-04 - val_mae: 0.0186\n",
            "Epoch 56/100\n",
            "\u001b[1m32/32\u001b[0m \u001b[32m━━━━━━━━━━━━━━━━━━━━\u001b[0m\u001b[37m\u001b[0m \u001b[1m1s\u001b[0m 32ms/step - loss: 4.8728e-04 - mae: 0.0151 - val_loss: 6.1396e-04 - val_mae: 0.0151\n",
            "Epoch 57/100\n",
            "\u001b[1m32/32\u001b[0m \u001b[32m━━━━━━━━━━━━━━━━━━━━\u001b[0m\u001b[37m\u001b[0m \u001b[1m1s\u001b[0m 36ms/step - loss: 4.1147e-04 - mae: 0.0138 - val_loss: 6.4251e-04 - val_mae: 0.0163\n",
            "Epoch 58/100\n",
            "\u001b[1m32/32\u001b[0m \u001b[32m━━━━━━━━━━━━━━━━━━━━\u001b[0m\u001b[37m\u001b[0m \u001b[1m1s\u001b[0m 42ms/step - loss: 4.8336e-04 - mae: 0.0156 - val_loss: 6.3775e-04 - val_mae: 0.0158\n",
            "Epoch 59/100\n",
            "\u001b[1m32/32\u001b[0m \u001b[32m━━━━━━━━━━━━━━━━━━━━\u001b[0m\u001b[37m\u001b[0m \u001b[1m1s\u001b[0m 34ms/step - loss: 4.6974e-04 - mae: 0.0152 - val_loss: 6.3220e-04 - val_mae: 0.0173\n",
            "Epoch 60/100\n",
            "\u001b[1m32/32\u001b[0m \u001b[32m━━━━━━━━━━━━━━━━━━━━\u001b[0m\u001b[37m\u001b[0m \u001b[1m1s\u001b[0m 32ms/step - loss: 4.8007e-04 - mae: 0.0152 - val_loss: 5.7852e-04 - val_mae: 0.0148\n",
            "Epoch 61/100\n",
            "\u001b[1m32/32\u001b[0m \u001b[32m━━━━━━━━━━━━━━━━━━━━\u001b[0m\u001b[37m\u001b[0m \u001b[1m1s\u001b[0m 32ms/step - loss: 4.4061e-04 - mae: 0.0150 - val_loss: 5.8392e-04 - val_mae: 0.0159\n",
            "Epoch 62/100\n",
            "\u001b[1m32/32\u001b[0m \u001b[32m━━━━━━━━━━━━━━━━━━━━\u001b[0m\u001b[37m\u001b[0m \u001b[1m1s\u001b[0m 32ms/step - loss: 4.5727e-04 - mae: 0.0152 - val_loss: 6.5247e-04 - val_mae: 0.0169\n",
            "Epoch 63/100\n",
            "\u001b[1m32/32\u001b[0m \u001b[32m━━━━━━━━━━━━━━━━━━━━\u001b[0m\u001b[37m\u001b[0m \u001b[1m1s\u001b[0m 32ms/step - loss: 4.2439e-04 - mae: 0.0145 - val_loss: 6.7486e-04 - val_mae: 0.0184\n",
            "Epoch 64/100\n",
            "\u001b[1m32/32\u001b[0m \u001b[32m━━━━━━━━━━━━━━━━━━━━\u001b[0m\u001b[37m\u001b[0m \u001b[1m1s\u001b[0m 33ms/step - loss: 4.5461e-04 - mae: 0.0156 - val_loss: 9.9232e-04 - val_mae: 0.0266\n",
            "Epoch 65/100\n",
            "\u001b[1m32/32\u001b[0m \u001b[32m━━━━━━━━━━━━━━━━━━━━\u001b[0m\u001b[37m\u001b[0m \u001b[1m1s\u001b[0m 32ms/step - loss: 5.7135e-04 - mae: 0.0173 - val_loss: 5.9902e-04 - val_mae: 0.0160\n",
            "Epoch 66/100\n",
            "\u001b[1m32/32\u001b[0m \u001b[32m━━━━━━━━━━━━━━━━━━━━\u001b[0m\u001b[37m\u001b[0m \u001b[1m1s\u001b[0m 33ms/step - loss: 4.0574e-04 - mae: 0.0141 - val_loss: 6.6662e-04 - val_mae: 0.0186\n",
            "Epoch 67/100\n",
            "\u001b[1m32/32\u001b[0m \u001b[32m━━━━━━━━━━━━━━━━━━━━\u001b[0m\u001b[37m\u001b[0m \u001b[1m1s\u001b[0m 32ms/step - loss: 4.0378e-04 - mae: 0.0145 - val_loss: 5.7729e-04 - val_mae: 0.0156\n",
            "Epoch 68/100\n",
            "\u001b[1m32/32\u001b[0m \u001b[32m━━━━━━━━━━━━━━━━━━━━\u001b[0m\u001b[37m\u001b[0m \u001b[1m1s\u001b[0m 37ms/step - loss: 3.9142e-04 - mae: 0.0138 - val_loss: 5.7294e-04 - val_mae: 0.0154\n",
            "Epoch 69/100\n",
            "\u001b[1m32/32\u001b[0m \u001b[32m━━━━━━━━━━━━━━━━━━━━\u001b[0m\u001b[37m\u001b[0m \u001b[1m1s\u001b[0m 40ms/step - loss: 4.2294e-04 - mae: 0.0142 - val_loss: 6.0184e-04 - val_mae: 0.0162\n",
            "Epoch 70/100\n",
            "\u001b[1m32/32\u001b[0m \u001b[32m━━━━━━━━━━━━━━━━━━━━\u001b[0m\u001b[37m\u001b[0m \u001b[1m1s\u001b[0m 35ms/step - loss: 4.2906e-04 - mae: 0.0144 - val_loss: 5.5019e-04 - val_mae: 0.0147\n",
            "Epoch 71/100\n",
            "\u001b[1m32/32\u001b[0m \u001b[32m━━━━━━━━━━━━━━━━━━━━\u001b[0m\u001b[37m\u001b[0m \u001b[1m1s\u001b[0m 32ms/step - loss: 4.4838e-04 - mae: 0.0149 - val_loss: 5.8803e-04 - val_mae: 0.0154\n",
            "Epoch 72/100\n",
            "\u001b[1m32/32\u001b[0m \u001b[32m━━━━━━━━━━━━━━━━━━━━\u001b[0m\u001b[37m\u001b[0m \u001b[1m1s\u001b[0m 33ms/step - loss: 3.9339e-04 - mae: 0.0140 - val_loss: 5.8059e-04 - val_mae: 0.0155\n",
            "Epoch 73/100\n",
            "\u001b[1m32/32\u001b[0m \u001b[32m━━━━━━━━━━━━━━━━━━━━\u001b[0m\u001b[37m\u001b[0m \u001b[1m1s\u001b[0m 33ms/step - loss: 4.3226e-04 - mae: 0.0143 - val_loss: 5.7318e-04 - val_mae: 0.0156\n",
            "Epoch 74/100\n",
            "\u001b[1m32/32\u001b[0m \u001b[32m━━━━━━━━━━━━━━━━━━━━\u001b[0m\u001b[37m\u001b[0m \u001b[1m1s\u001b[0m 33ms/step - loss: 3.7171e-04 - mae: 0.0134 - val_loss: 5.8278e-04 - val_mae: 0.0156\n",
            "Epoch 75/100\n",
            "\u001b[1m32/32\u001b[0m \u001b[32m━━━━━━━━━━━━━━━━━━━━\u001b[0m\u001b[37m\u001b[0m \u001b[1m1s\u001b[0m 33ms/step - loss: 4.2325e-04 - mae: 0.0144 - val_loss: 5.5048e-04 - val_mae: 0.0149\n",
            "Epoch 76/100\n",
            "\u001b[1m32/32\u001b[0m \u001b[32m━━━━━━━━━━━━━━━━━━━━\u001b[0m\u001b[37m\u001b[0m \u001b[1m1s\u001b[0m 32ms/step - loss: 3.9222e-04 - mae: 0.0137 - val_loss: 9.2056e-04 - val_mae: 0.0237\n",
            "Epoch 77/100\n",
            "\u001b[1m32/32\u001b[0m \u001b[32m━━━━━━━━━━━━━━━━━━━━\u001b[0m\u001b[37m\u001b[0m \u001b[1m1s\u001b[0m 32ms/step - loss: 5.2090e-04 - mae: 0.0160 - val_loss: 5.9524e-04 - val_mae: 0.0167\n",
            "Epoch 78/100\n",
            "\u001b[1m32/32\u001b[0m \u001b[32m━━━━━━━━━━━━━━━━━━━━\u001b[0m\u001b[37m\u001b[0m \u001b[1m1s\u001b[0m 33ms/step - loss: 4.1165e-04 - mae: 0.0141 - val_loss: 5.7262e-04 - val_mae: 0.0155\n",
            "Epoch 79/100\n",
            "\u001b[1m32/32\u001b[0m \u001b[32m━━━━━━━━━━━━━━━━━━━━\u001b[0m\u001b[37m\u001b[0m \u001b[1m1s\u001b[0m 38ms/step - loss: 4.4362e-04 - mae: 0.0147 - val_loss: 5.8822e-04 - val_mae: 0.0157\n",
            "Epoch 80/100\n",
            "\u001b[1m32/32\u001b[0m \u001b[32m━━━━━━━━━━━━━━━━━━━━\u001b[0m\u001b[37m\u001b[0m \u001b[1m1s\u001b[0m 44ms/step - loss: 4.2656e-04 - mae: 0.0145 - val_loss: 7.2479e-04 - val_mae: 0.0200\n",
            "Epoch 81/100\n",
            "\u001b[1m32/32\u001b[0m \u001b[32m━━━━━━━━━━━━━━━━━━━━\u001b[0m\u001b[37m\u001b[0m \u001b[1m1s\u001b[0m 34ms/step - loss: 4.3448e-04 - mae: 0.0151 - val_loss: 5.8984e-04 - val_mae: 0.0167\n",
            "Epoch 82/100\n",
            "\u001b[1m32/32\u001b[0m \u001b[32m━━━━━━━━━━━━━━━━━━━━\u001b[0m\u001b[37m\u001b[0m \u001b[1m1s\u001b[0m 33ms/step - loss: 4.2678e-04 - mae: 0.0145 - val_loss: 7.9625e-04 - val_mae: 0.0226\n",
            "Epoch 83/100\n",
            "\u001b[1m32/32\u001b[0m \u001b[32m━━━━━━━━━━━━━━━━━━━━\u001b[0m\u001b[37m\u001b[0m \u001b[1m1s\u001b[0m 33ms/step - loss: 6.8926e-04 - mae: 0.0189 - val_loss: 7.0203e-04 - val_mae: 0.0195\n",
            "Epoch 84/100\n",
            "\u001b[1m32/32\u001b[0m \u001b[32m━━━━━━━━━━━━━━━━━━━━\u001b[0m\u001b[37m\u001b[0m \u001b[1m1s\u001b[0m 33ms/step - loss: 5.9262e-04 - mae: 0.0168 - val_loss: 5.5118e-04 - val_mae: 0.0151\n",
            "Epoch 85/100\n",
            "\u001b[1m32/32\u001b[0m \u001b[32m━━━━━━━━━━━━━━━━━━━━\u001b[0m\u001b[37m\u001b[0m \u001b[1m1s\u001b[0m 32ms/step - loss: 4.0190e-04 - mae: 0.0138 - val_loss: 6.3286e-04 - val_mae: 0.0183\n",
            "Epoch 86/100\n",
            "\u001b[1m32/32\u001b[0m \u001b[32m━━━━━━━━━━━━━━━━━━━━\u001b[0m\u001b[37m\u001b[0m \u001b[1m1s\u001b[0m 33ms/step - loss: 4.3124e-04 - mae: 0.0145 - val_loss: 7.2946e-04 - val_mae: 0.0185\n",
            "Epoch 87/100\n",
            "\u001b[1m32/32\u001b[0m \u001b[32m━━━━━━━━━━━━━━━━━━━━\u001b[0m\u001b[37m\u001b[0m \u001b[1m1s\u001b[0m 33ms/step - loss: 4.2175e-04 - mae: 0.0142 - val_loss: 6.6338e-04 - val_mae: 0.0188\n",
            "Epoch 88/100\n",
            "\u001b[1m32/32\u001b[0m \u001b[32m━━━━━━━━━━━━━━━━━━━━\u001b[0m\u001b[37m\u001b[0m \u001b[1m1s\u001b[0m 33ms/step - loss: 3.9876e-04 - mae: 0.0145 - val_loss: 5.8037e-04 - val_mae: 0.0158\n",
            "Epoch 89/100\n",
            "\u001b[1m32/32\u001b[0m \u001b[32m━━━━━━━━━━━━━━━━━━━━\u001b[0m\u001b[37m\u001b[0m \u001b[1m1s\u001b[0m 33ms/step - loss: 4.5212e-04 - mae: 0.0149 - val_loss: 5.4805e-04 - val_mae: 0.0152\n",
            "Epoch 90/100\n",
            "\u001b[1m32/32\u001b[0m \u001b[32m━━━━━━━━━━━━━━━━━━━━\u001b[0m\u001b[37m\u001b[0m \u001b[1m1s\u001b[0m 39ms/step - loss: 3.9769e-04 - mae: 0.0139 - val_loss: 6.9437e-04 - val_mae: 0.0180\n",
            "Epoch 91/100\n",
            "\u001b[1m32/32\u001b[0m \u001b[32m━━━━━━━━━━━━━━━━━━━━\u001b[0m\u001b[37m\u001b[0m \u001b[1m1s\u001b[0m 43ms/step - loss: 4.3812e-04 - mae: 0.0148 - val_loss: 7.4242e-04 - val_mae: 0.0206\n",
            "Epoch 92/100\n",
            "\u001b[1m32/32\u001b[0m \u001b[32m━━━━━━━━━━━━━━━━━━━━\u001b[0m\u001b[37m\u001b[0m \u001b[1m1s\u001b[0m 33ms/step - loss: 4.9970e-04 - mae: 0.0160 - val_loss: 5.7341e-04 - val_mae: 0.0164\n",
            "Epoch 93/100\n",
            "\u001b[1m32/32\u001b[0m \u001b[32m━━━━━━━━━━━━━━━━━━━━\u001b[0m\u001b[37m\u001b[0m \u001b[1m1s\u001b[0m 32ms/step - loss: 4.4489e-04 - mae: 0.0148 - val_loss: 5.3318e-04 - val_mae: 0.0147\n",
            "Epoch 94/100\n",
            "\u001b[1m32/32\u001b[0m \u001b[32m━━━━━━━━━━━━━━━━━━━━\u001b[0m\u001b[37m\u001b[0m \u001b[1m1s\u001b[0m 33ms/step - loss: 3.8312e-04 - mae: 0.0136 - val_loss: 5.2336e-04 - val_mae: 0.0144\n",
            "Epoch 95/100\n",
            "\u001b[1m32/32\u001b[0m \u001b[32m━━━━━━━━━━━━━━━━━━━━\u001b[0m\u001b[37m\u001b[0m \u001b[1m1s\u001b[0m 33ms/step - loss: 4.2282e-04 - mae: 0.0147 - val_loss: 5.2264e-04 - val_mae: 0.0147\n",
            "Epoch 96/100\n",
            "\u001b[1m32/32\u001b[0m \u001b[32m━━━━━━━━━━━━━━━━━━━━\u001b[0m\u001b[37m\u001b[0m \u001b[1m1s\u001b[0m 34ms/step - loss: 4.1124e-04 - mae: 0.0141 - val_loss: 5.9596e-04 - val_mae: 0.0159\n",
            "Epoch 97/100\n",
            "\u001b[1m32/32\u001b[0m \u001b[32m━━━━━━━━━━━━━━━━━━━━\u001b[0m\u001b[37m\u001b[0m \u001b[1m1s\u001b[0m 33ms/step - loss: 3.7471e-04 - mae: 0.0135 - val_loss: 6.0669e-04 - val_mae: 0.0167\n",
            "Epoch 98/100\n",
            "\u001b[1m32/32\u001b[0m \u001b[32m━━━━━━━━━━━━━━━━━━━━\u001b[0m\u001b[37m\u001b[0m \u001b[1m1s\u001b[0m 33ms/step - loss: 4.5468e-04 - mae: 0.0150 - val_loss: 5.9576e-04 - val_mae: 0.0174\n",
            "Epoch 99/100\n",
            "\u001b[1m32/32\u001b[0m \u001b[32m━━━━━━━━━━━━━━━━━━━━\u001b[0m\u001b[37m\u001b[0m \u001b[1m1s\u001b[0m 33ms/step - loss: 4.4684e-04 - mae: 0.0148 - val_loss: 7.4037e-04 - val_mae: 0.0198\n",
            "Epoch 100/100\n",
            "\u001b[1m32/32\u001b[0m \u001b[32m━━━━━━━━━━━━━━━━━━━━\u001b[0m\u001b[37m\u001b[0m \u001b[1m1s\u001b[0m 33ms/step - loss: 3.7059e-04 - mae: 0.0139 - val_loss: 5.2564e-04 - val_mae: 0.0147\n"
          ]
        }
      ]
    },
    {
      "cell_type": "code",
      "execution_count": null,
      "metadata": {
        "id": "U2-9Giprsar3"
      },
      "outputs": [],
      "source": [
        "import tensorflow as tf"
      ]
    },
    {
      "cell_type": "code",
      "execution_count": null,
      "metadata": {
        "colab": {
          "base_uri": "https://localhost:8080/"
        },
        "id": "kXJv-MtQsar4",
        "outputId": "6fd3f80e-d44c-41e8-e47a-6eb655bbd881"
      },
      "outputs": [
        {
          "output_type": "stream",
          "name": "stdout",
          "text": [
            "\u001b[1m64/64\u001b[0m \u001b[32m━━━━━━━━━━━━━━━━━━━━\u001b[0m\u001b[37m\u001b[0m \u001b[1m2s\u001b[0m 22ms/step\n",
            "\u001b[1m14/14\u001b[0m \u001b[32m━━━━━━━━━━━━━━━━━━━━\u001b[0m\u001b[37m\u001b[0m \u001b[1m0s\u001b[0m 11ms/step\n"
          ]
        }
      ],
      "source": [
        "# Lets Do the prediction and check performance metrics\n",
        "train_predict = model.predict(X_train)\n",
        "test_predict = model.predict(X_test)"
      ]
    },
    {
      "cell_type": "markdown",
      "source": [
        "# **LSTM MODEL TRAINING AND VALIDATION ANALYSIS**"
      ],
      "metadata": {
        "id": "jyOqOPcBXl9C"
      }
    },
    {
      "cell_type": "code",
      "source": [
        "# Plot training and validation loss and accuracy\n",
        "import matplotlib.pyplot as plt\n",
        "\n",
        "if 'history' in locals() and history is not None:\n",
        "    # Plot training and validation loss\n",
        "    plt.figure(figsize=(12, 6))\n",
        "    plt.plot(history.history['loss'], label='Train Loss')\n",
        "    plt.plot(history.history['val_loss'], label='Validation Loss')\n",
        "    plt.title('LSTM Model Loss')\n",
        "    plt.xlabel('Epoch')\n",
        "    plt.ylabel('Loss')\n",
        "    plt.legend()\n",
        "    plt.show()\n",
        "\n"
      ],
      "metadata": {
        "colab": {
          "base_uri": "https://localhost:8080/",
          "height": 564
        },
        "id": "0WFCcwU5UxMl",
        "outputId": "db111238-6ea7-4e53-c39d-301f62b91c02"
      },
      "execution_count": null,
      "outputs": [
        {
          "output_type": "display_data",
          "data": {
            "text/plain": [
              "<Figure size 1200x600 with 1 Axes>"
            ],
            "image/png": "[encoded data removed]"
          },
          "metadata": {}
        }
      ]
    },
    {
      "cell_type": "code",
      "source": [
        "import matplotlib.pyplot as plt\n",
        "\n",
        "plt.figure(figsize=(12,6))\n",
        "\n",
        "\n",
        "# MAE\n",
        "plt.subplot(1,2,2)\n",
        "plt.plot(history.history['mae'], label='Train MAE')\n",
        "plt.plot(history.history['val_mae'], label='Val MAE')\n",
        "plt.title('Model MAE')\n",
        "plt.xlabel('Epoch')\n",
        "plt.ylabel('MAE')\n",
        "plt.legend()\n",
        "\n",
        "plt.show()\n"
      ],
      "metadata": {
        "colab": {
          "base_uri": "https://localhost:8080/",
          "height": 564
        },
        "id": "i8Xvwb32f5kl",
        "outputId": "318b37d9-8b34-4a22-c4bd-18cbcf4c26fe"
      },
      "execution_count": null,
      "outputs": [
        {
          "output_type": "display_data",
          "data": {
            "text/plain": [
              "<Figure size 1200x600 with 1 Axes>"
            ],
            "image/png": "[encoded data removed]"
          },
          "metadata": {}
        }
      ]
    },
    {
      "cell_type": "code",
      "execution_count": null,
      "metadata": {
        "id": "YoW4ofKJsar5"
      },
      "outputs": [],
      "source": [
        "# Transformback to original form\n",
        "train_predict = scaler.inverse_transform(train_predict)\n",
        "test_predict = scaler.inverse_transform(test_predict)"
      ]
    },
    {
      "cell_type": "markdown",
      "source": [
        "# **RMSE and MAPE table for LSTM Model**"
      ],
      "metadata": {
        "id": "FsVXJHjQYLks"
      }
    },
    {
      "cell_type": "code",
      "source": [
        "from sklearn.metrics import mean_squared_error, mean_absolute_percentage_error\n",
        "import numpy as np\n",
        "import pandas as pd\n",
        "import math # Import the math module\n",
        "\n",
        "# Calculate MAPE for LSTM\n",
        "train_mape = mean_absolute_percentage_error(scaler.inverse_transform(Y_train.reshape(-1, 1)), train_predict)\n",
        "test_mape = mean_absolute_percentage_error(scaler.inverse_transform(Y_test.reshape(-1, 1)), test_predict)\n",
        "\n",
        "# Get RMSE values (assuming they were calculated previously and stored in variables)\n",
        "train_rmse = math.sqrt(mean_squared_error(scaler.inverse_transform(Y_train.reshape(-1, 1)), train_predict))\n",
        "test_rmse = math.sqrt(mean_squared_error(scaler.inverse_transform(Y_test.reshape(-1, 1)), test_predict))\n",
        "\n",
        "\n",
        "# Create a performance comparison table\n",
        "performance_data = {'Metric': ['RMSE', 'MAPE'],\n",
        "                    'Train': [train_rmse, train_mape],\n",
        "                    'Test': [test_rmse, test_mape]}\n",
        "\n",
        "performance_df = pd.DataFrame(performance_data)\n",
        "\n",
        "print(\"LSTM Model Performance Comparison:\")\n",
        "display(performance_df)"
      ],
      "metadata": {
        "colab": {
          "base_uri": "https://localhost:8080/",
          "height": 142
        },
        "id": "Y_g430hlVdnf",
        "outputId": "f95c34b3-78b9-4b18-a15b-77300878f6ac"
      },
      "execution_count": null,
      "outputs": [
        {
          "output_type": "stream",
          "name": "stdout",
          "text": [
            "LSTM Model Performance Comparison:\n"
          ]
        },
        {
          "output_type": "display_data",
          "data": {
            "text/plain": [
              "  Metric     Train      Test\n",
              "0   RMSE  5.478190  6.924076\n",
              "1   MAPE  0.014353  0.016766"
            ],
            "text/html": [
              "\n",
              "  <div id=\"df-493bb860-db9c-4082-bd4d-d09bcec78bc9\" class=\"colab-df-container\">\n",
              "    <div>\n",
              "<style scoped>\n",
              "    .dataframe tbody tr th:only-of-type {\n",
              "        vertical-align: middle;\n",
              "    }\n",
              "\n",
              "    .dataframe tbody tr th {\n",
              "        vertical-align: top;\n",
              "    }\n",
              "\n",
              "    .dataframe thead th {\n",
              "        text-align: right;\n",
              "    }\n",
              "</style>\n",
              "<table border=\"1\" class=\"dataframe\">\n",
              "  <thead>\n",
              "    <tr style=\"text-align: right;\">\n",
              "      <th></th>\n",
              "      <th>Metric</th>\n",
              "      <th>Train</th>\n",
              "      <th>Test</th>\n",
              "    </tr>\n",
              "  </thead>\n",
              "  <tbody>\n",
              "    <tr>\n",
              "      <th>0</th>\n",
              "      <td>RMSE</td>\n",
              "      <td>5.478190</td>\n",
              "      <td>6.924076</td>\n",
              "    </tr>\n",
              "    <tr>\n",
              "      <th>1</th>\n",
              "      <td>MAPE</td>\n",
              "      <td>0.014353</td>\n",
              "      <td>0.016766</td>\n",
              "    </tr>\n",
              "  </tbody>\n",
              "</table>\n",
              "</div>\n",
              "    <div class=\"colab-df-buttons\">\n",
              "\n",
              "  <div class=\"colab-df-container\">\n",
              "    <button class=\"colab-df-convert\" onclick=\"convertToInteractive('df-493bb860-db9c-4082-bd4d-d09bcec78bc9')\"\n",
              "            title=\"Convert this dataframe to an interactive table.\"\n",
              "            style=\"display:none;\">\n",
              "\n",
              "  <svg xmlns=\"http://www.w3.org/2000/svg\" height=\"24px\" viewBox=\"0 -960 960 960\">\n",
              "    <path d=\"M120-120v-720h720v720H120Zm60-500h600v-160H180v160Zm220 220h160v-160H400v160Zm0 220h160v-160H400v160ZM180-400h160v-160H180v160Zm440 0h160v-160H620v160ZM180-180h160v-160H180v160Zm440 0h160v-160H620v160Z\"/>\n",
              "  </svg>\n",
              "    </button>\n",
              "\n",
              "  <style>\n",
              "    .colab-df-container {\n",
              "      display:flex;\n",
              "      gap: 12px;\n",
              "    }\n",
              "\n",
              "    .colab-df-convert {\n",
              "      background-color: #E8F0FE;\n",
              "      border: none;\n",
              "      border-radius: 50%;\n",
              "      cursor: pointer;\n",
              "      display: none;\n",
              "      fill: #1967D2;\n",
              "      height: 32px;\n",
              "      padding: 0 0 0 0;\n",
              "      width: 32px;\n",
              "    }\n",
              "\n",
              "    .colab-df-convert:hover {\n",
              "      background-color: #E2EBFA;\n",
              "      box-shadow: 0px 1px 2px rgba(60, 64, 67, 0.3), 0px 1px 3px 1px rgba(60, 64, 67, 0.15);\n",
              "      fill: #174EA6;\n",
              "    }\n",
              "\n",
              "    .colab-df-buttons div {\n",
              "      margin-bottom: 4px;\n",
              "    }\n",
              "\n",
              "    [theme=dark] .colab-df-convert {\n",
              "      background-color: #3B4455;\n",
              "      fill: #D2E3FC;\n",
              "    }\n",
              "\n",
              "    [theme=dark] .colab-df-convert:hover {\n",
              "      background-color: #434B5C;\n",
              "      box-shadow: 0px 1px 3px 1px rgba(0, 0, 0, 0.15);\n",
              "      filter: drop-shadow(0px 1px 2px rgba(0, 0, 0, 0.3));\n",
              "      fill: #FFFFFF;\n",
              "    }\n",
              "  </style>\n",
              "\n",
              "    <script>\n",
              "      const buttonEl =\n",
              "        document.querySelector('#df-493bb860-db9c-4082-bd4d-d09bcec78bc9 button.colab-df-convert');\n",
              "      buttonEl.style.display =\n",
              "        google.colab.kernel.accessAllowed ? 'block' : 'none';\n",
              "\n",
              "      async function convertToInteractive(key) {\n",
              "        const element = document.querySelector('#df-493bb860-db9c-4082-bd4d-d09bcec78bc9');\n",
              "        const dataTable =\n",
              "          await google.colab.kernel.invokeFunction('convertToInteractive',\n",
              "                                                    [key], {});\n",
              "        if (!dataTable) return;\n",
              "\n",
              "        const docLinkHtml = 'Like what you see? Visit the ' +\n",
              "          '<a target=\"_blank\" href=https://colab.research.google.com/notebooks/data_table.ipynb>data table notebook</a>'\n",
              "          + ' to learn more about interactive tables.';\n",
              "        element.innerHTML = '';\n",
              "        dataTable['output_type'] = 'display_data';\n",
              "        await google.colab.output.renderOutput(dataTable, element);\n",
              "        const docLink = document.createElement('div');\n",
              "        docLink.innerHTML = docLinkHtml;\n",
              "        element.appendChild(docLink);\n",
              "      }\n",
              "    </script>\n",
              "  </div>\n",
              "\n",
              "\n",
              "    <div id=\"df-6a49225a-7993-405c-8f0e-c6130804dc95\">\n",
              "      <button class=\"colab-df-quickchart\" onclick=\"quickchart('df-6a49225a-7993-405c-8f0e-c6130804dc95')\"\n",
              "                title=\"Suggest charts\"\n",
              "                style=\"display:none;\">\n",
              "\n",
              "<svg xmlns=\"http://www.w3.org/2000/svg\" height=\"24px\"viewBox=\"0 0 24 24\"\n",
              "     width=\"24px\">\n",
              "    <g>\n",
              "        <path d=\"M19 3H5c-1.1 0-2 .9-2 2v14c0 1.1.9 2 2 2h14c1.1 0 2-.9 2-2V5c0-1.1-.9-2-2-2zM9 17H7v-7h2v7zm4 0h-2V7h2v10zm4 0h-2v-4h2v4z\"/>\n",
              "    </g>\n",
              "</svg>\n",
              "      </button>\n",
              "\n",
              "<style>\n",
              "  .colab-df-quickchart {\n",
              "      --bg-color: #E8F0FE;\n",
              "      --fill-color: #1967D2;\n",
              "      --hover-bg-color: #E2EBFA;\n",
              "      --hover-fill-color: #174EA6;\n",
              "      --disabled-fill-color: #AAA;\n",
              "      --disabled-bg-color: #DDD;\n",
              "  }\n",
              "\n",
              "  [theme=dark] .colab-df-quickchart {\n",
              "      --bg-color: #3B4455;\n",
              "      --fill-color: #D2E3FC;\n",
              "      --hover-bg-color: #434B5C;\n",
              "      --hover-fill-color: #FFFFFF;\n",
              "      --disabled-bg-color: #3B4455;\n",
              "      --disabled-fill-color: #666;\n",
              "  }\n",
              "\n",
              "  .colab-df-quickchart {\n",
              "    background-color: var(--bg-color);\n",
              "    border: none;\n",
              "    border-radius: 50%;\n",
              "    cursor: pointer;\n",
              "    display: none;\n",
              "    fill: var(--fill-color);\n",
              "    height: 32px;\n",
              "    padding: 0;\n",
              "    width: 32px;\n",
              "  }\n",
              "\n",
              "  .colab-df-quickchart:hover {\n",
              "    background-color: var(--hover-bg-color);\n",
              "    box-shadow: 0 1px 2px rgba(60, 64, 67, 0.3), 0 1px 3px 1px rgba(60, 64, 67, 0.15);\n",
              "    fill: var(--button-hover-fill-color);\n",
              "  }\n",
              "\n",
              "  .colab-df-quickchart-complete:disabled,\n",
              "  .colab-df-quickchart-complete:disabled:hover {\n",
              "    background-color: var(--disabled-bg-color);\n",
              "    fill: var(--disabled-fill-color);\n",
              "    box-shadow: none;\n",
              "  }\n",
              "\n",
              "  .colab-df-spinner {\n",
              "    border: 2px solid var(--fill-color);\n",
              "    border-color: transparent;\n",
              "    border-bottom-color: var(--fill-color);\n",
              "    animation:\n",
              "      spin 1s steps(1) infinite;\n",
              "  }\n",
              "\n",
              "  @keyframes spin {\n",
              "    0% {\n",
              "      border-color: transparent;\n",
              "      border-bottom-color: var(--fill-color);\n",
              "      border-left-color: var(--fill-color);\n",
              "    }\n",
              "    20% {\n",
              "      border-color: transparent;\n",
              "      border-left-color: var(--fill-color);\n",
              "      border-top-color: var(--fill-color);\n",
              "    }\n",
              "    30% {\n",
              "      border-color: transparent;\n",
              "      border-left-color: var(--fill-color);\n",
              "      border-top-color: var(--fill-color);\n",
              "      border-right-color: var(--fill-color);\n",
              "    }\n",
              "    40% {\n",
              "      border-color: transparent;\n",
              "      border-right-color: var(--fill-color);\n",
              "      border-top-color: var(--fill-color);\n",
              "    }\n",
              "    60% {\n",
              "      border-color: transparent;\n",
              "      border-right-color: var(--fill-color);\n",
              "    }\n",
              "    80% {\n",
              "      border-color: transparent;\n",
              "      border-right-color: var(--fill-color);\n",
              "      border-bottom-color: var(--fill-color);\n",
              "    }\n",
              "    90% {\n",
              "      border-color: transparent;\n",
              "      border-bottom-color: var(--fill-color);\n",
              "    }\n",
              "  }\n",
              "</style>\n",
              "\n",
              "      <script>\n",
              "        async function quickchart(key) {\n",
              "          const quickchartButtonEl =\n",
              "            document.querySelector('#' + key + ' button');\n",
              "          quickchartButtonEl.disabled = true;  // To prevent multiple clicks.\n",
              "          quickchartButtonEl.classList.add('colab-df-spinner');\n",
              "          try {\n",
              "            const charts = await google.colab.kernel.invokeFunction(\n",
              "                'suggestCharts', [key], {});\n",
              "          } catch (error) {\n",
              "            console.error('Error during call to suggestCharts:', error);\n",
              "          }\n",
              "          quickchartButtonEl.classList.remove('colab-df-spinner');\n",
              "          quickchartButtonEl.classList.add('colab-df-quickchart-complete');\n",
              "        }\n",
              "        (() => {\n",
              "          let quickchartButtonEl =\n",
              "            document.querySelector('#df-6a49225a-7993-405c-8f0e-c6130804dc95 button');\n",
              "          quickchartButtonEl.style.display =\n",
              "            google.colab.kernel.accessAllowed ? 'block' : 'none';\n",
              "        })();\n",
              "      </script>\n",
              "    </div>\n",
              "\n",
              "  <div id=\"id_a8200f1f-9b24-49f7-8e15-25bf62f84033\">\n",
              "    <style>\n",
              "      .colab-df-generate {\n",
              "        background-color: #E8F0FE;\n",
              "        border: none;\n",
              "        border-radius: 50%;\n",
              "        cursor: pointer;\n",
              "        display: none;\n",
              "        fill: #1967D2;\n",
              "        height: 32px;\n",
              "        padding: 0 0 0 0;\n",
              "        width: 32px;\n",
              "      }\n",
              "\n",
              "      .colab-df-generate:hover {\n",
              "        background-color: #E2EBFA;\n",
              "        box-shadow: 0px 1px 2px rgba(60, 64, 67, 0.3), 0px 1px 3px 1px rgba(60, 64, 67, 0.15);\n",
              "        fill: #174EA6;\n",
              "      }\n",
              "\n",
              "      [theme=dark] .colab-df-generate {\n",
              "        background-color: #3B4455;\n",
              "        fill: #D2E3FC;\n",
              "      }\n",
              "\n",
              "      [theme=dark] .colab-df-generate:hover {\n",
              "        background-color: #434B5C;\n",
              "        box-shadow: 0px 1px 3px 1px rgba(0, 0, 0, 0.15);\n",
              "        filter: drop-shadow(0px 1px 2px rgba(0, 0, 0, 0.3));\n",
              "        fill: #FFFFFF;\n",
              "      }\n",
              "    </style>\n",
              "    <button class=\"colab-df-generate\" onclick=\"generateWithVariable('performance_df')\"\n",
              "            title=\"Generate code using this dataframe.\"\n",
              "            style=\"display:none;\">\n",
              "\n",
              "  <svg xmlns=\"http://www.w3.org/2000/svg\" height=\"24px\"viewBox=\"0 0 24 24\"\n",
              "       width=\"24px\">\n",
              "    <path d=\"M7,19H8.4L18.45,9,17,7.55,7,17.6ZM5,21V16.75L18.45,3.32a2,2,0,0,1,2.83,0l1.4,1.43a1.91,1.91,0,0,1,.58,1.4,1.91,1.91,0,0,1-.58,1.4L9.25,21ZM18.45,9,17,7.55Zm-12,3A5.31,5.31,0,0,0,4.9,8.1,5.31,5.31,0,0,0,1,6.5,5.31,5.31,0,0,0,4.9,4.9,5.31,5.31,0,0,0,6.5,1,5.31,5.31,0,0,0,8.1,4.9,5.31,5.31,0,0,0,12,6.5,5.46,5.46,0,0,0,6.5,12Z\"/>\n",
              "  </svg>\n",
              "    </button>\n",
              "    <script>\n",
              "      (() => {\n",
              "      const buttonEl =\n",
              "        document.querySelector('#id_a8200f1f-9b24-49f7-8e15-25bf62f84033 button.colab-df-generate');\n",
              "      buttonEl.style.display =\n",
              "        google.colab.kernel.accessAllowed ? 'block' : 'none';\n",
              "\n",
              "      buttonEl.onclick = () => {\n",
              "        google.colab.notebook.generateWithVariable('performance_df');\n",
              "      }\n",
              "      })();\n",
              "    </script>\n",
              "  </div>\n",
              "\n",
              "    </div>\n",
              "  </div>\n"
            ],
            "application/vnd.google.colaboratory.intrinsic+json": {
              "type": "dataframe",
              "variable_name": "performance_df",
              "summary": "{\n  \"name\": \"performance_df\",\n  \"rows\": 2,\n  \"fields\": [\n    {\n      \"column\": \"Metric\",\n      \"properties\": {\n        \"dtype\": \"string\",\n        \"num_unique_values\": 2,\n        \"samples\": [\n          \"MAPE\",\n          \"RMSE\"\n        ],\n        \"semantic_type\": \"\",\n        \"description\": \"\"\n      }\n    },\n    {\n      \"column\": \"Train\",\n      \"properties\": {\n        \"dtype\": \"number\",\n        \"std\": 3.8635162112102286,\n        \"min\": 0.014353133023027445,\n        \"max\": 5.478190157364848,\n        \"num_unique_values\": 2,\n        \"samples\": [\n          0.014353133023027445,\n          5.478190157364848\n        ],\n        \"semantic_type\": \"\",\n        \"description\": \"\"\n      }\n    },\n    {\n      \"column\": \"Test\",\n      \"properties\": {\n        \"dtype\": \"number\",\n        \"std\": 4.884205212008629,\n        \"min\": 0.016766355392092088,\n        \"max\": 6.924075607628054,\n        \"num_unique_values\": 2,\n        \"samples\": [\n          0.016766355392092088,\n          6.924075607628054\n        ],\n        \"semantic_type\": \"\",\n        \"description\": \"\"\n      }\n    }\n  ]\n}"
            }
          },
          "metadata": {}
        }
      ]
    },
    {
      "cell_type": "markdown",
      "source": [
        "plot how model train and test the dataset"
      ],
      "metadata": {
        "id": "sxWNDfUiYhVM"
      }
    },
    {
      "cell_type": "code",
      "source": [
        "import matplotlib.pyplot as plt\n",
        "\n",
        "plt.figure(figsize=(12,5))\n",
        "\n",
        "plt.subplot(1,2,1)\n",
        "plt.plot(history.history['loss'], label='Train Loss')\n",
        "plt.plot(history.history['val_loss'], label='Val Loss')\n",
        "plt.title('Model Loss')\n",
        "plt.xlabel('Epoch')\n",
        "plt.ylabel('Loss')\n",
        "plt.legend()\n",
        "\n",
        "plt.subplot(1,2,2)\n",
        "plt.plot(history.history['mae'], label='Train MAE')\n",
        "plt.plot(history.history['val_mae'], label='Val MAE')\n",
        "plt.title('Model MAE')\n",
        "plt.xlabel('Epoch')\n",
        "plt.ylabel('MAE')\n",
        "plt.legend()\n",
        "\n",
        "plt.show()"
      ],
      "metadata": {
        "colab": {
          "base_uri": "https://localhost:8080/",
          "height": 487
        },
        "id": "MuYWqSgCeFTP",
        "outputId": "8e7f7f7a-15eb-4433-f71d-1cfb8f507f53"
      },
      "execution_count": null,
      "outputs": [
        {
          "output_type": "display_data",
          "data": {
            "text/plain": [
              "<Figure size 1200x500 with 2 Axes>"
            ],
            "image/png": "[encoded data removed]"
          },
          "metadata": {}
        }
      ]
    },
    {
      "cell_type": "code",
      "source": [
        "\n",
        "# shift train predictions for plotting\n",
        "look_back=100\n",
        "trainPredictPlot = np.empty_like(ds_close)\n",
        "trainPredictPlot[:, :] = np.nan\n",
        "trainPredictPlot[look_back:len(train_predict)+look_back, :] = train_predict\n",
        "# shift test predictions for plotting\n",
        "testPredictPlot = np.empty_like(ds_close)\n",
        "testPredictPlot[:, :] = np.nan\n",
        "testPredictPlot[len(train_predict)+(look_back*2)+1:len(ds_close)-1, :] = test_predict\n",
        "# plot baseline and predictions\n",
        "plt.plot(scaler.inverse_transform(ds_close))\n",
        "plt.plot(trainPredictPlot)\n",
        "plt.plot(testPredictPlot)\n",
        "plt.show()"
      ],
      "metadata": {
        "colab": {
          "base_uri": "https://localhost:8080/",
          "height": 430
        },
        "id": "fOeuS3HYN2pj",
        "outputId": "52f7f2b3-dc18-4769-dbb0-8dfe711930eb"
      },
      "execution_count": null,
      "outputs": [
        {
          "output_type": "display_data",
          "data": {
            "text/plain": [
              "<Figure size 640x480 with 1 Axes>"
            ],
            "image/png": "[encoded data removed]"
          },
          "metadata": {}
        }
      ]
    },
    {
      "cell_type": "markdown",
      "source": [
        "# **FUTURE PREDICTION**"
      ],
      "metadata": {
        "id": "Y0PYF_CHYsNu"
      }
    },
    {
      "cell_type": "code",
      "execution_count": null,
      "metadata": {
        "colab": {
          "base_uri": "https://localhost:8080/"
        },
        "id": "OJq6rePGsar8",
        "outputId": "d27ac872-b698-41ca-e365-73a1ae2bd69b"
      },
      "outputs": [
        {
          "output_type": "execute_result",
          "data": {
            "text/plain": [
              "530"
            ]
          },
          "metadata": {},
          "execution_count": 126
        }
      ],
      "source": [
        "len(test_data)"
      ]
    },
    {
      "cell_type": "markdown",
      "source": [
        "We predict 30 days stock price based on last 100 days of test data"
      ],
      "metadata": {
        "id": "vwvvxcBjYi7P"
      }
    },
    {
      "cell_type": "code",
      "execution_count": null,
      "metadata": {
        "colab": {
          "base_uri": "https://localhost:8080/"
        },
        "id": "Hqa_smMZsasM",
        "outputId": "29416bd2-3201-4045-f6d8-f7f4aba1c965"
      },
      "outputs": [
        {
          "output_type": "execute_result",
          "data": {
            "text/plain": [
              "(1, 100)"
            ]
          },
          "metadata": {},
          "execution_count": 127
        }
      ],
      "source": [
        "x_input=test_data[430:].reshape(1,-1)\n",
        "x_input.shape\n"
      ]
    },
    {
      "cell_type": "code",
      "execution_count": null,
      "metadata": {
        "id": "qKSaUik1sasO"
      },
      "outputs": [],
      "source": [
        "temp_input=list(x_input)\n",
        "temp_input=temp_input[0].tolist()"
      ]
    },
    {
      "cell_type": "markdown",
      "source": [
        "Based on last 100 days stock price, we predict next 30 days stock price"
      ],
      "metadata": {
        "id": "1s7v-MVGd4kU"
      }
    },
    {
      "cell_type": "code",
      "execution_count": null,
      "metadata": {
        "colab": {
          "base_uri": "https://localhost:8080/"
        },
        "collapsed": true,
        "id": "lPIUxhmGsasP",
        "outputId": "a3e93377-c6d7-45ac-f44f-84aca31366cf"
      },
      "outputs": [
        {
          "output_type": "stream",
          "name": "stdout",
          "text": [
            "[0.28921545]\n",
            "101\n",
            "1 day input [0.3810907  0.34978499 0.32931587 0.32841282 0.33985145 0.3371423\n",
            " 0.32901486 0.3169742  0.31998436 0.32449961 0.35038702 0.33112197\n",
            " 0.33262705 0.39433542 0.39165637 0.37543159 0.36251798 0.36947146\n",
            " 0.37708718 0.35821345 0.32079711 0.3280817  0.32543276 0.3151681\n",
            " 0.32642611 0.40258327 0.48536278 0.51781235 0.51085887 0.41847694\n",
            " 0.38966966 0.32377717 0.34827991 0.33371071 0.3078835  0.30722127\n",
            " 0.30689015 0.30689015 0.30854574 0.30722127 0.30689015 0.30689015\n",
            " 0.31351251 0.30689015 0.30689015 0.30887686 0.30854574 0.31020133\n",
            " 0.30953909 0.30689015 0.30920797 0.31351251 0.30821462 0.30689015\n",
            " 0.30689015 0.30689015 0.30689015 0.30920797 0.3078835  0.30689015\n",
            " 0.30689015 0.30689015 0.30689015 0.30689015 0.30689015 0.30689015\n",
            " 0.30689015 0.30689015 0.30689015 0.30689015 0.31748593 0.31417475\n",
            " 0.30755238 0.33669077 0.32642611 0.32079711 0.31285027 0.3188104\n",
            " 0.30920797 0.28536747 0.28106294 0.26119586 0.24927561 0.24331548\n",
            " 0.2436466  0.24861337 0.2509312  0.28602971 0.30987021 0.30556568\n",
            " 0.3115258  0.29298319 0.3078835  0.30689015 0.30589679 0.29960555\n",
            " 0.27973847 0.29960555 0.29298319 0.28921545]\n",
            "1 day output [[0.28788224]]\n",
            "2 day input [0.34978499 0.32931587 0.32841282 0.33985145 0.3371423  0.32901486\n",
            " 0.3169742  0.31998436 0.32449961 0.35038702 0.33112197 0.33262705\n",
            " 0.39433542 0.39165637 0.37543159 0.36251798 0.36947146 0.37708718\n",
            " 0.35821345 0.32079711 0.3280817  0.32543276 0.3151681  0.32642611\n",
            " 0.40258327 0.48536278 0.51781235 0.51085887 0.41847694 0.38966966\n",
            " 0.32377717 0.34827991 0.33371071 0.3078835  0.30722127 0.30689015\n",
            " 0.30689015 0.30854574 0.30722127 0.30689015 0.30689015 0.31351251\n",
            " 0.30689015 0.30689015 0.30887686 0.30854574 0.31020133 0.30953909\n",
            " 0.30689015 0.30920797 0.31351251 0.30821462 0.30689015 0.30689015\n",
            " 0.30689015 0.30689015 0.30920797 0.3078835  0.30689015 0.30689015\n",
            " 0.30689015 0.30689015 0.30689015 0.30689015 0.30689015 0.30689015\n",
            " 0.30689015 0.30689015 0.30689015 0.31748593 0.31417475 0.30755238\n",
            " 0.33669077 0.32642611 0.32079711 0.31285027 0.3188104  0.30920797\n",
            " 0.28536747 0.28106294 0.26119586 0.24927561 0.24331548 0.2436466\n",
            " 0.24861337 0.2509312  0.28602971 0.30987021 0.30556568 0.3115258\n",
            " 0.29298319 0.3078835  0.30689015 0.30589679 0.29960555 0.27973847\n",
            " 0.29960555 0.29298319 0.28921545 0.28788224]\n",
            "2 day output [[0.2862695]]\n",
            "3 day input [0.32931587 0.32841282 0.33985145 0.3371423  0.32901486 0.3169742\n",
            " 0.31998436 0.32449961 0.35038702 0.33112197 0.33262705 0.39433542\n",
            " 0.39165637 0.37543159 0.36251798 0.36947146 0.37708718 0.35821345\n",
            " 0.32079711 0.3280817  0.32543276 0.3151681  0.32642611 0.40258327\n",
            " 0.48536278 0.51781235 0.51085887 0.41847694 0.38966966 0.32377717\n",
            " 0.34827991 0.33371071 0.3078835  0.30722127 0.30689015 0.30689015\n",
            " 0.30854574 0.30722127 0.30689015 0.30689015 0.31351251 0.30689015\n",
            " 0.30689015 0.30887686 0.30854574 0.31020133 0.30953909 0.30689015\n",
            " 0.30920797 0.31351251 0.30821462 0.30689015 0.30689015 0.30689015\n",
            " 0.30689015 0.30920797 0.3078835  0.30689015 0.30689015 0.30689015\n",
            " 0.30689015 0.30689015 0.30689015 0.30689015 0.30689015 0.30689015\n",
            " 0.30689015 0.30689015 0.31748593 0.31417475 0.30755238 0.33669077\n",
            " 0.32642611 0.32079711 0.31285027 0.3188104  0.30920797 0.28536747\n",
            " 0.28106294 0.26119586 0.24927561 0.24331548 0.2436466  0.24861337\n",
            " 0.2509312  0.28602971 0.30987021 0.30556568 0.3115258  0.29298319\n",
            " 0.3078835  0.30689015 0.30589679 0.29960555 0.27973847 0.29960555\n",
            " 0.29298319 0.28921545 0.28788224 0.28626949]\n",
            "3 day output [[0.284972]]\n",
            "4 day input [0.32841282 0.33985145 0.3371423  0.32901486 0.3169742  0.31998436\n",
            " 0.32449961 0.35038702 0.33112197 0.33262705 0.39433542 0.39165637\n",
            " 0.37543159 0.36251798 0.36947146 0.37708718 0.35821345 0.32079711\n",
            " 0.3280817  0.32543276 0.3151681  0.32642611 0.40258327 0.48536278\n",
            " 0.51781235 0.51085887 0.41847694 0.38966966 0.32377717 0.34827991\n",
            " 0.33371071 0.3078835  0.30722127 0.30689015 0.30689015 0.30854574\n",
            " 0.30722127 0.30689015 0.30689015 0.31351251 0.30689015 0.30689015\n",
            " 0.30887686 0.30854574 0.31020133 0.30953909 0.30689015 0.30920797\n",
            " 0.31351251 0.30821462 0.30689015 0.30689015 0.30689015 0.30689015\n",
            " 0.30920797 0.3078835  0.30689015 0.30689015 0.30689015 0.30689015\n",
            " 0.30689015 0.30689015 0.30689015 0.30689015 0.30689015 0.30689015\n",
            " 0.30689015 0.31748593 0.31417475 0.30755238 0.33669077 0.32642611\n",
            " 0.32079711 0.31285027 0.3188104  0.30920797 0.28536747 0.28106294\n",
            " 0.26119586 0.24927561 0.24331548 0.2436466  0.24861337 0.2509312\n",
            " 0.28602971 0.30987021 0.30556568 0.3115258  0.29298319 0.3078835\n",
            " 0.30689015 0.30589679 0.29960555 0.27973847 0.29960555 0.29298319\n",
            " 0.28921545 0.28788224 0.28626949 0.28497201]\n",
            "4 day output [[0.28434002]]\n",
            "5 day input [0.33985145 0.3371423  0.32901486 0.3169742  0.31998436 0.32449961\n",
            " 0.35038702 0.33112197 0.33262705 0.39433542 0.39165637 0.37543159\n",
            " 0.36251798 0.36947146 0.37708718 0.35821345 0.32079711 0.3280817\n",
            " 0.32543276 0.3151681  0.32642611 0.40258327 0.48536278 0.51781235\n",
            " 0.51085887 0.41847694 0.38966966 0.32377717 0.34827991 0.33371071\n",
            " 0.3078835  0.30722127 0.30689015 0.30689015 0.30854574 0.30722127\n",
            " 0.30689015 0.30689015 0.31351251 0.30689015 0.30689015 0.30887686\n",
            " 0.30854574 0.31020133 0.30953909 0.30689015 0.30920797 0.31351251\n",
            " 0.30821462 0.30689015 0.30689015 0.30689015 0.30689015 0.30920797\n",
            " 0.3078835  0.30689015 0.30689015 0.30689015 0.30689015 0.30689015\n",
            " 0.30689015 0.30689015 0.30689015 0.30689015 0.30689015 0.30689015\n",
            " 0.31748593 0.31417475 0.30755238 0.33669077 0.32642611 0.32079711\n",
            " 0.31285027 0.3188104  0.30920797 0.28536747 0.28106294 0.26119586\n",
            " 0.24927561 0.24331548 0.2436466  0.24861337 0.2509312  0.28602971\n",
            " 0.30987021 0.30556568 0.3115258  0.29298319 0.3078835  0.30689015\n",
            " 0.30589679 0.29960555 0.27973847 0.29960555 0.29298319 0.28921545\n",
            " 0.28788224 0.28626949 0.28497201 0.28434002]\n",
            "5 day output [[0.2844171]]\n",
            "6 day input [0.3371423  0.32901486 0.3169742  0.31998436 0.32449961 0.35038702\n",
            " 0.33112197 0.33262705 0.39433542 0.39165637 0.37543159 0.36251798\n",
            " 0.36947146 0.37708718 0.35821345 0.32079711 0.3280817  0.32543276\n",
            " 0.3151681  0.32642611 0.40258327 0.48536278 0.51781235 0.51085887\n",
            " 0.41847694 0.38966966 0.32377717 0.34827991 0.33371071 0.3078835\n",
            " 0.30722127 0.30689015 0.30689015 0.30854574 0.30722127 0.30689015\n",
            " 0.30689015 0.31351251 0.30689015 0.30689015 0.30887686 0.30854574\n",
            " 0.31020133 0.30953909 0.30689015 0.30920797 0.31351251 0.30821462\n",
            " 0.30689015 0.30689015 0.30689015 0.30689015 0.30920797 0.3078835\n",
            " 0.30689015 0.30689015 0.30689015 0.30689015 0.30689015 0.30689015\n",
            " 0.30689015 0.30689015 0.30689015 0.30689015 0.30689015 0.31748593\n",
            " 0.31417475 0.30755238 0.33669077 0.32642611 0.32079711 0.31285027\n",
            " 0.3188104  0.30920797 0.28536747 0.28106294 0.26119586 0.24927561\n",
            " 0.24331548 0.2436466  0.24861337 0.2509312  0.28602971 0.30987021\n",
            " 0.30556568 0.3115258  0.29298319 0.3078835  0.30689015 0.30589679\n",
            " 0.29960555 0.27973847 0.29960555 0.29298319 0.28921545 0.28788224\n",
            " 0.28626949 0.28497201 0.28434002 0.28441709]\n",
            "6 day output [[0.28506756]]\n",
            "7 day input [0.32901486 0.3169742  0.31998436 0.32449961 0.35038702 0.33112197\n",
            " 0.33262705 0.39433542 0.39165637 0.37543159 0.36251798 0.36947146\n",
            " 0.37708718 0.35821345 0.32079711 0.3280817  0.32543276 0.3151681\n",
            " 0.32642611 0.40258327 0.48536278 0.51781235 0.51085887 0.41847694\n",
            " 0.38966966 0.32377717 0.34827991 0.33371071 0.3078835  0.30722127\n",
            " 0.30689015 0.30689015 0.30854574 0.30722127 0.30689015 0.30689015\n",
            " 0.31351251 0.30689015 0.30689015 0.30887686 0.30854574 0.31020133\n",
            " 0.30953909 0.30689015 0.30920797 0.31351251 0.30821462 0.30689015\n",
            " 0.30689015 0.30689015 0.30689015 0.30920797 0.3078835  0.30689015\n",
            " 0.30689015 0.30689015 0.30689015 0.30689015 0.30689015 0.30689015\n",
            " 0.30689015 0.30689015 0.30689015 0.30689015 0.31748593 0.31417475\n",
            " 0.30755238 0.33669077 0.32642611 0.32079711 0.31285027 0.3188104\n",
            " 0.30920797 0.28536747 0.28106294 0.26119586 0.24927561 0.24331548\n",
            " 0.2436466  0.24861337 0.2509312  0.28602971 0.30987021 0.30556568\n",
            " 0.3115258  0.29298319 0.3078835  0.30689015 0.30589679 0.29960555\n",
            " 0.27973847 0.29960555 0.29298319 0.28921545 0.28788224 0.28626949\n",
            " 0.28497201 0.28434002 0.28441709 0.28506756]\n",
            "7 day output [[0.2861358]]\n",
            "8 day input [0.3169742  0.31998436 0.32449961 0.35038702 0.33112197 0.33262705\n",
            " 0.39433542 0.39165637 0.37543159 0.36251798 0.36947146 0.37708718\n",
            " 0.35821345 0.32079711 0.3280817  0.32543276 0.3151681  0.32642611\n",
            " 0.40258327 0.48536278 0.51781235 0.51085887 0.41847694 0.38966966\n",
            " 0.32377717 0.34827991 0.33371071 0.3078835  0.30722127 0.30689015\n",
            " 0.30689015 0.30854574 0.30722127 0.30689015 0.30689015 0.31351251\n",
            " 0.30689015 0.30689015 0.30887686 0.30854574 0.31020133 0.30953909\n",
            " 0.30689015 0.30920797 0.31351251 0.30821462 0.30689015 0.30689015\n",
            " 0.30689015 0.30689015 0.30920797 0.3078835  0.30689015 0.30689015\n",
            " 0.30689015 0.30689015 0.30689015 0.30689015 0.30689015 0.30689015\n",
            " 0.30689015 0.30689015 0.30689015 0.31748593 0.31417475 0.30755238\n",
            " 0.33669077 0.32642611 0.32079711 0.31285027 0.3188104  0.30920797\n",
            " 0.28536747 0.28106294 0.26119586 0.24927561 0.24331548 0.2436466\n",
            " 0.24861337 0.2509312  0.28602971 0.30987021 0.30556568 0.3115258\n",
            " 0.29298319 0.3078835  0.30689015 0.30589679 0.29960555 0.27973847\n",
            " 0.29960555 0.29298319 0.28921545 0.28788224 0.28626949 0.28497201\n",
            " 0.28434002 0.28441709 0.28506756 0.28613579]\n",
            "8 day output [[0.28612012]]\n",
            "9 day input [0.31998436 0.32449961 0.35038702 0.33112197 0.33262705 0.39433542\n",
            " 0.39165637 0.37543159 0.36251798 0.36947146 0.37708718 0.35821345\n",
            " 0.32079711 0.3280817  0.32543276 0.3151681  0.32642611 0.40258327\n",
            " 0.48536278 0.51781235 0.51085887 0.41847694 0.38966966 0.32377717\n",
            " 0.34827991 0.33371071 0.3078835  0.30722127 0.30689015 0.30689015\n",
            " 0.30854574 0.30722127 0.30689015 0.30689015 0.31351251 0.30689015\n",
            " 0.30689015 0.30887686 0.30854574 0.31020133 0.30953909 0.30689015\n",
            " 0.30920797 0.31351251 0.30821462 0.30689015 0.30689015 0.30689015\n",
            " 0.30689015 0.30920797 0.3078835  0.30689015 0.30689015 0.30689015\n",
            " 0.30689015 0.30689015 0.30689015 0.30689015 0.30689015 0.30689015\n",
            " 0.30689015 0.30689015 0.31748593 0.31417475 0.30755238 0.33669077\n",
            " 0.32642611 0.32079711 0.31285027 0.3188104  0.30920797 0.28536747\n",
            " 0.28106294 0.26119586 0.24927561 0.24331548 0.2436466  0.24861337\n",
            " 0.2509312  0.28602971 0.30987021 0.30556568 0.3115258  0.29298319\n",
            " 0.3078835  0.30689015 0.30589679 0.29960555 0.27973847 0.29960555\n",
            " 0.29298319 0.28921545 0.28788224 0.28626949 0.28497201 0.28434002\n",
            " 0.28441709 0.28506756 0.28613579 0.28612012]\n",
            "9 day output [[0.28543833]]\n",
            "10 day input [0.32449961 0.35038702 0.33112197 0.33262705 0.39433542 0.39165637\n",
            " 0.37543159 0.36251798 0.36947146 0.37708718 0.35821345 0.32079711\n",
            " 0.3280817  0.32543276 0.3151681  0.32642611 0.40258327 0.48536278\n",
            " 0.51781235 0.51085887 0.41847694 0.38966966 0.32377717 0.34827991\n",
            " 0.33371071 0.3078835  0.30722127 0.30689015 0.30689015 0.30854574\n",
            " 0.30722127 0.30689015 0.30689015 0.31351251 0.30689015 0.30689015\n",
            " 0.30887686 0.30854574 0.31020133 0.30953909 0.30689015 0.30920797\n",
            " 0.31351251 0.30821462 0.30689015 0.30689015 0.30689015 0.30689015\n",
            " 0.30920797 0.3078835  0.30689015 0.30689015 0.30689015 0.30689015\n",
            " 0.30689015 0.30689015 0.30689015 0.30689015 0.30689015 0.30689015\n",
            " 0.30689015 0.31748593 0.31417475 0.30755238 0.33669077 0.32642611\n",
            " 0.32079711 0.31285027 0.3188104  0.30920797 0.28536747 0.28106294\n",
            " 0.26119586 0.24927561 0.24331548 0.2436466  0.24861337 0.2509312\n",
            " 0.28602971 0.30987021 0.30556568 0.3115258  0.29298319 0.3078835\n",
            " 0.30689015 0.30589679 0.29960555 0.27973847 0.29960555 0.29298319\n",
            " 0.28921545 0.28788224 0.28626949 0.28497201 0.28434002 0.28441709\n",
            " 0.28506756 0.28613579 0.28612012 0.28543833]\n",
            "10 day output [[0.28402856]]\n",
            "11 day input [0.35038702 0.33112197 0.33262705 0.39433542 0.39165637 0.37543159\n",
            " 0.36251798 0.36947146 0.37708718 0.35821345 0.32079711 0.3280817\n",
            " 0.32543276 0.3151681  0.32642611 0.40258327 0.48536278 0.51781235\n",
            " 0.51085887 0.41847694 0.38966966 0.32377717 0.34827991 0.33371071\n",
            " 0.3078835  0.30722127 0.30689015 0.30689015 0.30854574 0.30722127\n",
            " 0.30689015 0.30689015 0.31351251 0.30689015 0.30689015 0.30887686\n",
            " 0.30854574 0.31020133 0.30953909 0.30689015 0.30920797 0.31351251\n",
            " 0.30821462 0.30689015 0.30689015 0.30689015 0.30689015 0.30920797\n",
            " 0.3078835  0.30689015 0.30689015 0.30689015 0.30689015 0.30689015\n",
            " 0.30689015 0.30689015 0.30689015 0.30689015 0.30689015 0.30689015\n",
            " 0.31748593 0.31417475 0.30755238 0.33669077 0.32642611 0.32079711\n",
            " 0.31285027 0.3188104  0.30920797 0.28536747 0.28106294 0.26119586\n",
            " 0.24927561 0.24331548 0.2436466  0.24861337 0.2509312  0.28602971\n",
            " 0.30987021 0.30556568 0.3115258  0.29298319 0.3078835  0.30689015\n",
            " 0.30589679 0.29960555 0.27973847 0.29960555 0.29298319 0.28921545\n",
            " 0.28788224 0.28626949 0.28497201 0.28434002 0.28441709 0.28506756\n",
            " 0.28613579 0.28612012 0.28543833 0.28402856]\n",
            "11 day output [[0.2823788]]\n",
            "12 day input [0.33112197 0.33262705 0.39433542 0.39165637 0.37543159 0.36251798\n",
            " 0.36947146 0.37708718 0.35821345 0.32079711 0.3280817  0.32543276\n",
            " 0.3151681  0.32642611 0.40258327 0.48536278 0.51781235 0.51085887\n",
            " 0.41847694 0.38966966 0.32377717 0.34827991 0.33371071 0.3078835\n",
            " 0.30722127 0.30689015 0.30689015 0.30854574 0.30722127 0.30689015\n",
            " 0.30689015 0.31351251 0.30689015 0.30689015 0.30887686 0.30854574\n",
            " 0.31020133 0.30953909 0.30689015 0.30920797 0.31351251 0.30821462\n",
            " 0.30689015 0.30689015 0.30689015 0.30689015 0.30920797 0.3078835\n",
            " 0.30689015 0.30689015 0.30689015 0.30689015 0.30689015 0.30689015\n",
            " 0.30689015 0.30689015 0.30689015 0.30689015 0.30689015 0.31748593\n",
            " 0.31417475 0.30755238 0.33669077 0.32642611 0.32079711 0.31285027\n",
            " 0.3188104  0.30920797 0.28536747 0.28106294 0.26119586 0.24927561\n",
            " 0.24331548 0.2436466  0.24861337 0.2509312  0.28602971 0.30987021\n",
            " 0.30556568 0.3115258  0.29298319 0.3078835  0.30689015 0.30589679\n",
            " 0.29960555 0.27973847 0.29960555 0.29298319 0.28921545 0.28788224\n",
            " 0.28626949 0.28497201 0.28434002 0.28441709 0.28506756 0.28613579\n",
            " 0.28612012 0.28543833 0.28402856 0.28237879]\n",
            "12 day output [[0.28099525]]\n",
            "13 day input [0.33262705 0.39433542 0.39165637 0.37543159 0.36251798 0.36947146\n",
            " 0.37708718 0.35821345 0.32079711 0.3280817  0.32543276 0.3151681\n",
            " 0.32642611 0.40258327 0.48536278 0.51781235 0.51085887 0.41847694\n",
            " 0.38966966 0.32377717 0.34827991 0.33371071 0.3078835  0.30722127\n",
            " 0.30689015 0.30689015 0.30854574 0.30722127 0.30689015 0.30689015\n",
            " 0.31351251 0.30689015 0.30689015 0.30887686 0.30854574 0.31020133\n",
            " 0.30953909 0.30689015 0.30920797 0.31351251 0.30821462 0.30689015\n",
            " 0.30689015 0.30689015 0.30689015 0.30920797 0.3078835  0.30689015\n",
            " 0.30689015 0.30689015 0.30689015 0.30689015 0.30689015 0.30689015\n",
            " 0.30689015 0.30689015 0.30689015 0.30689015 0.31748593 0.31417475\n",
            " 0.30755238 0.33669077 0.32642611 0.32079711 0.31285027 0.3188104\n",
            " 0.30920797 0.28536747 0.28106294 0.26119586 0.24927561 0.24331548\n",
            " 0.2436466  0.24861337 0.2509312  0.28602971 0.30987021 0.30556568\n",
            " 0.3115258  0.29298319 0.3078835  0.30689015 0.30589679 0.29960555\n",
            " 0.27973847 0.29960555 0.29298319 0.28921545 0.28788224 0.28626949\n",
            " 0.28497201 0.28434002 0.28441709 0.28506756 0.28613579 0.28612012\n",
            " 0.28543833 0.28402856 0.28237879 0.28099525]\n",
            "13 day output [[0.28051212]]\n",
            "14 day input [0.39433542 0.39165637 0.37543159 0.36251798 0.36947146 0.37708718\n",
            " 0.35821345 0.32079711 0.3280817  0.32543276 0.3151681  0.32642611\n",
            " 0.40258327 0.48536278 0.51781235 0.51085887 0.41847694 0.38966966\n",
            " 0.32377717 0.34827991 0.33371071 0.3078835  0.30722127 0.30689015\n",
            " 0.30689015 0.30854574 0.30722127 0.30689015 0.30689015 0.31351251\n",
            " 0.30689015 0.30689015 0.30887686 0.30854574 0.31020133 0.30953909\n",
            " 0.30689015 0.30920797 0.31351251 0.30821462 0.30689015 0.30689015\n",
            " 0.30689015 0.30689015 0.30920797 0.3078835  0.30689015 0.30689015\n",
            " 0.30689015 0.30689015 0.30689015 0.30689015 0.30689015 0.30689015\n",
            " 0.30689015 0.30689015 0.30689015 0.31748593 0.31417475 0.30755238\n",
            " 0.33669077 0.32642611 0.32079711 0.31285027 0.3188104  0.30920797\n",
            " 0.28536747 0.28106294 0.26119586 0.24927561 0.24331548 0.2436466\n",
            " 0.24861337 0.2509312  0.28602971 0.30987021 0.30556568 0.3115258\n",
            " 0.29298319 0.3078835  0.30689015 0.30589679 0.29960555 0.27973847\n",
            " 0.29960555 0.29298319 0.28921545 0.28788224 0.28626949 0.28497201\n",
            " 0.28434002 0.28441709 0.28506756 0.28613579 0.28612012 0.28543833\n",
            " 0.28402856 0.28237879 0.28099525 0.28051212]\n",
            "14 day output [[0.28178746]]\n",
            "15 day input [0.39165637 0.37543159 0.36251798 0.36947146 0.37708718 0.35821345\n",
            " 0.32079711 0.3280817  0.32543276 0.3151681  0.32642611 0.40258327\n",
            " 0.48536278 0.51781235 0.51085887 0.41847694 0.38966966 0.32377717\n",
            " 0.34827991 0.33371071 0.3078835  0.30722127 0.30689015 0.30689015\n",
            " 0.30854574 0.30722127 0.30689015 0.30689015 0.31351251 0.30689015\n",
            " 0.30689015 0.30887686 0.30854574 0.31020133 0.30953909 0.30689015\n",
            " 0.30920797 0.31351251 0.30821462 0.30689015 0.30689015 0.30689015\n",
            " 0.30689015 0.30920797 0.3078835  0.30689015 0.30689015 0.30689015\n",
            " 0.30689015 0.30689015 0.30689015 0.30689015 0.30689015 0.30689015\n",
            " 0.30689015 0.30689015 0.31748593 0.31417475 0.30755238 0.33669077\n",
            " 0.32642611 0.32079711 0.31285027 0.3188104  0.30920797 0.28536747\n",
            " 0.28106294 0.26119586 0.24927561 0.24331548 0.2436466  0.24861337\n",
            " 0.2509312  0.28602971 0.30987021 0.30556568 0.3115258  0.29298319\n",
            " 0.3078835  0.30689015 0.30589679 0.29960555 0.27973847 0.29960555\n",
            " 0.29298319 0.28921545 0.28788224 0.28626949 0.28497201 0.28434002\n",
            " 0.28441709 0.28506756 0.28613579 0.28612012 0.28543833 0.28402856\n",
            " 0.28237879 0.28099525 0.28051212 0.28178746]\n",
            "15 day output [[0.2849098]]\n",
            "16 day input [0.37543159 0.36251798 0.36947146 0.37708718 0.35821345 0.32079711\n",
            " 0.3280817  0.32543276 0.3151681  0.32642611 0.40258327 0.48536278\n",
            " 0.51781235 0.51085887 0.41847694 0.38966966 0.32377717 0.34827991\n",
            " 0.33371071 0.3078835  0.30722127 0.30689015 0.30689015 0.30854574\n",
            " 0.30722127 0.30689015 0.30689015 0.31351251 0.30689015 0.30689015\n",
            " 0.30887686 0.30854574 0.31020133 0.30953909 0.30689015 0.30920797\n",
            " 0.31351251 0.30821462 0.30689015 0.30689015 0.30689015 0.30689015\n",
            " 0.30920797 0.3078835  0.30689015 0.30689015 0.30689015 0.30689015\n",
            " 0.30689015 0.30689015 0.30689015 0.30689015 0.30689015 0.30689015\n",
            " 0.30689015 0.31748593 0.31417475 0.30755238 0.33669077 0.32642611\n",
            " 0.32079711 0.31285027 0.3188104  0.30920797 0.28536747 0.28106294\n",
            " 0.26119586 0.24927561 0.24331548 0.2436466  0.24861337 0.2509312\n",
            " 0.28602971 0.30987021 0.30556568 0.3115258  0.29298319 0.3078835\n",
            " 0.30689015 0.30589679 0.29960555 0.27973847 0.29960555 0.29298319\n",
            " 0.28921545 0.28788224 0.28626949 0.28497201 0.28434002 0.28441709\n",
            " 0.28506756 0.28613579 0.28612012 0.28543833 0.28402856 0.28237879\n",
            " 0.28099525 0.28051212 0.28178746 0.28490981]\n",
            "16 day output [[0.28938818]]\n",
            "17 day input [0.36251798 0.36947146 0.37708718 0.35821345 0.32079711 0.3280817\n",
            " 0.32543276 0.3151681  0.32642611 0.40258327 0.48536278 0.51781235\n",
            " 0.51085887 0.41847694 0.38966966 0.32377717 0.34827991 0.33371071\n",
            " 0.3078835  0.30722127 0.30689015 0.30689015 0.30854574 0.30722127\n",
            " 0.30689015 0.30689015 0.31351251 0.30689015 0.30689015 0.30887686\n",
            " 0.30854574 0.31020133 0.30953909 0.30689015 0.30920797 0.31351251\n",
            " 0.30821462 0.30689015 0.30689015 0.30689015 0.30689015 0.30920797\n",
            " 0.3078835  0.30689015 0.30689015 0.30689015 0.30689015 0.30689015\n",
            " 0.30689015 0.30689015 0.30689015 0.30689015 0.30689015 0.30689015\n",
            " 0.31748593 0.31417475 0.30755238 0.33669077 0.32642611 0.32079711\n",
            " 0.31285027 0.3188104  0.30920797 0.28536747 0.28106294 0.26119586\n",
            " 0.24927561 0.24331548 0.2436466  0.24861337 0.2509312  0.28602971\n",
            " 0.30987021 0.30556568 0.3115258  0.29298319 0.3078835  0.30689015\n",
            " 0.30589679 0.29960555 0.27973847 0.29960555 0.29298319 0.28921545\n",
            " 0.28788224 0.28626949 0.28497201 0.28434002 0.28441709 0.28506756\n",
            " 0.28613579 0.28612012 0.28543833 0.28402856 0.28237879 0.28099525\n",
            " 0.28051212 0.28178746 0.28490981 0.28938818]\n",
            "17 day output [[0.29479158]]\n",
            "18 day input [0.36947146 0.37708718 0.35821345 0.32079711 0.3280817  0.32543276\n",
            " 0.3151681  0.32642611 0.40258327 0.48536278 0.51781235 0.51085887\n",
            " 0.41847694 0.38966966 0.32377717 0.34827991 0.33371071 0.3078835\n",
            " 0.30722127 0.30689015 0.30689015 0.30854574 0.30722127 0.30689015\n",
            " 0.30689015 0.31351251 0.30689015 0.30689015 0.30887686 0.30854574\n",
            " 0.31020133 0.30953909 0.30689015 0.30920797 0.31351251 0.30821462\n",
            " 0.30689015 0.30689015 0.30689015 0.30689015 0.30920797 0.3078835\n",
            " 0.30689015 0.30689015 0.30689015 0.30689015 0.30689015 0.30689015\n",
            " 0.30689015 0.30689015 0.30689015 0.30689015 0.30689015 0.31748593\n",
            " 0.31417475 0.30755238 0.33669077 0.32642611 0.32079711 0.31285027\n",
            " 0.3188104  0.30920797 0.28536747 0.28106294 0.26119586 0.24927561\n",
            " 0.24331548 0.2436466  0.24861337 0.2509312  0.28602971 0.30987021\n",
            " 0.30556568 0.3115258  0.29298319 0.3078835  0.30689015 0.30589679\n",
            " 0.29960555 0.27973847 0.29960555 0.29298319 0.28921545 0.28788224\n",
            " 0.28626949 0.28497201 0.28434002 0.28441709 0.28506756 0.28613579\n",
            " 0.28612012 0.28543833 0.28402856 0.28237879 0.28099525 0.28051212\n",
            " 0.28178746 0.28490981 0.28938818 0.29479158]\n",
            "18 day output [[0.29763204]]\n",
            "19 day input [0.37708718 0.35821345 0.32079711 0.3280817  0.32543276 0.3151681\n",
            " 0.32642611 0.40258327 0.48536278 0.51781235 0.51085887 0.41847694\n",
            " 0.38966966 0.32377717 0.34827991 0.33371071 0.3078835  0.30722127\n",
            " 0.30689015 0.30689015 0.30854574 0.30722127 0.30689015 0.30689015\n",
            " 0.31351251 0.30689015 0.30689015 0.30887686 0.30854574 0.31020133\n",
            " 0.30953909 0.30689015 0.30920797 0.31351251 0.30821462 0.30689015\n",
            " 0.30689015 0.30689015 0.30689015 0.30920797 0.3078835  0.30689015\n",
            " 0.30689015 0.30689015 0.30689015 0.30689015 0.30689015 0.30689015\n",
            " 0.30689015 0.30689015 0.30689015 0.30689015 0.31748593 0.31417475\n",
            " 0.30755238 0.33669077 0.32642611 0.32079711 0.31285027 0.3188104\n",
            " 0.30920797 0.28536747 0.28106294 0.26119586 0.24927561 0.24331548\n",
            " 0.2436466  0.24861337 0.2509312  0.28602971 0.30987021 0.30556568\n",
            " 0.3115258  0.29298319 0.3078835  0.30689015 0.30589679 0.29960555\n",
            " 0.27973847 0.29960555 0.29298319 0.28921545 0.28788224 0.28626949\n",
            " 0.28497201 0.28434002 0.28441709 0.28506756 0.28613579 0.28612012\n",
            " 0.28543833 0.28402856 0.28237879 0.28099525 0.28051212 0.28178746\n",
            " 0.28490981 0.28938818 0.29479158 0.29763204]\n",
            "19 day output [[0.2983393]]\n",
            "20 day input [0.35821345 0.32079711 0.3280817  0.32543276 0.3151681  0.32642611\n",
            " 0.40258327 0.48536278 0.51781235 0.51085887 0.41847694 0.38966966\n",
            " 0.32377717 0.34827991 0.33371071 0.3078835  0.30722127 0.30689015\n",
            " 0.30689015 0.30854574 0.30722127 0.30689015 0.30689015 0.31351251\n",
            " 0.30689015 0.30689015 0.30887686 0.30854574 0.31020133 0.30953909\n",
            " 0.30689015 0.30920797 0.31351251 0.30821462 0.30689015 0.30689015\n",
            " 0.30689015 0.30689015 0.30920797 0.3078835  0.30689015 0.30689015\n",
            " 0.30689015 0.30689015 0.30689015 0.30689015 0.30689015 0.30689015\n",
            " 0.30689015 0.30689015 0.30689015 0.31748593 0.31417475 0.30755238\n",
            " 0.33669077 0.32642611 0.32079711 0.31285027 0.3188104  0.30920797\n",
            " 0.28536747 0.28106294 0.26119586 0.24927561 0.24331548 0.2436466\n",
            " 0.24861337 0.2509312  0.28602971 0.30987021 0.30556568 0.3115258\n",
            " 0.29298319 0.3078835  0.30689015 0.30589679 0.29960555 0.27973847\n",
            " 0.29960555 0.29298319 0.28921545 0.28788224 0.28626949 0.28497201\n",
            " 0.28434002 0.28441709 0.28506756 0.28613579 0.28612012 0.28543833\n",
            " 0.28402856 0.28237879 0.28099525 0.28051212 0.28178746 0.28490981\n",
            " 0.28938818 0.29479158 0.29763204 0.29833931]\n",
            "20 day output [[0.29759777]]\n",
            "21 day input [0.32079711 0.3280817  0.32543276 0.3151681  0.32642611 0.40258327\n",
            " 0.48536278 0.51781235 0.51085887 0.41847694 0.38966966 0.32377717\n",
            " 0.34827991 0.33371071 0.3078835  0.30722127 0.30689015 0.30689015\n",
            " 0.30854574 0.30722127 0.30689015 0.30689015 0.31351251 0.30689015\n",
            " 0.30689015 0.30887686 0.30854574 0.31020133 0.30953909 0.30689015\n",
            " 0.30920797 0.31351251 0.30821462 0.30689015 0.30689015 0.30689015\n",
            " 0.30689015 0.30920797 0.3078835  0.30689015 0.30689015 0.30689015\n",
            " 0.30689015 0.30689015 0.30689015 0.30689015 0.30689015 0.30689015\n",
            " 0.30689015 0.30689015 0.31748593 0.31417475 0.30755238 0.33669077\n",
            " 0.32642611 0.32079711 0.31285027 0.3188104  0.30920797 0.28536747\n",
            " 0.28106294 0.26119586 0.24927561 0.24331548 0.2436466  0.24861337\n",
            " 0.2509312  0.28602971 0.30987021 0.30556568 0.3115258  0.29298319\n",
            " 0.3078835  0.30689015 0.30589679 0.29960555 0.27973847 0.29960555\n",
            " 0.29298319 0.28921545 0.28788224 0.28626949 0.28497201 0.28434002\n",
            " 0.28441709 0.28506756 0.28613579 0.28612012 0.28543833 0.28402856\n",
            " 0.28237879 0.28099525 0.28051212 0.28178746 0.28490981 0.28938818\n",
            " 0.29479158 0.29763204 0.29833931 0.29759777]\n",
            "21 day output [[0.2959579]]\n",
            "22 day input [0.3280817  0.32543276 0.3151681  0.32642611 0.40258327 0.48536278\n",
            " 0.51781235 0.51085887 0.41847694 0.38966966 0.32377717 0.34827991\n",
            " 0.33371071 0.3078835  0.30722127 0.30689015 0.30689015 0.30854574\n",
            " 0.30722127 0.30689015 0.30689015 0.31351251 0.30689015 0.30689015\n",
            " 0.30887686 0.30854574 0.31020133 0.30953909 0.30689015 0.30920797\n",
            " 0.31351251 0.30821462 0.30689015 0.30689015 0.30689015 0.30689015\n",
            " 0.30920797 0.3078835  0.30689015 0.30689015 0.30689015 0.30689015\n",
            " 0.30689015 0.30689015 0.30689015 0.30689015 0.30689015 0.30689015\n",
            " 0.30689015 0.31748593 0.31417475 0.30755238 0.33669077 0.32642611\n",
            " 0.32079711 0.31285027 0.3188104  0.30920797 0.28536747 0.28106294\n",
            " 0.26119586 0.24927561 0.24331548 0.2436466  0.24861337 0.2509312\n",
            " 0.28602971 0.30987021 0.30556568 0.3115258  0.29298319 0.3078835\n",
            " 0.30689015 0.30589679 0.29960555 0.27973847 0.29960555 0.29298319\n",
            " 0.28921545 0.28788224 0.28626949 0.28497201 0.28434002 0.28441709\n",
            " 0.28506756 0.28613579 0.28612012 0.28543833 0.28402856 0.28237879\n",
            " 0.28099525 0.28051212 0.28178746 0.28490981 0.28938818 0.29479158\n",
            " 0.29763204 0.29833931 0.29759777 0.29595789]\n",
            "22 day output [[0.29638648]]\n",
            "23 day input [0.32543276 0.3151681  0.32642611 0.40258327 0.48536278 0.51781235\n",
            " 0.51085887 0.41847694 0.38966966 0.32377717 0.34827991 0.33371071\n",
            " 0.3078835  0.30722127 0.30689015 0.30689015 0.30854574 0.30722127\n",
            " 0.30689015 0.30689015 0.31351251 0.30689015 0.30689015 0.30887686\n",
            " 0.30854574 0.31020133 0.30953909 0.30689015 0.30920797 0.31351251\n",
            " 0.30821462 0.30689015 0.30689015 0.30689015 0.30689015 0.30920797\n",
            " 0.3078835  0.30689015 0.30689015 0.30689015 0.30689015 0.30689015\n",
            " 0.30689015 0.30689015 0.30689015 0.30689015 0.30689015 0.30689015\n",
            " 0.31748593 0.31417475 0.30755238 0.33669077 0.32642611 0.32079711\n",
            " 0.31285027 0.3188104  0.30920797 0.28536747 0.28106294 0.26119586\n",
            " 0.24927561 0.24331548 0.2436466  0.24861337 0.2509312  0.28602971\n",
            " 0.30987021 0.30556568 0.3115258  0.29298319 0.3078835  0.30689015\n",
            " 0.30589679 0.29960555 0.27973847 0.29960555 0.29298319 0.28921545\n",
            " 0.28788224 0.28626949 0.28497201 0.28434002 0.28441709 0.28506756\n",
            " 0.28613579 0.28612012 0.28543833 0.28402856 0.28237879 0.28099525\n",
            " 0.28051212 0.28178746 0.28490981 0.28938818 0.29479158 0.29763204\n",
            " 0.29833931 0.29759777 0.29595789 0.29638648]\n",
            "23 day output [[0.29845846]]\n",
            "24 day input [0.3151681  0.32642611 0.40258327 0.48536278 0.51781235 0.51085887\n",
            " 0.41847694 0.38966966 0.32377717 0.34827991 0.33371071 0.3078835\n",
            " 0.30722127 0.30689015 0.30689015 0.30854574 0.30722127 0.30689015\n",
            " 0.30689015 0.31351251 0.30689015 0.30689015 0.30887686 0.30854574\n",
            " 0.31020133 0.30953909 0.30689015 0.30920797 0.31351251 0.30821462\n",
            " 0.30689015 0.30689015 0.30689015 0.30689015 0.30920797 0.3078835\n",
            " 0.30689015 0.30689015 0.30689015 0.30689015 0.30689015 0.30689015\n",
            " 0.30689015 0.30689015 0.30689015 0.30689015 0.30689015 0.31748593\n",
            " 0.31417475 0.30755238 0.33669077 0.32642611 0.32079711 0.31285027\n",
            " 0.3188104  0.30920797 0.28536747 0.28106294 0.26119586 0.24927561\n",
            " 0.24331548 0.2436466  0.24861337 0.2509312  0.28602971 0.30987021\n",
            " 0.30556568 0.3115258  0.29298319 0.3078835  0.30689015 0.30589679\n",
            " 0.29960555 0.27973847 0.29960555 0.29298319 0.28921545 0.28788224\n",
            " 0.28626949 0.28497201 0.28434002 0.28441709 0.28506756 0.28613579\n",
            " 0.28612012 0.28543833 0.28402856 0.28237879 0.28099525 0.28051212\n",
            " 0.28178746 0.28490981 0.28938818 0.29479158 0.29763204 0.29833931\n",
            " 0.29759777 0.29595789 0.29638648 0.29845846]\n",
            "24 day output [[0.30152774]]\n",
            "25 day input [0.32642611 0.40258327 0.48536278 0.51781235 0.51085887 0.41847694\n",
            " 0.38966966 0.32377717 0.34827991 0.33371071 0.3078835  0.30722127\n",
            " 0.30689015 0.30689015 0.30854574 0.30722127 0.30689015 0.30689015\n",
            " 0.31351251 0.30689015 0.30689015 0.30887686 0.30854574 0.31020133\n",
            " 0.30953909 0.30689015 0.30920797 0.31351251 0.30821462 0.30689015\n",
            " 0.30689015 0.30689015 0.30689015 0.30920797 0.3078835  0.30689015\n",
            " 0.30689015 0.30689015 0.30689015 0.30689015 0.30689015 0.30689015\n",
            " 0.30689015 0.30689015 0.30689015 0.30689015 0.31748593 0.31417475\n",
            " 0.30755238 0.33669077 0.32642611 0.32079711 0.31285027 0.3188104\n",
            " 0.30920797 0.28536747 0.28106294 0.26119586 0.24927561 0.24331548\n",
            " 0.2436466  0.24861337 0.2509312  0.28602971 0.30987021 0.30556568\n",
            " 0.3115258  0.29298319 0.3078835  0.30689015 0.30589679 0.29960555\n",
            " 0.27973847 0.29960555 0.29298319 0.28921545 0.28788224 0.28626949\n",
            " 0.28497201 0.28434002 0.28441709 0.28506756 0.28613579 0.28612012\n",
            " 0.28543833 0.28402856 0.28237879 0.28099525 0.28051212 0.28178746\n",
            " 0.28490981 0.28938818 0.29479158 0.29763204 0.29833931 0.29759777\n",
            " 0.29595789 0.29638648 0.29845846 0.30152774]\n",
            "25 day output [[0.30470246]]\n",
            "26 day input [0.40258327 0.48536278 0.51781235 0.51085887 0.41847694 0.38966966\n",
            " 0.32377717 0.34827991 0.33371071 0.3078835  0.30722127 0.30689015\n",
            " 0.30689015 0.30854574 0.30722127 0.30689015 0.30689015 0.31351251\n",
            " 0.30689015 0.30689015 0.30887686 0.30854574 0.31020133 0.30953909\n",
            " 0.30689015 0.30920797 0.31351251 0.30821462 0.30689015 0.30689015\n",
            " 0.30689015 0.30689015 0.30920797 0.3078835  0.30689015 0.30689015\n",
            " 0.30689015 0.30689015 0.30689015 0.30689015 0.30689015 0.30689015\n",
            " 0.30689015 0.30689015 0.30689015 0.31748593 0.31417475 0.30755238\n",
            " 0.33669077 0.32642611 0.32079711 0.31285027 0.3188104  0.30920797\n",
            " 0.28536747 0.28106294 0.26119586 0.24927561 0.24331548 0.2436466\n",
            " 0.24861337 0.2509312  0.28602971 0.30987021 0.30556568 0.3115258\n",
            " 0.29298319 0.3078835  0.30689015 0.30589679 0.29960555 0.27973847\n",
            " 0.29960555 0.29298319 0.28921545 0.28788224 0.28626949 0.28497201\n",
            " 0.28434002 0.28441709 0.28506756 0.28613579 0.28612012 0.28543833\n",
            " 0.28402856 0.28237879 0.28099525 0.28051212 0.28178746 0.28490981\n",
            " 0.28938818 0.29479158 0.29763204 0.29833931 0.29759777 0.29595789\n",
            " 0.29638648 0.29845846 0.30152774 0.30470246]\n",
            "26 day output [[0.30704808]]\n",
            "27 day input [0.48536278 0.51781235 0.51085887 0.41847694 0.38966966 0.32377717\n",
            " 0.34827991 0.33371071 0.3078835  0.30722127 0.30689015 0.30689015\n",
            " 0.30854574 0.30722127 0.30689015 0.30689015 0.31351251 0.30689015\n",
            " 0.30689015 0.30887686 0.30854574 0.31020133 0.30953909 0.30689015\n",
            " 0.30920797 0.31351251 0.30821462 0.30689015 0.30689015 0.30689015\n",
            " 0.30689015 0.30920797 0.3078835  0.30689015 0.30689015 0.30689015\n",
            " 0.30689015 0.30689015 0.30689015 0.30689015 0.30689015 0.30689015\n",
            " 0.30689015 0.30689015 0.31748593 0.31417475 0.30755238 0.33669077\n",
            " 0.32642611 0.32079711 0.31285027 0.3188104  0.30920797 0.28536747\n",
            " 0.28106294 0.26119586 0.24927561 0.24331548 0.2436466  0.24861337\n",
            " 0.2509312  0.28602971 0.30987021 0.30556568 0.3115258  0.29298319\n",
            " 0.3078835  0.30689015 0.30589679 0.29960555 0.27973847 0.29960555\n",
            " 0.29298319 0.28921545 0.28788224 0.28626949 0.28497201 0.28434002\n",
            " 0.28441709 0.28506756 0.28613579 0.28612012 0.28543833 0.28402856\n",
            " 0.28237879 0.28099525 0.28051212 0.28178746 0.28490981 0.28938818\n",
            " 0.29479158 0.29763204 0.29833931 0.29759777 0.29595789 0.29638648\n",
            " 0.29845846 0.30152774 0.30470246 0.30704808]\n",
            "27 day output [[0.3080183]]\n",
            "28 day input [0.51781235 0.51085887 0.41847694 0.38966966 0.32377717 0.34827991\n",
            " 0.33371071 0.3078835  0.30722127 0.30689015 0.30689015 0.30854574\n",
            " 0.30722127 0.30689015 0.30689015 0.31351251 0.30689015 0.30689015\n",
            " 0.30887686 0.30854574 0.31020133 0.30953909 0.30689015 0.30920797\n",
            " 0.31351251 0.30821462 0.30689015 0.30689015 0.30689015 0.30689015\n",
            " 0.30920797 0.3078835  0.30689015 0.30689015 0.30689015 0.30689015\n",
            " 0.30689015 0.30689015 0.30689015 0.30689015 0.30689015 0.30689015\n",
            " 0.30689015 0.31748593 0.31417475 0.30755238 0.33669077 0.32642611\n",
            " 0.32079711 0.31285027 0.3188104  0.30920797 0.28536747 0.28106294\n",
            " 0.26119586 0.24927561 0.24331548 0.2436466  0.24861337 0.2509312\n",
            " 0.28602971 0.30987021 0.30556568 0.3115258  0.29298319 0.3078835\n",
            " 0.30689015 0.30589679 0.29960555 0.27973847 0.29960555 0.29298319\n",
            " 0.28921545 0.28788224 0.28626949 0.28497201 0.28434002 0.28441709\n",
            " 0.28506756 0.28613579 0.28612012 0.28543833 0.28402856 0.28237879\n",
            " 0.28099525 0.28051212 0.28178746 0.28490981 0.28938818 0.29479158\n",
            " 0.29763204 0.29833931 0.29759777 0.29595789 0.29638648 0.29845846\n",
            " 0.30152774 0.30470246 0.30704808 0.3080183 ]\n",
            "28 day output [[0.3077417]]\n",
            "29 day input [0.51085887 0.41847694 0.38966966 0.32377717 0.34827991 0.33371071\n",
            " 0.3078835  0.30722127 0.30689015 0.30689015 0.30854574 0.30722127\n",
            " 0.30689015 0.30689015 0.31351251 0.30689015 0.30689015 0.30887686\n",
            " 0.30854574 0.31020133 0.30953909 0.30689015 0.30920797 0.31351251\n",
            " 0.30821462 0.30689015 0.30689015 0.30689015 0.30689015 0.30920797\n",
            " 0.3078835  0.30689015 0.30689015 0.30689015 0.30689015 0.30689015\n",
            " 0.30689015 0.30689015 0.30689015 0.30689015 0.30689015 0.30689015\n",
            " 0.31748593 0.31417475 0.30755238 0.33669077 0.32642611 0.32079711\n",
            " 0.31285027 0.3188104  0.30920797 0.28536747 0.28106294 0.26119586\n",
            " 0.24927561 0.24331548 0.2436466  0.24861337 0.2509312  0.28602971\n",
            " 0.30987021 0.30556568 0.3115258  0.29298319 0.3078835  0.30689015\n",
            " 0.30589679 0.29960555 0.27973847 0.29960555 0.29298319 0.28921545\n",
            " 0.28788224 0.28626949 0.28497201 0.28434002 0.28441709 0.28506756\n",
            " 0.28613579 0.28612012 0.28543833 0.28402856 0.28237879 0.28099525\n",
            " 0.28051212 0.28178746 0.28490981 0.28938818 0.29479158 0.29763204\n",
            " 0.29833931 0.29759777 0.29595789 0.29638648 0.29845846 0.30152774\n",
            " 0.30470246 0.30704808 0.3080183  0.3077417 ]\n",
            "29 day output [[0.30663025]]\n",
            "[[0.28921544551849365], [0.2878822386264801], [0.28626948595046997], [0.28497201204299927], [0.2843400239944458], [0.2844170928001404], [0.2850675582885742], [0.28613579273223877], [0.28612011671066284], [0.28543832898139954], [0.284028559923172], [0.28237879276275635], [0.28099524974823], [0.28051212430000305], [0.2817874550819397], [0.28490981459617615], [0.28938817977905273], [0.294791579246521], [0.29763203859329224], [0.298339307308197], [0.2975977659225464], [0.29595789313316345], [0.2963864803314209], [0.298458456993103], [0.301527738571167], [0.3047024607658386], [0.30704808235168457], [0.308018296957016], [0.3077417016029358], [0.3066302537918091]]\n"
          ]
        }
      ],
      "source": [
        "# demonstrate prediction for next 30 days\n",
        "from numpy import array\n",
        "\n",
        "lst_output=[]\n",
        "n_steps=100\n",
        "i=0\n",
        "while(i<30):\n",
        "\n",
        "    if(len(temp_input)>100):\n",
        "        #print(temp_input)\n",
        "        x_input=np.array(temp_input[1:])\n",
        "        print(\"{} day input {}\".format(i,x_input))\n",
        "        x_input=x_input.reshape(1,-1)\n",
        "        x_input = x_input.reshape((1, n_steps, 1))\n",
        "        #print(x_input)\n",
        "        yhat = model.predict(x_input, verbose=0)\n",
        "        print(\"{} day output {}\".format(i,yhat))\n",
        "        temp_input.extend(yhat[0].tolist())\n",
        "        temp_input=temp_input[1:]\n",
        "        #print(temp_input)\n",
        "        lst_output.extend(yhat.tolist())\n",
        "        i=i+1\n",
        "    else:\n",
        "        x_input = x_input.reshape((1, n_steps,1))\n",
        "        yhat = model.predict(x_input, verbose=0)\n",
        "        print(yhat[0])\n",
        "        temp_input.extend(yhat[0].tolist())\n",
        "        print(len(temp_input))\n",
        "        lst_output.extend(yhat.tolist())\n",
        "        i=i+1\n",
        "\n",
        "\n",
        "print(lst_output)"
      ]
    },
    {
      "cell_type": "code",
      "execution_count": null,
      "metadata": {
        "id": "tuY_gBGjsasQ"
      },
      "outputs": [],
      "source": [
        "day_new=np.arange(1,101)\n",
        "day_pred=np.arange(101,131)"
      ]
    },
    {
      "cell_type": "code",
      "execution_count": null,
      "metadata": {
        "id": "r9uGJbLksasQ"
      },
      "outputs": [],
      "source": [
        "import matplotlib.pyplot as plt"
      ]
    },
    {
      "cell_type": "code",
      "execution_count": null,
      "metadata": {
        "colab": {
          "base_uri": "https://localhost:8080/"
        },
        "id": "j7crusNksasR",
        "outputId": "0034ea09-3ee2-4037-9be2-04c4478e9b5a"
      },
      "outputs": [
        {
          "output_type": "execute_result",
          "data": {
            "text/plain": [
              "2650"
            ]
          },
          "metadata": {},
          "execution_count": 132
        }
      ],
      "source": [
        "len(ds_close)"
      ]
    },
    {
      "cell_type": "markdown",
      "source": [
        "Plot predicted 30 days stock close price based on previous 100 days stock close price"
      ],
      "metadata": {
        "id": "DnYKzdC-ZrBr"
      }
    },
    {
      "cell_type": "code",
      "source": [
        "plt.plot(day_new,scaler.inverse_transform(ds_close[2550:]))\n",
        "plt.plot(day_pred,scaler.inverse_transform(lst_output))"
      ],
      "metadata": {
        "colab": {
          "base_uri": "https://localhost:8080/",
          "height": 447
        },
        "id": "19tv8nLbOGAC",
        "outputId": "12627d20-b81d-4b1b-b8a9-317a20761cf2"
      },
      "execution_count": null,
      "outputs": [
        {
          "output_type": "execute_result",
          "data": {
            "text/plain": [
              "[<matplotlib.lines.Line2D at 0x7b41e818ba40>]"
            ]
          },
          "metadata": {},
          "execution_count": 133
        },
        {
          "output_type": "display_data",
          "data": {
            "text/plain": [
              "<Figure size 640x480 with 1 Axes>"
            ],
            "image/png": "[encoded data removed]"
          },
          "metadata": {}
        }
      ]
    },
    {
      "cell_type": "markdown",
      "source": [
        "Plot 30 days stock close price adjust with last 365 days stock close price"
      ],
      "metadata": {
        "id": "u7gqphisZ76R"
      }
    },
    {
      "cell_type": "code",
      "source": [
        "df3=ds_close.tolist()\n",
        "df3.extend(lst_output)\n",
        "plt.plot(df3[2285:])"
      ],
      "metadata": {
        "colab": {
          "base_uri": "https://localhost:8080/",
          "height": 447
        },
        "id": "mS6MKnUIOKXE",
        "outputId": "9cd3c86e-285e-459e-e57a-96c8e3884590"
      },
      "execution_count": null,
      "outputs": [
        {
          "output_type": "execute_result",
          "data": {
            "text/plain": [
              "[<matplotlib.lines.Line2D at 0x7b415fe67800>]"
            ]
          },
          "metadata": {},
          "execution_count": 134
        },
        {
          "output_type": "display_data",
          "data": {
            "text/plain": [
              "<Figure size 640x480 with 1 Axes>"
            ],
            "image/png": "[encoded data removed]"
          },
          "metadata": {}
        }
      ]
    },
    {
      "cell_type": "markdown",
      "source": [
        "Plot predicted 30 days stock close price adjust with full dataset close price"
      ],
      "metadata": {
        "id": "GzWUuA2paLu0"
      }
    },
    {
      "cell_type": "code",
      "execution_count": null,
      "metadata": {
        "id": "1nTGxYYLsasT"
      },
      "outputs": [],
      "source": [
        "df3=scaler.inverse_transform(df3).tolist()"
      ]
    },
    {
      "cell_type": "code",
      "execution_count": null,
      "metadata": {
        "colab": {
          "base_uri": "https://localhost:8080/",
          "height": 447
        },
        "id": "BGvIEJ2csasU",
        "outputId": "53318238-e144-4dbe-9e07-d1666c066385"
      },
      "outputs": [
        {
          "output_type": "execute_result",
          "data": {
            "text/plain": [
              "[<matplotlib.lines.Line2D at 0x7b415fd3cad0>]"
            ]
          },
          "metadata": {},
          "execution_count": 136
        },
        {
          "output_type": "display_data",
          "data": {
            "text/plain": [
              "<Figure size 640x480 with 1 Axes>"
            ],
            "image/png": "[encoded data removed]"
          },
          "metadata": {}
        }
      ],
      "source": [
        "plt.plot(df3)"
      ]
    },
    {
      "cell_type": "markdown",
      "source": [
        "# **Implement a traditional statistical model**"
      ],
      "metadata": {
        "id": "T5-b4D8gZjRT"
      }
    },
    {
      "cell_type": "markdown",
      "source": [
        "# **ARIMA MODEL**"
      ],
      "metadata": {
        "id": "WuOvbZEwZrBq"
      }
    },
    {
      "cell_type": "code",
      "source": [
        "import numpy as np\n",
        "import pandas as pd\n",
        "\n",
        "import matplotlib.pyplot as plt\n",
        "%matplotlib inline"
      ],
      "metadata": {
        "id": "SqmdLA_Wxb6q"
      },
      "execution_count": null,
      "outputs": []
    },
    {
      "cell_type": "code",
      "source": [
        "df=pd.read_csv('/content/APEXFOOT_data.csv')"
      ],
      "metadata": {
        "id": "uOtcnIlRG0MX"
      },
      "execution_count": null,
      "outputs": []
    },
    {
      "cell_type": "code",
      "source": [
        "df = df.drop(columns=['Open','High','Low','Volume'], axis=1)"
      ],
      "metadata": {
        "id": "imoPuOswG4Jl"
      },
      "execution_count": null,
      "outputs": []
    },
    {
      "cell_type": "code",
      "source": [
        "# Convert Month into Datetime\n",
        "df['Date']=pd.to_datetime(df['Date'])"
      ],
      "metadata": {
        "id": "MKanURvEG6PZ"
      },
      "execution_count": null,
      "outputs": []
    },
    {
      "cell_type": "markdown",
      "source": [
        "# **DATA PREPROCESSING**"
      ],
      "metadata": {
        "id": "dy47xylvZzIv"
      }
    },
    {
      "cell_type": "markdown",
      "source": [
        "Hence ARIMA Model work for time sequence, so here need some dataset preprocessing"
      ],
      "metadata": {
        "id": "j09uBLZtZ5-L"
      }
    },
    {
      "cell_type": "code",
      "source": [
        "df.head()"
      ],
      "metadata": {
        "colab": {
          "base_uri": "https://localhost:8080/",
          "height": 206
        },
        "id": "GAxPLDDbG8bz",
        "outputId": "2279e03b-99fa-42c5-8ab2-b0e03be25cf2"
      },
      "execution_count": null,
      "outputs": [
        {
          "output_type": "execute_result",
          "data": {
            "text/plain": [
              "        Date       Close\n",
              "0 2012-10-01  181.503345\n",
              "1 2012-10-02  185.202676\n",
              "2 2012-10-03  196.615506\n",
              "3 2012-10-04  193.860685\n",
              "4 2012-10-07  183.943329"
            ],
            "text/html": [
              "\n",
              "  <div id=\"df-02e3cb3f-6d5e-4405-871a-f7cd350df5f0\" class=\"colab-df-container\">\n",
              "    <div>\n",
              "<style scoped>\n",
              "    .dataframe tbody tr th:only-of-type {\n",
              "        vertical-align: middle;\n",
              "    }\n",
              "\n",
              "    .dataframe tbody tr th {\n",
              "        vertical-align: top;\n",
              "    }\n",
              "\n",
              "    .dataframe thead th {\n",
              "        text-align: right;\n",
              "    }\n",
              "</style>\n",
              "<table border=\"1\" class=\"dataframe\">\n",
              "  <thead>\n",
              "    <tr style=\"text-align: right;\">\n",
              "      <th></th>\n",
              "      <th>Date</th>\n",
              "      <th>Close</th>\n",
              "    </tr>\n",
              "  </thead>\n",
              "  <tbody>\n",
              "    <tr>\n",
              "      <th>0</th>\n",
              "      <td>2012-10-01</td>\n",
              "      <td>181.503345</td>\n",
              "    </tr>\n",
              "    <tr>\n",
              "      <th>1</th>\n",
              "      <td>2012-10-02</td>\n",
              "      <td>185.202676</td>\n",
              "    </tr>\n",
              "    <tr>\n",
              "      <th>2</th>\n",
              "      <td>2012-10-03</td>\n",
              "      <td>196.615506</td>\n",
              "    </tr>\n",
              "    <tr>\n",
              "      <th>3</th>\n",
              "      <td>2012-10-04</td>\n",
              "      <td>193.860685</td>\n",
              "    </tr>\n",
              "    <tr>\n",
              "      <th>4</th>\n",
              "      <td>2012-10-07</td>\n",
              "      <td>183.943329</td>\n",
              "    </tr>\n",
              "  </tbody>\n",
              "</table>\n",
              "</div>\n",
              "    <div class=\"colab-df-buttons\">\n",
              "\n",
              "  <div class=\"colab-df-container\">\n",
              "    <button class=\"colab-df-convert\" onclick=\"convertToInteractive('df-02e3cb3f-6d5e-4405-871a-f7cd350df5f0')\"\n",
              "            title=\"Convert this dataframe to an interactive table.\"\n",
              "            style=\"display:none;\">\n",
              "\n",
              "  <svg xmlns=\"http://www.w3.org/2000/svg\" height=\"24px\" viewBox=\"0 -960 960 960\">\n",
              "    <path d=\"M120-120v-720h720v720H120Zm60-500h600v-160H180v160Zm220 220h160v-160H400v160Zm0 220h160v-160H400v160ZM180-400h160v-160H180v160Zm440 0h160v-160H620v160ZM180-180h160v-160H180v160Zm440 0h160v-160H620v160Z\"/>\n",
              "  </svg>\n",
              "    </button>\n",
              "\n",
              "  <style>\n",
              "    .colab-df-container {\n",
              "      display:flex;\n",
              "      gap: 12px;\n",
              "    }\n",
              "\n",
              "    .colab-df-convert {\n",
              "      background-color: #E8F0FE;\n",
              "      border: none;\n",
              "      border-radius: 50%;\n",
              "      cursor: pointer;\n",
              "      display: none;\n",
              "      fill: #1967D2;\n",
              "      height: 32px;\n",
              "      padding: 0 0 0 0;\n",
              "      width: 32px;\n",
              "    }\n",
              "\n",
              "    .colab-df-convert:hover {\n",
              "      background-color: #E2EBFA;\n",
              "      box-shadow: 0px 1px 2px rgba(60, 64, 67, 0.3), 0px 1px 3px 1px rgba(60, 64, 67, 0.15);\n",
              "      fill: #174EA6;\n",
              "    }\n",
              "\n",
              "    .colab-df-buttons div {\n",
              "      margin-bottom: 4px;\n",
              "    }\n",
              "\n",
              "    [theme=dark] .colab-df-convert {\n",
              "      background-color: #3B4455;\n",
              "      fill: #D2E3FC;\n",
              "    }\n",
              "\n",
              "    [theme=dark] .colab-df-convert:hover {\n",
              "      background-color: #434B5C;\n",
              "      box-shadow: 0px 1px 3px 1px rgba(0, 0, 0, 0.15);\n",
              "      filter: drop-shadow(0px 1px 2px rgba(0, 0, 0, 0.3));\n",
              "      fill: #FFFFFF;\n",
              "    }\n",
              "  </style>\n",
              "\n",
              "    <script>\n",
              "      const buttonEl =\n",
              "        document.querySelector('#df-02e3cb3f-6d5e-4405-871a-f7cd350df5f0 button.colab-df-convert');\n",
              "      buttonEl.style.display =\n",
              "        google.colab.kernel.accessAllowed ? 'block' : 'none';\n",
              "\n",
              "      async function convertToInteractive(key) {\n",
              "        const element = document.querySelector('#df-02e3cb3f-6d5e-4405-871a-f7cd350df5f0');\n",
              "        const dataTable =\n",
              "          await google.colab.kernel.invokeFunction('convertToInteractive',\n",
              "                                                    [key], {});\n",
              "        if (!dataTable) return;\n",
              "\n",
              "        const docLinkHtml = 'Like what you see? Visit the ' +\n",
              "          '<a target=\"_blank\" href=https://colab.research.google.com/notebooks/data_table.ipynb>data table notebook</a>'\n",
              "          + ' to learn more about interactive tables.';\n",
              "        element.innerHTML = '';\n",
              "        dataTable['output_type'] = 'display_data';\n",
              "        await google.colab.output.renderOutput(dataTable, element);\n",
              "        const docLink = document.createElement('div');\n",
              "        docLink.innerHTML = docLinkHtml;\n",
              "        element.appendChild(docLink);\n",
              "      }\n",
              "    </script>\n",
              "  </div>\n",
              "\n",
              "\n",
              "    <div id=\"df-0f44b9b8-c6a3-4d83-9eb9-ab1ba9c2f4b2\">\n",
              "      <button class=\"colab-df-quickchart\" onclick=\"quickchart('df-0f44b9b8-c6a3-4d83-9eb9-ab1ba9c2f4b2')\"\n",
              "                title=\"Suggest charts\"\n",
              "                style=\"display:none;\">\n",
              "\n",
              "<svg xmlns=\"http://www.w3.org/2000/svg\" height=\"24px\"viewBox=\"0 0 24 24\"\n",
              "     width=\"24px\">\n",
              "    <g>\n",
              "        <path d=\"M19 3H5c-1.1 0-2 .9-2 2v14c0 1.1.9 2 2 2h14c1.1 0 2-.9 2-2V5c0-1.1-.9-2-2-2zM9 17H7v-7h2v7zm4 0h-2V7h2v10zm4 0h-2v-4h2v4z\"/>\n",
              "    </g>\n",
              "</svg>\n",
              "      </button>\n",
              "\n",
              "<style>\n",
              "  .colab-df-quickchart {\n",
              "      --bg-color: #E8F0FE;\n",
              "      --fill-color: #1967D2;\n",
              "      --hover-bg-color: #E2EBFA;\n",
              "      --hover-fill-color: #174EA6;\n",
              "      --disabled-fill-color: #AAA;\n",
              "      --disabled-bg-color: #DDD;\n",
              "  }\n",
              "\n",
              "  [theme=dark] .colab-df-quickchart {\n",
              "      --bg-color: #3B4455;\n",
              "      --fill-color: #D2E3FC;\n",
              "      --hover-bg-color: #434B5C;\n",
              "      --hover-fill-color: #FFFFFF;\n",
              "      --disabled-bg-color: #3B4455;\n",
              "      --disabled-fill-color: #666;\n",
              "  }\n",
              "\n",
              "  .colab-df-quickchart {\n",
              "    background-color: var(--bg-color);\n",
              "    border: none;\n",
              "    border-radius: 50%;\n",
              "    cursor: pointer;\n",
              "    display: none;\n",
              "    fill: var(--fill-color);\n",
              "    height: 32px;\n",
              "    padding: 0;\n",
              "    width: 32px;\n",
              "  }\n",
              "\n",
              "  .colab-df-quickchart:hover {\n",
              "    background-color: var(--hover-bg-color);\n",
              "    box-shadow: 0 1px 2px rgba(60, 64, 67, 0.3), 0 1px 3px 1px rgba(60, 64, 67, 0.15);\n",
              "    fill: var(--button-hover-fill-color);\n",
              "  }\n",
              "\n",
              "  .colab-df-quickchart-complete:disabled,\n",
              "  .colab-df-quickchart-complete:disabled:hover {\n",
              "    background-color: var(--disabled-bg-color);\n",
              "    fill: var(--disabled-fill-color);\n",
              "    box-shadow: none;\n",
              "  }\n",
              "\n",
              "  .colab-df-spinner {\n",
              "    border: 2px solid var(--fill-color);\n",
              "    border-color: transparent;\n",
              "    border-bottom-color: var(--fill-color);\n",
              "    animation:\n",
              "      spin 1s steps(1) infinite;\n",
              "  }\n",
              "\n",
              "  @keyframes spin {\n",
              "    0% {\n",
              "      border-color: transparent;\n",
              "      border-bottom-color: var(--fill-color);\n",
              "      border-left-color: var(--fill-color);\n",
              "    }\n",
              "    20% {\n",
              "      border-color: transparent;\n",
              "      border-left-color: var(--fill-color);\n",
              "      border-top-color: var(--fill-color);\n",
              "    }\n",
              "    30% {\n",
              "      border-color: transparent;\n",
              "      border-left-color: var(--fill-color);\n",
              "      border-top-color: var(--fill-color);\n",
              "      border-right-color: var(--fill-color);\n",
              "    }\n",
              "    40% {\n",
              "      border-color: transparent;\n",
              "      border-right-color: var(--fill-color);\n",
              "      border-top-color: var(--fill-color);\n",
              "    }\n",
              "    60% {\n",
              "      border-color: transparent;\n",
              "      border-right-color: var(--fill-color);\n",
              "    }\n",
              "    80% {\n",
              "      border-color: transparent;\n",
              "      border-right-color: var(--fill-color);\n",
              "      border-bottom-color: var(--fill-color);\n",
              "    }\n",
              "    90% {\n",
              "      border-color: transparent;\n",
              "      border-bottom-color: var(--fill-color);\n",
              "    }\n",
              "  }\n",
              "</style>\n",
              "\n",
              "      <script>\n",
              "        async function quickchart(key) {\n",
              "          const quickchartButtonEl =\n",
              "            document.querySelector('#' + key + ' button');\n",
              "          quickchartButtonEl.disabled = true;  // To prevent multiple clicks.\n",
              "          quickchartButtonEl.classList.add('colab-df-spinner');\n",
              "          try {\n",
              "            const charts = await google.colab.kernel.invokeFunction(\n",
              "                'suggestCharts', [key], {});\n",
              "          } catch (error) {\n",
              "            console.error('Error during call to suggestCharts:', error);\n",
              "          }\n",
              "          quickchartButtonEl.classList.remove('colab-df-spinner');\n",
              "          quickchartButtonEl.classList.add('colab-df-quickchart-complete');\n",
              "        }\n",
              "        (() => {\n",
              "          let quickchartButtonEl =\n",
              "            document.querySelector('#df-0f44b9b8-c6a3-4d83-9eb9-ab1ba9c2f4b2 button');\n",
              "          quickchartButtonEl.style.display =\n",
              "            google.colab.kernel.accessAllowed ? 'block' : 'none';\n",
              "        })();\n",
              "      </script>\n",
              "    </div>\n",
              "\n",
              "    </div>\n",
              "  </div>\n"
            ],
            "application/vnd.google.colaboratory.intrinsic+json": {
              "type": "dataframe",
              "variable_name": "df",
              "summary": "{\n  \"name\": \"df\",\n  \"rows\": 2650,\n  \"fields\": [\n    {\n      \"column\": \"Date\",\n      \"properties\": {\n        \"dtype\": \"date\",\n        \"min\": \"2012-10-01 00:00:00\",\n        \"max\": \"2024-02-20 00:00:00\",\n        \"num_unique_values\": 2650,\n        \"samples\": [\n          \"2019-11-25 00:00:00\",\n          \"2017-08-01 00:00:00\",\n          \"2016-03-09 00:00:00\"\n        ],\n        \"semantic_type\": \"\",\n        \"description\": \"\"\n      }\n    },\n    {\n      \"column\": \"Close\",\n      \"properties\": {\n        \"dtype\": \"number\",\n        \"std\": 52.439549092672266,\n        \"min\": 164.8170012,\n        \"max\": 466.824085,\n        \"num_unique_values\": 1658,\n        \"samples\": [\n          296.0909091,\n          380.4014168,\n          282.0936639\n        ],\n        \"semantic_type\": \"\",\n        \"description\": \"\"\n      }\n    }\n  ]\n}"
            }
          },
          "metadata": {},
          "execution_count": 141
        }
      ]
    },
    {
      "cell_type": "code",
      "source": [
        "df.set_index('Date',inplace=True)"
      ],
      "metadata": {
        "id": "GhjLlA57G_hY"
      },
      "execution_count": null,
      "outputs": []
    },
    {
      "cell_type": "code",
      "source": [
        "df.head()"
      ],
      "metadata": {
        "colab": {
          "base_uri": "https://localhost:8080/",
          "height": 237
        },
        "id": "wHvh-a1KHCVj",
        "outputId": "024103a5-8bae-44f8-89fb-208811d573b4"
      },
      "execution_count": null,
      "outputs": [
        {
          "output_type": "execute_result",
          "data": {
            "text/plain": [
              "                 Close\n",
              "Date                  \n",
              "2012-10-01  181.503345\n",
              "2012-10-02  185.202676\n",
              "2012-10-03  196.615506\n",
              "2012-10-04  193.860685\n",
              "2012-10-07  183.943329"
            ],
            "text/html": [
              "\n",
              "  <div id=\"df-a846d05e-407c-447c-935c-97d36182cdef\" class=\"colab-df-container\">\n",
              "    <div>\n",
              "<style scoped>\n",
              "    .dataframe tbody tr th:only-of-type {\n",
              "        vertical-align: middle;\n",
              "    }\n",
              "\n",
              "    .dataframe tbody tr th {\n",
              "        vertical-align: top;\n",
              "    }\n",
              "\n",
              "    .dataframe thead th {\n",
              "        text-align: right;\n",
              "    }\n",
              "</style>\n",
              "<table border=\"1\" class=\"dataframe\">\n",
              "  <thead>\n",
              "    <tr style=\"text-align: right;\">\n",
              "      <th></th>\n",
              "      <th>Close</th>\n",
              "    </tr>\n",
              "    <tr>\n",
              "      <th>Date</th>\n",
              "      <th></th>\n",
              "    </tr>\n",
              "  </thead>\n",
              "  <tbody>\n",
              "    <tr>\n",
              "      <th>2012-10-01</th>\n",
              "      <td>181.503345</td>\n",
              "    </tr>\n",
              "    <tr>\n",
              "      <th>2012-10-02</th>\n",
              "      <td>185.202676</td>\n",
              "    </tr>\n",
              "    <tr>\n",
              "      <th>2012-10-03</th>\n",
              "      <td>196.615506</td>\n",
              "    </tr>\n",
              "    <tr>\n",
              "      <th>2012-10-04</th>\n",
              "      <td>193.860685</td>\n",
              "    </tr>\n",
              "    <tr>\n",
              "      <th>2012-10-07</th>\n",
              "      <td>183.943329</td>\n",
              "    </tr>\n",
              "  </tbody>\n",
              "</table>\n",
              "</div>\n",
              "    <div class=\"colab-df-buttons\">\n",
              "\n",
              "  <div class=\"colab-df-container\">\n",
              "    <button class=\"colab-df-convert\" onclick=\"convertToInteractive('df-a846d05e-407c-447c-935c-97d36182cdef')\"\n",
              "            title=\"Convert this dataframe to an interactive table.\"\n",
              "            style=\"display:none;\">\n",
              "\n",
              "  <svg xmlns=\"http://www.w3.org/2000/svg\" height=\"24px\" viewBox=\"0 -960 960 960\">\n",
              "    <path d=\"M120-120v-720h720v720H120Zm60-500h600v-160H180v160Zm220 220h160v-160H400v160Zm0 220h160v-160H400v160ZM180-400h160v-160H180v160Zm440 0h160v-160H620v160ZM180-180h160v-160H180v160Zm440 0h160v-160H620v160Z\"/>\n",
              "  </svg>\n",
              "    </button>\n",
              "\n",
              "  <style>\n",
              "    .colab-df-container {\n",
              "      display:flex;\n",
              "      gap: 12px;\n",
              "    }\n",
              "\n",
              "    .colab-df-convert {\n",
              "      background-color: #E8F0FE;\n",
              "      border: none;\n",
              "      border-radius: 50%;\n",
              "      cursor: pointer;\n",
              "      display: none;\n",
              "      fill: #1967D2;\n",
              "      height: 32px;\n",
              "      padding: 0 0 0 0;\n",
              "      width: 32px;\n",
              "    }\n",
              "\n",
              "    .colab-df-convert:hover {\n",
              "      background-color: #E2EBFA;\n",
              "      box-shadow: 0px 1px 2px rgba(60, 64, 67, 0.3), 0px 1px 3px 1px rgba(60, 64, 67, 0.15);\n",
              "      fill: #174EA6;\n",
              "    }\n",
              "\n",
              "    .colab-df-buttons div {\n",
              "      margin-bottom: 4px;\n",
              "    }\n",
              "\n",
              "    [theme=dark] .colab-df-convert {\n",
              "      background-color: #3B4455;\n",
              "      fill: #D2E3FC;\n",
              "    }\n",
              "\n",
              "    [theme=dark] .colab-df-convert:hover {\n",
              "      background-color: #434B5C;\n",
              "      box-shadow: 0px 1px 3px 1px rgba(0, 0, 0, 0.15);\n",
              "      filter: drop-shadow(0px 1px 2px rgba(0, 0, 0, 0.3));\n",
              "      fill: #FFFFFF;\n",
              "    }\n",
              "  </style>\n",
              "\n",
              "    <script>\n",
              "      const buttonEl =\n",
              "        document.querySelector('#df-a846d05e-407c-447c-935c-97d36182cdef button.colab-df-convert');\n",
              "      buttonEl.style.display =\n",
              "        google.colab.kernel.accessAllowed ? 'block' : 'none';\n",
              "\n",
              "      async function convertToInteractive(key) {\n",
              "        const element = document.querySelector('#df-a846d05e-407c-447c-935c-97d36182cdef');\n",
              "        const dataTable =\n",
              "          await google.colab.kernel.invokeFunction('convertToInteractive',\n",
              "                                                    [key], {});\n",
              "        if (!dataTable) return;\n",
              "\n",
              "        const docLinkHtml = 'Like what you see? Visit the ' +\n",
              "          '<a target=\"_blank\" href=https://colab.research.google.com/notebooks/data_table.ipynb>data table notebook</a>'\n",
              "          + ' to learn more about interactive tables.';\n",
              "        element.innerHTML = '';\n",
              "        dataTable['output_type'] = 'display_data';\n",
              "        await google.colab.output.renderOutput(dataTable, element);\n",
              "        const docLink = document.createElement('div');\n",
              "        docLink.innerHTML = docLinkHtml;\n",
              "        element.appendChild(docLink);\n",
              "      }\n",
              "    </script>\n",
              "  </div>\n",
              "\n",
              "\n",
              "    <div id=\"df-9b7503be-afb1-466a-b78d-525096774607\">\n",
              "      <button class=\"colab-df-quickchart\" onclick=\"quickchart('df-9b7503be-afb1-466a-b78d-525096774607')\"\n",
              "                title=\"Suggest charts\"\n",
              "                style=\"display:none;\">\n",
              "\n",
              "<svg xmlns=\"http://www.w3.org/2000/svg\" height=\"24px\"viewBox=\"0 0 24 24\"\n",
              "     width=\"24px\">\n",
              "    <g>\n",
              "        <path d=\"M19 3H5c-1.1 0-2 .9-2 2v14c0 1.1.9 2 2 2h14c1.1 0 2-.9 2-2V5c0-1.1-.9-2-2-2zM9 17H7v-7h2v7zm4 0h-2V7h2v10zm4 0h-2v-4h2v4z\"/>\n",
              "    </g>\n",
              "</svg>\n",
              "      </button>\n",
              "\n",
              "<style>\n",
              "  .colab-df-quickchart {\n",
              "      --bg-color: #E8F0FE;\n",
              "      --fill-color: #1967D2;\n",
              "      --hover-bg-color: #E2EBFA;\n",
              "      --hover-fill-color: #174EA6;\n",
              "      --disabled-fill-color: #AAA;\n",
              "      --disabled-bg-color: #DDD;\n",
              "  }\n",
              "\n",
              "  [theme=dark] .colab-df-quickchart {\n",
              "      --bg-color: #3B4455;\n",
              "      --fill-color: #D2E3FC;\n",
              "      --hover-bg-color: #434B5C;\n",
              "      --hover-fill-color: #FFFFFF;\n",
              "      --disabled-bg-color: #3B4455;\n",
              "      --disabled-fill-color: #666;\n",
              "  }\n",
              "\n",
              "  .colab-df-quickchart {\n",
              "    background-color: var(--bg-color);\n",
              "    border: none;\n",
              "    border-radius: 50%;\n",
              "    cursor: pointer;\n",
              "    display: none;\n",
              "    fill: var(--fill-color);\n",
              "    height: 32px;\n",
              "    padding: 0;\n",
              "    width: 32px;\n",
              "  }\n",
              "\n",
              "  .colab-df-quickchart:hover {\n",
              "    background-color: var(--hover-bg-color);\n",
              "    box-shadow: 0 1px 2px rgba(60, 64, 67, 0.3), 0 1px 3px 1px rgba(60, 64, 67, 0.15);\n",
              "    fill: var(--button-hover-fill-color);\n",
              "  }\n",
              "\n",
              "  .colab-df-quickchart-complete:disabled,\n",
              "  .colab-df-quickchart-complete:disabled:hover {\n",
              "    background-color: var(--disabled-bg-color);\n",
              "    fill: var(--disabled-fill-color);\n",
              "    box-shadow: none;\n",
              "  }\n",
              "\n",
              "  .colab-df-spinner {\n",
              "    border: 2px solid var(--fill-color);\n",
              "    border-color: transparent;\n",
              "    border-bottom-color: var(--fill-color);\n",
              "    animation:\n",
              "      spin 1s steps(1) infinite;\n",
              "  }\n",
              "\n",
              "  @keyframes spin {\n",
              "    0% {\n",
              "      border-color: transparent;\n",
              "      border-bottom-color: var(--fill-color);\n",
              "      border-left-color: var(--fill-color);\n",
              "    }\n",
              "    20% {\n",
              "      border-color: transparent;\n",
              "      border-left-color: var(--fill-color);\n",
              "      border-top-color: var(--fill-color);\n",
              "    }\n",
              "    30% {\n",
              "      border-color: transparent;\n",
              "      border-left-color: var(--fill-color);\n",
              "      border-top-color: var(--fill-color);\n",
              "      border-right-color: var(--fill-color);\n",
              "    }\n",
              "    40% {\n",
              "      border-color: transparent;\n",
              "      border-right-color: var(--fill-color);\n",
              "      border-top-color: var(--fill-color);\n",
              "    }\n",
              "    60% {\n",
              "      border-color: transparent;\n",
              "      border-right-color: var(--fill-color);\n",
              "    }\n",
              "    80% {\n",
              "      border-color: transparent;\n",
              "      border-right-color: var(--fill-color);\n",
              "      border-bottom-color: var(--fill-color);\n",
              "    }\n",
              "    90% {\n",
              "      border-color: transparent;\n",
              "      border-bottom-color: var(--fill-color);\n",
              "    }\n",
              "  }\n",
              "</style>\n",
              "\n",
              "      <script>\n",
              "        async function quickchart(key) {\n",
              "          const quickchartButtonEl =\n",
              "            document.querySelector('#' + key + ' button');\n",
              "          quickchartButtonEl.disabled = true;  // To prevent multiple clicks.\n",
              "          quickchartButtonEl.classList.add('colab-df-spinner');\n",
              "          try {\n",
              "            const charts = await google.colab.kernel.invokeFunction(\n",
              "                'suggestCharts', [key], {});\n",
              "          } catch (error) {\n",
              "            console.error('Error during call to suggestCharts:', error);\n",
              "          }\n",
              "          quickchartButtonEl.classList.remove('colab-df-spinner');\n",
              "          quickchartButtonEl.classList.add('colab-df-quickchart-complete');\n",
              "        }\n",
              "        (() => {\n",
              "          let quickchartButtonEl =\n",
              "            document.querySelector('#df-9b7503be-afb1-466a-b78d-525096774607 button');\n",
              "          quickchartButtonEl.style.display =\n",
              "            google.colab.kernel.accessAllowed ? 'block' : 'none';\n",
              "        })();\n",
              "      </script>\n",
              "    </div>\n",
              "\n",
              "    </div>\n",
              "  </div>\n"
            ],
            "application/vnd.google.colaboratory.intrinsic+json": {
              "type": "dataframe",
              "variable_name": "df",
              "summary": "{\n  \"name\": \"df\",\n  \"rows\": 2650,\n  \"fields\": [\n    {\n      \"column\": \"Date\",\n      \"properties\": {\n        \"dtype\": \"date\",\n        \"min\": \"2012-10-01 00:00:00\",\n        \"max\": \"2024-02-20 00:00:00\",\n        \"num_unique_values\": 2650,\n        \"samples\": [\n          \"2019-11-25 00:00:00\",\n          \"2017-08-01 00:00:00\",\n          \"2016-03-09 00:00:00\"\n        ],\n        \"semantic_type\": \"\",\n        \"description\": \"\"\n      }\n    },\n    {\n      \"column\": \"Close\",\n      \"properties\": {\n        \"dtype\": \"number\",\n        \"std\": 52.439549092672266,\n        \"min\": 164.8170012,\n        \"max\": 466.824085,\n        \"num_unique_values\": 1658,\n        \"samples\": [\n          296.0909091,\n          380.4014168,\n          282.0936639\n        ],\n        \"semantic_type\": \"\",\n        \"description\": \"\"\n      }\n    }\n  ]\n}"
            }
          },
          "metadata": {},
          "execution_count": 143
        }
      ]
    },
    {
      "cell_type": "code",
      "source": [
        "df.plot()"
      ],
      "metadata": {
        "colab": {
          "base_uri": "https://localhost:8080/",
          "height": 439
        },
        "id": "CMVIyshWHEkl",
        "outputId": "cf9d53f1-5962-4da9-dede-e5be3786aa8a"
      },
      "execution_count": null,
      "outputs": [
        {
          "output_type": "execute_result",
          "data": {
            "text/plain": [
              "<Axes: xlabel='Date'>"
            ]
          },
          "metadata": {},
          "execution_count": 144
        },
        {
          "output_type": "display_data",
          "data": {
            "text/plain": [
              "<Figure size 640x480 with 1 Axes>"
            ],
            "image/png": "[encoded data removed]"
          },
          "metadata": {}
        }
      ]
    },
    {
      "cell_type": "code",
      "source": [
        "# Testing For Stationarity\n",
        "\n",
        "from statsmodels.tsa.stattools import adfuller"
      ],
      "metadata": {
        "id": "aqYMOCNoHHnR"
      },
      "execution_count": null,
      "outputs": []
    },
    {
      "cell_type": "code",
      "source": [
        "test_result=adfuller(df['Close'])"
      ],
      "metadata": {
        "id": "wj7i9XODHKd6"
      },
      "execution_count": null,
      "outputs": []
    },
    {
      "cell_type": "markdown",
      "source": [
        "Check dataset is stationary or not"
      ],
      "metadata": {
        "id": "VGaG7BGyaQ20"
      }
    },
    {
      "cell_type": "markdown",
      "source": [
        "If dataset is seasonal then to extra preprocessing"
      ],
      "metadata": {
        "id": "pO7Os24BaU1i"
      }
    },
    {
      "cell_type": "code",
      "source": [
        "# It is non stationary\n",
        "# It is stationary\n",
        "\n",
        "def adfuller_test(Close):\n",
        "    result=adfuller(Close)\n",
        "    labels = ['ADF Test Statistic','p-value','#Lags Used','Number of Observations Used']\n",
        "    for value,label in zip(result,labels):\n",
        "        print(label+' : '+str(value) )\n",
        "    if result[1] <= 0.05:\n",
        "        print(\"strong evidence against the null hypothesis(Ho), reject the null hypothesis. Data has no unit root and is stationary\")\n",
        "    else:\n",
        "        print(\"weak evidence against null hypothesis, time series has a unit root, indicating it is non-stationary \")\n"
      ],
      "metadata": {
        "id": "iM0xPRlGHQd4"
      },
      "execution_count": null,
      "outputs": []
    },
    {
      "cell_type": "code",
      "source": [
        "adfuller_test(df['Close'])"
      ],
      "metadata": {
        "colab": {
          "base_uri": "https://localhost:8080/"
        },
        "id": "KAZBgJl8HSvT",
        "outputId": "7d937492-94d2-4cc7-e6a1-4a9bff3f1cc9"
      },
      "execution_count": null,
      "outputs": [
        {
          "output_type": "stream",
          "name": "stdout",
          "text": [
            "ADF Test Statistic : -2.968941799612127\n",
            "p-value : 0.03789841201562711\n",
            "#Lags Used : 1\n",
            "Number of Observations Used : 2648\n",
            "strong evidence against the null hypothesis(Ho), reject the null hypothesis. Data has no unit root and is stationary\n"
          ]
        }
      ]
    },
    {
      "cell_type": "markdown",
      "source": [
        "Dataset is Stationary"
      ],
      "metadata": {
        "id": "yHCe5YTfae9D"
      }
    },
    {
      "cell_type": "code",
      "source": [
        "from pandas.plotting import autocorrelation_plot\n",
        "autocorrelation_plot(df['Close'])\n",
        "plt.show()"
      ],
      "metadata": {
        "colab": {
          "base_uri": "https://localhost:8080/",
          "height": 455
        },
        "id": "ZUcObK1SHUyW",
        "outputId": "d2cd0a62-9539-4ac4-fb49-e738297086f3"
      },
      "execution_count": null,
      "outputs": [
        {
          "output_type": "display_data",
          "data": {
            "text/plain": [
              "<Figure size 640x480 with 1 Axes>"
            ],
            "image/png": "[encoded data removed]"
          },
          "metadata": {}
        }
      ]
    },
    {
      "cell_type": "markdown",
      "source": [
        "# **ARIMA MODEL**"
      ],
      "metadata": {
        "id": "a25iQNnsbEJp"
      }
    },
    {
      "cell_type": "code",
      "source": [
        "# For non-seasonal data\n",
        "#p=1, d=1, q=0 or 1\n",
        "from statsmodels.tsa.arima.model import ARIMA"
      ],
      "metadata": {
        "id": "ZwCVCN16HXeM"
      },
      "execution_count": null,
      "outputs": []
    },
    {
      "cell_type": "code",
      "source": [
        "model_ARIMA=ARIMA(df['Close'],order=(1,1,1))\n",
        "model_fit=model_ARIMA.fit()"
      ],
      "metadata": {
        "colab": {
          "base_uri": "https://localhost:8080/"
        },
        "id": "8ea7Gm-yHahN",
        "outputId": "98345edb-d41b-480d-82db-3b32c9124527"
      },
      "execution_count": null,
      "outputs": [
        {
          "output_type": "stream",
          "name": "stderr",
          "text": [
            "/usr/local/lib/python3.12/dist-packages/statsmodels/tsa/base/tsa_model.py:473: ValueWarning: A date index has been provided, but it has no associated frequency information and so will be ignored when e.g. forecasting.\n",
            "  self._init_dates(dates, freq)\n",
            "/usr/local/lib/python3.12/dist-packages/statsmodels/tsa/base/tsa_model.py:473: ValueWarning: A date index has been provided, but it has no associated frequency information and so will be ignored when e.g. forecasting.\n",
            "  self._init_dates(dates, freq)\n",
            "/usr/local/lib/python3.12/dist-packages/statsmodels/tsa/base/tsa_model.py:473: ValueWarning: A date index has been provided, but it has no associated frequency information and so will be ignored when e.g. forecasting.\n",
            "  self._init_dates(dates, freq)\n"
          ]
        }
      ]
    },
    {
      "cell_type": "code",
      "source": [
        "# Split data into training and testing sets\n",
        "train_data_len = int(len(df) * 0.8)\n",
        "df_train = df[:train_data_len]\n",
        "df_test = df[train_data_len:]"
      ],
      "metadata": {
        "id": "iEnUeNinHc4q"
      },
      "execution_count": null,
      "outputs": []
    },
    {
      "cell_type": "markdown",
      "source": [
        "This how validation part of dataset predict by ARIMA Model"
      ],
      "metadata": {
        "id": "kkAcC5eJa4k8"
      }
    },
    {
      "cell_type": "code",
      "source": [
        "# The last part of your notebook corrected\n",
        "\n",
        "# 1. Get the last actual price from the training set\n",
        "last_price = df_train['Close'].iloc[-1]\n",
        "\n",
        "# 2. Predict the future using model_fit and the test set index\n",
        "forecast_prices = model_fit.predict(start=df_test.index[0], end=df_test.index[-1])\n",
        "\n",
        "# 3. Plot the results\n",
        "plt.figure(figsize=(12,6))\n",
        "plt.plot(df_train['Close'], label='Training Data')\n",
        "plt.plot(df_test['Close'], label='Actual Prices (Test Data)')\n",
        "plt.plot(forecast_prices, label='Forecasted Prices', color='red') # Plotting with the index from the prediction\n",
        "plt.title('Stock Price Forecast')\n",
        "plt.xlabel('Date')\n",
        "plt.ylabel('Price')\n",
        "plt.legend()\n",
        "plt.show()\n",
        "\n",
        "# You can also print the forecasted values\n",
        "print(\"Forecasted Prices for the test set:\")\n",
        "print(forecast_prices)"
      ],
      "metadata": {
        "colab": {
          "base_uri": "https://localhost:8080/",
          "height": 807
        },
        "id": "jt3sba0nHfPH",
        "outputId": "bb04135c-fe72-4857-922b-966adfac5fd6"
      },
      "execution_count": null,
      "outputs": [
        {
          "output_type": "display_data",
          "data": {
            "text/plain": [
              "<Figure size 1200x600 with 1 Axes>"
            ],
            "image/png": "[encoded data removed]"
          },
          "metadata": {}
        },
        {
          "output_type": "stream",
          "name": "stdout",
          "text": [
            "Forecasted Prices for the test set:\n",
            "Date\n",
            "2021-12-21    248.274285\n",
            "2021-12-22    251.956174\n",
            "2021-12-23    247.268733\n",
            "2021-12-26    228.304250\n",
            "2021-12-27    219.915569\n",
            "                 ...    \n",
            "2024-02-14    257.489459\n",
            "2024-02-15    257.181293\n",
            "2024-02-18    255.182944\n",
            "2024-02-19    248.928637\n",
            "2024-02-20    255.656935\n",
            "Name: predicted_mean, Length: 530, dtype: float64\n"
          ]
        }
      ]
    },
    {
      "cell_type": "code",
      "source": [
        "from statsmodels.tsa.arima.model import ARIMA\n",
        "import matplotlib.pyplot as plt\n",
        "\n",
        "# Train ARIMA model\n",
        "model_ARIMA = ARIMA(df_train['Close'], order=(5,1,0))   # (p,d,q) – tune later\n",
        "model_fit = model_ARIMA.fit()\n"
      ],
      "metadata": {
        "colab": {
          "base_uri": "https://localhost:8080/"
        },
        "id": "oQ6cboSdHhYu",
        "outputId": "36a0fc62-6751-4e6e-b254-f812766339e7"
      },
      "execution_count": null,
      "outputs": [
        {
          "output_type": "stream",
          "name": "stderr",
          "text": [
            "/usr/local/lib/python3.12/dist-packages/statsmodels/tsa/base/tsa_model.py:473: ValueWarning: A date index has been provided, but it has no associated frequency information and so will be ignored when e.g. forecasting.\n",
            "  self._init_dates(dates, freq)\n",
            "/usr/local/lib/python3.12/dist-packages/statsmodels/tsa/base/tsa_model.py:473: ValueWarning: A date index has been provided, but it has no associated frequency information and so will be ignored when e.g. forecasting.\n",
            "  self._init_dates(dates, freq)\n",
            "/usr/local/lib/python3.12/dist-packages/statsmodels/tsa/base/tsa_model.py:473: ValueWarning: A date index has been provided, but it has no associated frequency information and so will be ignored when e.g. forecasting.\n",
            "  self._init_dates(dates, freq)\n"
          ]
        }
      ]
    },
    {
      "cell_type": "code",
      "source": [
        "print(model_fit.summary())"
      ],
      "metadata": {
        "colab": {
          "base_uri": "https://localhost:8080/"
        },
        "id": "DOyrPgViHmvW",
        "outputId": "574c7612-b34d-492a-f38f-e65a65bbbc66"
      },
      "execution_count": null,
      "outputs": [
        {
          "output_type": "stream",
          "name": "stdout",
          "text": [
            "                               SARIMAX Results                                \n",
            "==============================================================================\n",
            "Dep. Variable:                  Close   No. Observations:                 2120\n",
            "Model:                 ARIMA(5, 1, 0)   Log Likelihood               -6468.482\n",
            "Date:                Fri, 03 Oct 2025   AIC                          12948.964\n",
            "Time:                        22:19:37   BIC                          12982.916\n",
            "Sample:                             0   HQIC                         12961.394\n",
            "                               - 2120                                         \n",
            "Covariance Type:                  opg                                         \n",
            "==============================================================================\n",
            "                 coef    std err          z      P>|z|      [0.025      0.975]\n",
            "------------------------------------------------------------------------------\n",
            "ar.L1          0.0335      0.012      2.683      0.007       0.009       0.058\n",
            "ar.L2          0.0066      0.013      0.513      0.608      -0.019       0.032\n",
            "ar.L3          0.0137      0.013      1.045      0.296      -0.012       0.039\n",
            "ar.L4          0.0498      0.014      3.563      0.000       0.022       0.077\n",
            "ar.L5          0.0019      0.015      0.122      0.903      -0.028       0.032\n",
            "sigma2        26.2415      0.433     60.608      0.000      25.393      27.090\n",
            "===================================================================================\n",
            "Ljung-Box (L1) (Q):                   0.00   Jarque-Bera (JB):              2685.21\n",
            "Prob(Q):                              1.00   Prob(JB):                         0.00\n",
            "Heteroskedasticity (H):               0.24   Skew:                             0.72\n",
            "Prob(H) (two-sided):                  0.00   Kurtosis:                         8.33\n",
            "===================================================================================\n",
            "\n",
            "Warnings:\n",
            "[1] Covariance matrix calculated using the outer product of gradients (complex-step).\n"
          ]
        }
      ]
    },
    {
      "cell_type": "markdown",
      "source": [
        "# **Predicted Forecast for next 30 days**"
      ],
      "metadata": {
        "id": "i1IonCMYbSmb"
      }
    },
    {
      "cell_type": "code",
      "source": [
        "forecast = model_fit.forecast(steps=30)\n"
      ],
      "metadata": {
        "colab": {
          "base_uri": "https://localhost:8080/"
        },
        "id": "QctO9xTHHpl9",
        "outputId": "3a81d4da-2a19-48d4-d4f1-fe98b3d1736e"
      },
      "execution_count": null,
      "outputs": [
        {
          "output_type": "stream",
          "name": "stderr",
          "text": [
            "/usr/local/lib/python3.12/dist-packages/statsmodels/tsa/base/tsa_model.py:837: ValueWarning: No supported index is available. Prediction results will be given with an integer index beginning at `start`.\n",
            "  return get_prediction_index(\n",
            "/usr/local/lib/python3.12/dist-packages/statsmodels/tsa/base/tsa_model.py:837: FutureWarning: No supported index is available. In the next version, calling this method in a model without a supported index will result in an exception.\n",
            "  return get_prediction_index(\n"
          ]
        }
      ]
    },
    {
      "cell_type": "code",
      "source": [
        "print(forecast)"
      ],
      "metadata": {
        "colab": {
          "base_uri": "https://localhost:8080/"
        },
        "id": "_e3ArVa-Ih3e",
        "outputId": "07c6c526-d1fe-48e8-98d0-2175f260676a"
      },
      "execution_count": null,
      "outputs": [
        {
          "output_type": "stream",
          "name": "stdout",
          "text": [
            "2120    249.214622\n",
            "2121    249.670440\n",
            "2122    249.197266\n",
            "2123    249.269037\n",
            "2124    249.329423\n",
            "2125    249.350090\n",
            "2126    249.329424\n",
            "2127    249.332392\n",
            "2128    249.335781\n",
            "2129    249.336774\n",
            "2130    249.335879\n",
            "2131    249.336011\n",
            "2132    249.336198\n",
            "2133    249.336248\n",
            "2134    249.336210\n",
            "2135    249.336217\n",
            "2136    249.336227\n",
            "2137    249.336230\n",
            "2138    249.336228\n",
            "2139    249.336229\n",
            "2140    249.336229\n",
            "2141    249.336229\n",
            "2142    249.336229\n",
            "2143    249.336229\n",
            "2144    249.336229\n",
            "2145    249.336229\n",
            "2146    249.336229\n",
            "2147    249.336229\n",
            "2148    249.336229\n",
            "2149    249.336229\n",
            "Name: predicted_mean, dtype: float64\n"
          ]
        }
      ]
    },
    {
      "cell_type": "code",
      "source": [
        "plt.figure(figsize=(12,6))\n",
        "plt.plot(df_train.index, df_train['Close'], label='Train')\n",
        "plt.plot(df_test.index, df_test['Close'], label='Test', color='orange')\n",
        "plt.plot(pd.date_range(df_test.index[-1], periods=30, freq='D'), forecast, label='Forecast', color='green')\n",
        "plt.legend()\n",
        "plt.show()"
      ],
      "metadata": {
        "colab": {
          "base_uri": "https://localhost:8080/",
          "height": 522
        },
        "id": "21RiV9bgLAhK",
        "outputId": "0fd7b843-8ae2-4c7e-fb37-1aaf86249588"
      },
      "execution_count": null,
      "outputs": [
        {
          "output_type": "display_data",
          "data": {
            "text/plain": [
              "<Figure size 1200x600 with 1 Axes>"
            ],
            "image/png": "[encoded data removed]"
          },
          "metadata": {}
        }
      ]
    },
    {
      "cell_type": "markdown",
      "source": [
        "# **RMSE and MAPE table for ARIMA Model**"
      ],
      "metadata": {
        "id": "VzetW3HUbmP-"
      }
    },
    {
      "cell_type": "code",
      "source": [
        "from sklearn.metrics import mean_squared_error, mean_absolute_percentage_error\n",
        "import numpy as np\n",
        "import pandas as pd\n",
        "import math\n",
        "\n",
        "\n",
        "y_pred = model_fit.forecast(steps=len(df_test))\n",
        "rmse = np.sqrt(mean_squared_error(df_test['Close'], y_pred))\n",
        "mape = mean_absolute_percentage_error(df_test['Close'], y_pred)\n",
        "\n",
        "# Create a performance comparison table\n",
        "performance_data_arima = {'Metric': ['RMSE', 'MAPE'],\n",
        "                          'Test': [rmse, mape]}\n",
        "\n",
        "performance_df_arima = pd.DataFrame(performance_data_arima)\n",
        "\n",
        "print(\"ARIMA Model Performance Comparison (Test Set):\")\n",
        "display(performance_df_arima)"
      ],
      "metadata": {
        "colab": {
          "base_uri": "https://localhost:8080/",
          "height": 197
        },
        "id": "02CX5Ge8Q2ao",
        "outputId": "1d8913b0-2d51-4b12-f370-d6c3e37c2430"
      },
      "execution_count": null,
      "outputs": [
        {
          "output_type": "stream",
          "name": "stdout",
          "text": [
            "ARIMA Model Performance Comparison (Test Set):\n"
          ]
        },
        {
          "output_type": "stream",
          "name": "stderr",
          "text": [
            "/usr/local/lib/python3.12/dist-packages/statsmodels/tsa/base/tsa_model.py:837: ValueWarning: No supported index is available. Prediction results will be given with an integer index beginning at `start`.\n",
            "  return get_prediction_index(\n"
          ]
        },
        {
          "output_type": "display_data",
          "data": {
            "text/plain": [
              "  Metric       Test\n",
              "0   RMSE  25.010571\n",
              "1   MAPE   0.074163"
            ],
            "text/html": [
              "\n",
              "  <div id=\"df-15d8861a-86d6-4fbf-ba3d-62a13de71275\" class=\"colab-df-container\">\n",
              "    <div>\n",
              "<style scoped>\n",
              "    .dataframe tbody tr th:only-of-type {\n",
              "        vertical-align: middle;\n",
              "    }\n",
              "\n",
              "    .dataframe tbody tr th {\n",
              "        vertical-align: top;\n",
              "    }\n",
              "\n",
              "    .dataframe thead th {\n",
              "        text-align: right;\n",
              "    }\n",
              "</style>\n",
              "<table border=\"1\" class=\"dataframe\">\n",
              "  <thead>\n",
              "    <tr style=\"text-align: right;\">\n",
              "      <th></th>\n",
              "      <th>Metric</th>\n",
              "      <th>Test</th>\n",
              "    </tr>\n",
              "  </thead>\n",
              "  <tbody>\n",
              "    <tr>\n",
              "      <th>0</th>\n",
              "      <td>RMSE</td>\n",
              "      <td>25.010571</td>\n",
              "    </tr>\n",
              "    <tr>\n",
              "      <th>1</th>\n",
              "      <td>MAPE</td>\n",
              "      <td>0.074163</td>\n",
              "    </tr>\n",
              "  </tbody>\n",
              "</table>\n",
              "</div>\n",
              "    <div class=\"colab-df-buttons\">\n",
              "\n",
              "  <div class=\"colab-df-container\">\n",
              "    <button class=\"colab-df-convert\" onclick=\"convertToInteractive('df-15d8861a-86d6-4fbf-ba3d-62a13de71275')\"\n",
              "            title=\"Convert this dataframe to an interactive table.\"\n",
              "            style=\"display:none;\">\n",
              "\n",
              "  <svg xmlns=\"http://www.w3.org/2000/svg\" height=\"24px\" viewBox=\"0 -960 960 960\">\n",
              "    <path d=\"M120-120v-720h720v720H120Zm60-500h600v-160H180v160Zm220 220h160v-160H400v160Zm0 220h160v-160H400v160ZM180-400h160v-160H180v160Zm440 0h160v-160H620v160ZM180-180h160v-160H180v160Zm440 0h160v-160H620v160Z\"/>\n",
              "  </svg>\n",
              "    </button>\n",
              "\n",
              "  <style>\n",
              "    .colab-df-container {\n",
              "      display:flex;\n",
              "      gap: 12px;\n",
              "    }\n",
              "\n",
              "    .colab-df-convert {\n",
              "      background-color: #E8F0FE;\n",
              "      border: none;\n",
              "      border-radius: 50%;\n",
              "      cursor: pointer;\n",
              "      display: none;\n",
              "      fill: #1967D2;\n",
              "      height: 32px;\n",
              "      padding: 0 0 0 0;\n",
              "      width: 32px;\n",
              "    }\n",
              "\n",
              "    .colab-df-convert:hover {\n",
              "      background-color: #E2EBFA;\n",
              "      box-shadow: 0px 1px 2px rgba(60, 64, 67, 0.3), 0px 1px 3px 1px rgba(60, 64, 67, 0.15);\n",
              "      fill: #174EA6;\n",
              "    }\n",
              "\n",
              "    .colab-df-buttons div {\n",
              "      margin-bottom: 4px;\n",
              "    }\n",
              "\n",
              "    [theme=dark] .colab-df-convert {\n",
              "      background-color: #3B4455;\n",
              "      fill: #D2E3FC;\n",
              "    }\n",
              "\n",
              "    [theme=dark] .colab-df-convert:hover {\n",
              "      background-color: #434B5C;\n",
              "      box-shadow: 0px 1px 3px 1px rgba(0, 0, 0, 0.15);\n",
              "      filter: drop-shadow(0px 1px 2px rgba(0, 0, 0, 0.3));\n",
              "      fill: #FFFFFF;\n",
              "    }\n",
              "  </style>\n",
              "\n",
              "    <script>\n",
              "      const buttonEl =\n",
              "        document.querySelector('#df-15d8861a-86d6-4fbf-ba3d-62a13de71275 button.colab-df-convert');\n",
              "      buttonEl.style.display =\n",
              "        google.colab.kernel.accessAllowed ? 'block' : 'none';\n",
              "\n",
              "      async function convertToInteractive(key) {\n",
              "        const element = document.querySelector('#df-15d8861a-86d6-4fbf-ba3d-62a13de71275');\n",
              "        const dataTable =\n",
              "          await google.colab.kernel.invokeFunction('convertToInteractive',\n",
              "                                                    [key], {});\n",
              "        if (!dataTable) return;\n",
              "\n",
              "        const docLinkHtml = 'Like what you see? Visit the ' +\n",
              "          '<a target=\"_blank\" href=https://colab.research.google.com/notebooks/data_table.ipynb>data table notebook</a>'\n",
              "          + ' to learn more about interactive tables.';\n",
              "        element.innerHTML = '';\n",
              "        dataTable['output_type'] = 'display_data';\n",
              "        await google.colab.output.renderOutput(dataTable, element);\n",
              "        const docLink = document.createElement('div');\n",
              "        docLink.innerHTML = docLinkHtml;\n",
              "        element.appendChild(docLink);\n",
              "      }\n",
              "    </script>\n",
              "  </div>\n",
              "\n",
              "\n",
              "    <div id=\"df-3013de84-a65c-47d3-a749-609afb8e8a15\">\n",
              "      <button class=\"colab-df-quickchart\" onclick=\"quickchart('df-3013de84-a65c-47d3-a749-609afb8e8a15')\"\n",
              "                title=\"Suggest charts\"\n",
              "                style=\"display:none;\">\n",
              "\n",
              "<svg xmlns=\"http://www.w3.org/2000/svg\" height=\"24px\"viewBox=\"0 0 24 24\"\n",
              "     width=\"24px\">\n",
              "    <g>\n",
              "        <path d=\"M19 3H5c-1.1 0-2 .9-2 2v14c0 1.1.9 2 2 2h14c1.1 0 2-.9 2-2V5c0-1.1-.9-2-2-2zM9 17H7v-7h2v7zm4 0h-2V7h2v10zm4 0h-2v-4h2v4z\"/>\n",
              "    </g>\n",
              "</svg>\n",
              "      </button>\n",
              "\n",
              "<style>\n",
              "  .colab-df-quickchart {\n",
              "      --bg-color: #E8F0FE;\n",
              "      --fill-color: #1967D2;\n",
              "      --hover-bg-color: #E2EBFA;\n",
              "      --hover-fill-color: #174EA6;\n",
              "      --disabled-fill-color: #AAA;\n",
              "      --disabled-bg-color: #DDD;\n",
              "  }\n",
              "\n",
              "  [theme=dark] .colab-df-quickchart {\n",
              "      --bg-color: #3B4455;\n",
              "      --fill-color: #D2E3FC;\n",
              "      --hover-bg-color: #434B5C;\n",
              "      --hover-fill-color: #FFFFFF;\n",
              "      --disabled-bg-color: #3B4455;\n",
              "      --disabled-fill-color: #666;\n",
              "  }\n",
              "\n",
              "  .colab-df-quickchart {\n",
              "    background-color: var(--bg-color);\n",
              "    border: none;\n",
              "    border-radius: 50%;\n",
              "    cursor: pointer;\n",
              "    display: none;\n",
              "    fill: var(--fill-color);\n",
              "    height: 32px;\n",
              "    padding: 0;\n",
              "    width: 32px;\n",
              "  }\n",
              "\n",
              "  .colab-df-quickchart:hover {\n",
              "    background-color: var(--hover-bg-color);\n",
              "    box-shadow: 0 1px 2px rgba(60, 64, 67, 0.3), 0 1px 3px 1px rgba(60, 64, 67, 0.15);\n",
              "    fill: var(--button-hover-fill-color);\n",
              "  }\n",
              "\n",
              "  .colab-df-quickchart-complete:disabled,\n",
              "  .colab-df-quickchart-complete:disabled:hover {\n",
              "    background-color: var(--disabled-bg-color);\n",
              "    fill: var(--disabled-fill-color);\n",
              "    box-shadow: none;\n",
              "  }\n",
              "\n",
              "  .colab-df-spinner {\n",
              "    border: 2px solid var(--fill-color);\n",
              "    border-color: transparent;\n",
              "    border-bottom-color: var(--fill-color);\n",
              "    animation:\n",
              "      spin 1s steps(1) infinite;\n",
              "  }\n",
              "\n",
              "  @keyframes spin {\n",
              "    0% {\n",
              "      border-color: transparent;\n",
              "      border-bottom-color: var(--fill-color);\n",
              "      border-left-color: var(--fill-color);\n",
              "    }\n",
              "    20% {\n",
              "      border-color: transparent;\n",
              "      border-left-color: var(--fill-color);\n",
              "      border-top-color: var(--fill-color);\n",
              "    }\n",
              "    30% {\n",
              "      border-color: transparent;\n",
              "      border-left-color: var(--fill-color);\n",
              "      border-top-color: var(--fill-color);\n",
              "      border-right-color: var(--fill-color);\n",
              "    }\n",
              "    40% {\n",
              "      border-color: transparent;\n",
              "      border-right-color: var(--fill-color);\n",
              "      border-top-color: var(--fill-color);\n",
              "    }\n",
              "    60% {\n",
              "      border-color: transparent;\n",
              "      border-right-color: var(--fill-color);\n",
              "    }\n",
              "    80% {\n",
              "      border-color: transparent;\n",
              "      border-right-color: var(--fill-color);\n",
              "      border-bottom-color: var(--fill-color);\n",
              "    }\n",
              "    90% {\n",
              "      border-color: transparent;\n",
              "      border-bottom-color: var(--fill-color);\n",
              "    }\n",
              "  }\n",
              "</style>\n",
              "\n",
              "      <script>\n",
              "        async function quickchart(key) {\n",
              "          const quickchartButtonEl =\n",
              "            document.querySelector('#' + key + ' button');\n",
              "          quickchartButtonEl.disabled = true;  // To prevent multiple clicks.\n",
              "          quickchartButtonEl.classList.add('colab-df-spinner');\n",
              "          try {\n",
              "            const charts = await google.colab.kernel.invokeFunction(\n",
              "                'suggestCharts', [key], {});\n",
              "          } catch (error) {\n",
              "            console.error('Error during call to suggestCharts:', error);\n",
              "          }\n",
              "          quickchartButtonEl.classList.remove('colab-df-spinner');\n",
              "          quickchartButtonEl.classList.add('colab-df-quickchart-complete');\n",
              "        }\n",
              "        (() => {\n",
              "          let quickchartButtonEl =\n",
              "            document.querySelector('#df-3013de84-a65c-47d3-a749-609afb8e8a15 button');\n",
              "          quickchartButtonEl.style.display =\n",
              "            google.colab.kernel.accessAllowed ? 'block' : 'none';\n",
              "        })();\n",
              "      </script>\n",
              "    </div>\n",
              "\n",
              "  <div id=\"id_f46ed4c6-c18c-414e-95e5-d313eb5dadf0\">\n",
              "    <style>\n",
              "      .colab-df-generate {\n",
              "        background-color: #E8F0FE;\n",
              "        border: none;\n",
              "        border-radius: 50%;\n",
              "        cursor: pointer;\n",
              "        display: none;\n",
              "        fill: #1967D2;\n",
              "        height: 32px;\n",
              "        padding: 0 0 0 0;\n",
              "        width: 32px;\n",
              "      }\n",
              "\n",
              "      .colab-df-generate:hover {\n",
              "        background-color: #E2EBFA;\n",
              "        box-shadow: 0px 1px 2px rgba(60, 64, 67, 0.3), 0px 1px 3px 1px rgba(60, 64, 67, 0.15);\n",
              "        fill: #174EA6;\n",
              "      }\n",
              "\n",
              "      [theme=dark] .colab-df-generate {\n",
              "        background-color: #3B4455;\n",
              "        fill: #D2E3FC;\n",
              "      }\n",
              "\n",
              "      [theme=dark] .colab-df-generate:hover {\n",
              "        background-color: #434B5C;\n",
              "        box-shadow: 0px 1px 3px 1px rgba(0, 0, 0, 0.15);\n",
              "        filter: drop-shadow(0px 1px 2px rgba(0, 0, 0, 0.3));\n",
              "        fill: #FFFFFF;\n",
              "      }\n",
              "    </style>\n",
              "    <button class=\"colab-df-generate\" onclick=\"generateWithVariable('performance_df_arima')\"\n",
              "            title=\"Generate code using this dataframe.\"\n",
              "            style=\"display:none;\">\n",
              "\n",
              "  <svg xmlns=\"http://www.w3.org/2000/svg\" height=\"24px\"viewBox=\"0 0 24 24\"\n",
              "       width=\"24px\">\n",
              "    <path d=\"M7,19H8.4L18.45,9,17,7.55,7,17.6ZM5,21V16.75L18.45,3.32a2,2,0,0,1,2.83,0l1.4,1.43a1.91,1.91,0,0,1,.58,1.4,1.91,1.91,0,0,1-.58,1.4L9.25,21ZM18.45,9,17,7.55Zm-12,3A5.31,5.31,0,0,0,4.9,8.1,5.31,5.31,0,0,0,1,6.5,5.31,5.31,0,0,0,4.9,4.9,5.31,5.31,0,0,0,6.5,1,5.31,5.31,0,0,0,8.1,4.9,5.31,5.31,0,0,0,12,6.5,5.46,5.46,0,0,0,6.5,12Z\"/>\n",
              "  </svg>\n",
              "    </button>\n",
              "    <script>\n",
              "      (() => {\n",
              "      const buttonEl =\n",
              "        document.querySelector('#id_f46ed4c6-c18c-414e-95e5-d313eb5dadf0 button.colab-df-generate');\n",
              "      buttonEl.style.display =\n",
              "        google.colab.kernel.accessAllowed ? 'block' : 'none';\n",
              "\n",
              "      buttonEl.onclick = () => {\n",
              "        google.colab.notebook.generateWithVariable('performance_df_arima');\n",
              "      }\n",
              "      })();\n",
              "    </script>\n",
              "  </div>\n",
              "\n",
              "    </div>\n",
              "  </div>\n"
            ],
            "application/vnd.google.colaboratory.intrinsic+json": {
              "type": "dataframe",
              "variable_name": "performance_df_arima",
              "summary": "{\n  \"name\": \"performance_df_arima\",\n  \"rows\": 2,\n  \"fields\": [\n    {\n      \"column\": \"Metric\",\n      \"properties\": {\n        \"dtype\": \"string\",\n        \"num_unique_values\": 2,\n        \"samples\": [\n          \"MAPE\",\n          \"RMSE\"\n        ],\n        \"semantic_type\": \"\",\n        \"description\": \"\"\n      }\n    },\n    {\n      \"column\": \"Test\",\n      \"properties\": {\n        \"dtype\": \"number\",\n        \"std\": 17.632703127111313,\n        \"min\": 0.07416314024369895,\n        \"max\": 25.010571043903,\n        \"num_unique_values\": 2,\n        \"samples\": [\n          0.07416314024369895,\n          25.010571043903\n        ],\n        \"semantic_type\": \"\",\n        \"description\": \"\"\n      }\n    }\n  ]\n}"
            }
          },
          "metadata": {}
        }
      ]
    },
    {
      "cell_type": "markdown",
      "source": [
        "RMSE and MAPE table for both LSTM Model and ARIMA model for better comperison"
      ],
      "metadata": {
        "id": "wI2bomIfb2fp"
      }
    },
    {
      "cell_type": "code",
      "source": [
        "import pandas as pd\n",
        "\n",
        "\n",
        "\n",
        "# Create a combined performance comparison table\n",
        "performance_data_combined = {'Metric': ['RMSE', 'MAPE'],\n",
        "                             'LSTM Train': [train_rmse, train_mape],\n",
        "                             'LSTM Test': [test_rmse, test_mape],\n",
        "                             'ARIMA Test': [rmse, mape]}\n",
        "\n",
        "performance_df_combined = pd.DataFrame(performance_data_combined)\n",
        "\n",
        "print(\"Model Performance Comparison (LSTM vs ARIMA):\")\n",
        "display(performance_df_combined)"
      ],
      "metadata": {
        "colab": {
          "base_uri": "https://localhost:8080/",
          "height": 142
        },
        "id": "MLGkOLt1ILY7",
        "outputId": "cf392b8a-3962-4e16-98a0-9a63fd92a132"
      },
      "execution_count": null,
      "outputs": [
        {
          "output_type": "stream",
          "name": "stdout",
          "text": [
            "Model Performance Comparison (LSTM vs ARIMA):\n"
          ]
        },
        {
          "output_type": "display_data",
          "data": {
            "text/plain": [
              "  Metric  LSTM Train  LSTM Test  ARIMA Test\n",
              "0   RMSE    5.478190   6.924076   25.010571\n",
              "1   MAPE    0.014353   0.016766    0.074163"
            ],
            "text/html": [
              "\n",
              "  <div id=\"df-4cd59710-3953-4d60-9ee8-9eaf3df29822\" class=\"colab-df-container\">\n",
              "    <div>\n",
              "<style scoped>\n",
              "    .dataframe tbody tr th:only-of-type {\n",
              "        vertical-align: middle;\n",
              "    }\n",
              "\n",
              "    .dataframe tbody tr th {\n",
              "        vertical-align: top;\n",
              "    }\n",
              "\n",
              "    .dataframe thead th {\n",
              "        text-align: right;\n",
              "    }\n",
              "</style>\n",
              "<table border=\"1\" class=\"dataframe\">\n",
              "  <thead>\n",
              "    <tr style=\"text-align: right;\">\n",
              "      <th></th>\n",
              "      <th>Metric</th>\n",
              "      <th>LSTM Train</th>\n",
              "      <th>LSTM Test</th>\n",
              "      <th>ARIMA Test</th>\n",
              "    </tr>\n",
              "  </thead>\n",
              "  <tbody>\n",
              "    <tr>\n",
              "      <th>0</th>\n",
              "      <td>RMSE</td>\n",
              "      <td>5.478190</td>\n",
              "      <td>6.924076</td>\n",
              "      <td>25.010571</td>\n",
              "    </tr>\n",
              "    <tr>\n",
              "      <th>1</th>\n",
              "      <td>MAPE</td>\n",
              "      <td>0.014353</td>\n",
              "      <td>0.016766</td>\n",
              "      <td>0.074163</td>\n",
              "    </tr>\n",
              "  </tbody>\n",
              "</table>\n",
              "</div>\n",
              "    <div class=\"colab-df-buttons\">\n",
              "\n",
              "  <div class=\"colab-df-container\">\n",
              "    <button class=\"colab-df-convert\" onclick=\"convertToInteractive('df-4cd59710-3953-4d60-9ee8-9eaf3df29822')\"\n",
              "            title=\"Convert this dataframe to an interactive table.\"\n",
              "            style=\"display:none;\">\n",
              "\n",
              "  <svg xmlns=\"http://www.w3.org/2000/svg\" height=\"24px\" viewBox=\"0 -960 960 960\">\n",
              "    <path d=\"M120-120v-720h720v720H120Zm60-500h600v-160H180v160Zm220 220h160v-160H400v160Zm0 220h160v-160H400v160ZM180-400h160v-160H180v160Zm440 0h160v-160H620v160ZM180-180h160v-160H180v160Zm440 0h160v-160H620v160Z\"/>\n",
              "  </svg>\n",
              "    </button>\n",
              "\n",
              "  <style>\n",
              "    .colab-df-container {\n",
              "      display:flex;\n",
              "      gap: 12px;\n",
              "    }\n",
              "\n",
              "    .colab-df-convert {\n",
              "      background-color: #E8F0FE;\n",
              "      border: none;\n",
              "      border-radius: 50%;\n",
              "      cursor: pointer;\n",
              "      display: none;\n",
              "      fill: #1967D2;\n",
              "      height: 32px;\n",
              "      padding: 0 0 0 0;\n",
              "      width: 32px;\n",
              "    }\n",
              "\n",
              "    .colab-df-convert:hover {\n",
              "      background-color: #E2EBFA;\n",
              "      box-shadow: 0px 1px 2px rgba(60, 64, 67, 0.3), 0px 1px 3px 1px rgba(60, 64, 67, 0.15);\n",
              "      fill: #174EA6;\n",
              "    }\n",
              "\n",
              "    .colab-df-buttons div {\n",
              "      margin-bottom: 4px;\n",
              "    }\n",
              "\n",
              "    [theme=dark] .colab-df-convert {\n",
              "      background-color: #3B4455;\n",
              "      fill: #D2E3FC;\n",
              "    }\n",
              "\n",
              "    [theme=dark] .colab-df-convert:hover {\n",
              "      background-color: #434B5C;\n",
              "      box-shadow: 0px 1px 3px 1px rgba(0, 0, 0, 0.15);\n",
              "      filter: drop-shadow(0px 1px 2px rgba(0, 0, 0, 0.3));\n",
              "      fill: #FFFFFF;\n",
              "    }\n",
              "  </style>\n",
              "\n",
              "    <script>\n",
              "      const buttonEl =\n",
              "        document.querySelector('#df-4cd59710-3953-4d60-9ee8-9eaf3df29822 button.colab-df-convert');\n",
              "      buttonEl.style.display =\n",
              "        google.colab.kernel.accessAllowed ? 'block' : 'none';\n",
              "\n",
              "      async function convertToInteractive(key) {\n",
              "        const element = document.querySelector('#df-4cd59710-3953-4d60-9ee8-9eaf3df29822');\n",
              "        const dataTable =\n",
              "          await google.colab.kernel.invokeFunction('convertToInteractive',\n",
              "                                                    [key], {});\n",
              "        if (!dataTable) return;\n",
              "\n",
              "        const docLinkHtml = 'Like what you see? Visit the ' +\n",
              "          '<a target=\"_blank\" href=https://colab.research.google.com/notebooks/data_table.ipynb>data table notebook</a>'\n",
              "          + ' to learn more about interactive tables.';\n",
              "        element.innerHTML = '';\n",
              "        dataTable['output_type'] = 'display_data';\n",
              "        await google.colab.output.renderOutput(dataTable, element);\n",
              "        const docLink = document.createElement('div');\n",
              "        docLink.innerHTML = docLinkHtml;\n",
              "        element.appendChild(docLink);\n",
              "      }\n",
              "    </script>\n",
              "  </div>\n",
              "\n",
              "\n",
              "    <div id=\"df-93af5249-2132-4f1f-9030-f3f4148370a3\">\n",
              "      <button class=\"colab-df-quickchart\" onclick=\"quickchart('df-93af5249-2132-4f1f-9030-f3f4148370a3')\"\n",
              "                title=\"Suggest charts\"\n",
              "                style=\"display:none;\">\n",
              "\n",
              "<svg xmlns=\"http://www.w3.org/2000/svg\" height=\"24px\"viewBox=\"0 0 24 24\"\n",
              "     width=\"24px\">\n",
              "    <g>\n",
              "        <path d=\"M19 3H5c-1.1 0-2 .9-2 2v14c0 1.1.9 2 2 2h14c1.1 0 2-.9 2-2V5c0-1.1-.9-2-2-2zM9 17H7v-7h2v7zm4 0h-2V7h2v10zm4 0h-2v-4h2v4z\"/>\n",
              "    </g>\n",
              "</svg>\n",
              "      </button>\n",
              "\n",
              "<style>\n",
              "  .colab-df-quickchart {\n",
              "      --bg-color: #E8F0FE;\n",
              "      --fill-color: #1967D2;\n",
              "      --hover-bg-color: #E2EBFA;\n",
              "      --hover-fill-color: #174EA6;\n",
              "      --disabled-fill-color: #AAA;\n",
              "      --disabled-bg-color: #DDD;\n",
              "  }\n",
              "\n",
              "  [theme=dark] .colab-df-quickchart {\n",
              "      --bg-color: #3B4455;\n",
              "      --fill-color: #D2E3FC;\n",
              "      --hover-bg-color: #434B5C;\n",
              "      --hover-fill-color: #FFFFFF;\n",
              "      --disabled-bg-color: #3B4455;\n",
              "      --disabled-fill-color: #666;\n",
              "  }\n",
              "\n",
              "  .colab-df-quickchart {\n",
              "    background-color: var(--bg-color);\n",
              "    border: none;\n",
              "    border-radius: 50%;\n",
              "    cursor: pointer;\n",
              "    display: none;\n",
              "    fill: var(--fill-color);\n",
              "    height: 32px;\n",
              "    padding: 0;\n",
              "    width: 32px;\n",
              "  }\n",
              "\n",
              "  .colab-df-quickchart:hover {\n",
              "    background-color: var(--hover-bg-color);\n",
              "    box-shadow: 0 1px 2px rgba(60, 64, 67, 0.3), 0 1px 3px 1px rgba(60, 64, 67, 0.15);\n",
              "    fill: var(--button-hover-fill-color);\n",
              "  }\n",
              "\n",
              "  .colab-df-quickchart-complete:disabled,\n",
              "  .colab-df-quickchart-complete:disabled:hover {\n",
              "    background-color: var(--disabled-bg-color);\n",
              "    fill: var(--disabled-fill-color);\n",
              "    box-shadow: none;\n",
              "  }\n",
              "\n",
              "  .colab-df-spinner {\n",
              "    border: 2px solid var(--fill-color);\n",
              "    border-color: transparent;\n",
              "    border-bottom-color: var(--fill-color);\n",
              "    animation:\n",
              "      spin 1s steps(1) infinite;\n",
              "  }\n",
              "\n",
              "  @keyframes spin {\n",
              "    0% {\n",
              "      border-color: transparent;\n",
              "      border-bottom-color: var(--fill-color);\n",
              "      border-left-color: var(--fill-color);\n",
              "    }\n",
              "    20% {\n",
              "      border-color: transparent;\n",
              "      border-left-color: var(--fill-color);\n",
              "      border-top-color: var(--fill-color);\n",
              "    }\n",
              "    30% {\n",
              "      border-color: transparent;\n",
              "      border-left-color: var(--fill-color);\n",
              "      border-top-color: var(--fill-color);\n",
              "      border-right-color: var(--fill-color);\n",
              "    }\n",
              "    40% {\n",
              "      border-color: transparent;\n",
              "      border-right-color: var(--fill-color);\n",
              "      border-top-color: var(--fill-color);\n",
              "    }\n",
              "    60% {\n",
              "      border-color: transparent;\n",
              "      border-right-color: var(--fill-color);\n",
              "    }\n",
              "    80% {\n",
              "      border-color: transparent;\n",
              "      border-right-color: var(--fill-color);\n",
              "      border-bottom-color: var(--fill-color);\n",
              "    }\n",
              "    90% {\n",
              "      border-color: transparent;\n",
              "      border-bottom-color: var(--fill-color);\n",
              "    }\n",
              "  }\n",
              "</style>\n",
              "\n",
              "      <script>\n",
              "        async function quickchart(key) {\n",
              "          const quickchartButtonEl =\n",
              "            document.querySelector('#' + key + ' button');\n",
              "          quickchartButtonEl.disabled = true;  // To prevent multiple clicks.\n",
              "          quickchartButtonEl.classList.add('colab-df-spinner');\n",
              "          try {\n",
              "            const charts = await google.colab.kernel.invokeFunction(\n",
              "                'suggestCharts', [key], {});\n",
              "          } catch (error) {\n",
              "            console.error('Error during call to suggestCharts:', error);\n",
              "          }\n",
              "          quickchartButtonEl.classList.remove('colab-df-spinner');\n",
              "          quickchartButtonEl.classList.add('colab-df-quickchart-complete');\n",
              "        }\n",
              "        (() => {\n",
              "          let quickchartButtonEl =\n",
              "            document.querySelector('#df-93af5249-2132-4f1f-9030-f3f4148370a3 button');\n",
              "          quickchartButtonEl.style.display =\n",
              "            google.colab.kernel.accessAllowed ? 'block' : 'none';\n",
              "        })();\n",
              "      </script>\n",
              "    </div>\n",
              "\n",
              "  <div id=\"id_f8c5bd1d-3e53-4fad-b425-0d2f2778dfbe\">\n",
              "    <style>\n",
              "      .colab-df-generate {\n",
              "        background-color: #E8F0FE;\n",
              "        border: none;\n",
              "        border-radius: 50%;\n",
              "        cursor: pointer;\n",
              "        display: none;\n",
              "        fill: #1967D2;\n",
              "        height: 32px;\n",
              "        padding: 0 0 0 0;\n",
              "        width: 32px;\n",
              "      }\n",
              "\n",
              "      .colab-df-generate:hover {\n",
              "        background-color: #E2EBFA;\n",
              "        box-shadow: 0px 1px 2px rgba(60, 64, 67, 0.3), 0px 1px 3px 1px rgba(60, 64, 67, 0.15);\n",
              "        fill: #174EA6;\n",
              "      }\n",
              "\n",
              "      [theme=dark] .colab-df-generate {\n",
              "        background-color: #3B4455;\n",
              "        fill: #D2E3FC;\n",
              "      }\n",
              "\n",
              "      [theme=dark] .colab-df-generate:hover {\n",
              "        background-color: #434B5C;\n",
              "        box-shadow: 0px 1px 3px 1px rgba(0, 0, 0, 0.15);\n",
              "        filter: drop-shadow(0px 1px 2px rgba(0, 0, 0, 0.3));\n",
              "        fill: #FFFFFF;\n",
              "      }\n",
              "    </style>\n",
              "    <button class=\"colab-df-generate\" onclick=\"generateWithVariable('performance_df_combined')\"\n",
              "            title=\"Generate code using this dataframe.\"\n",
              "            style=\"display:none;\">\n",
              "\n",
              "  <svg xmlns=\"http://www.w3.org/2000/svg\" height=\"24px\"viewBox=\"0 0 24 24\"\n",
              "       width=\"24px\">\n",
              "    <path d=\"M7,19H8.4L18.45,9,17,7.55,7,17.6ZM5,21V16.75L18.45,3.32a2,2,0,0,1,2.83,0l1.4,1.43a1.91,1.91,0,0,1,.58,1.4,1.91,1.91,0,0,1-.58,1.4L9.25,21ZM18.45,9,17,7.55Zm-12,3A5.31,5.31,0,0,0,4.9,8.1,5.31,5.31,0,0,0,1,6.5,5.31,5.31,0,0,0,4.9,4.9,5.31,5.31,0,0,0,6.5,1,5.31,5.31,0,0,0,8.1,4.9,5.31,5.31,0,0,0,12,6.5,5.46,5.46,0,0,0,6.5,12Z\"/>\n",
              "  </svg>\n",
              "    </button>\n",
              "    <script>\n",
              "      (() => {\n",
              "      const buttonEl =\n",
              "        document.querySelector('#id_f8c5bd1d-3e53-4fad-b425-0d2f2778dfbe button.colab-df-generate');\n",
              "      buttonEl.style.display =\n",
              "        google.colab.kernel.accessAllowed ? 'block' : 'none';\n",
              "\n",
              "      buttonEl.onclick = () => {\n",
              "        google.colab.notebook.generateWithVariable('performance_df_combined');\n",
              "      }\n",
              "      })();\n",
              "    </script>\n",
              "  </div>\n",
              "\n",
              "    </div>\n",
              "  </div>\n"
            ],
            "application/vnd.google.colaboratory.intrinsic+json": {
              "type": "dataframe",
              "variable_name": "performance_df_combined",
              "summary": "{\n  \"name\": \"performance_df_combined\",\n  \"rows\": 2,\n  \"fields\": [\n    {\n      \"column\": \"Metric\",\n      \"properties\": {\n        \"dtype\": \"string\",\n        \"num_unique_values\": 2,\n        \"samples\": [\n          \"MAPE\",\n          \"RMSE\"\n        ],\n        \"semantic_type\": \"\",\n        \"description\": \"\"\n      }\n    },\n    {\n      \"column\": \"LSTM Train\",\n      \"properties\": {\n        \"dtype\": \"number\",\n        \"std\": 3.8635162112102286,\n        \"min\": 0.014353133023027445,\n        \"max\": 5.478190157364848,\n        \"num_unique_values\": 2,\n        \"samples\": [\n          0.014353133023027445,\n          5.478190157364848\n        ],\n        \"semantic_type\": \"\",\n        \"description\": \"\"\n      }\n    },\n    {\n      \"column\": \"LSTM Test\",\n      \"properties\": {\n        \"dtype\": \"number\",\n        \"std\": 4.884205212008629,\n        \"min\": 0.016766355392092088,\n        \"max\": 6.924075607628054,\n        \"num_unique_values\": 2,\n        \"samples\": [\n          0.016766355392092088,\n          6.924075607628054\n        ],\n        \"semantic_type\": \"\",\n        \"description\": \"\"\n      }\n    },\n    {\n      \"column\": \"ARIMA Test\",\n      \"properties\": {\n        \"dtype\": \"number\",\n        \"std\": 17.632703127111313,\n        \"min\": 0.07416314024369895,\n        \"max\": 25.010571043903,\n        \"num_unique_values\": 2,\n        \"samples\": [\n          0.07416314024369895,\n          25.010571043903\n        ],\n        \"semantic_type\": \"\",\n        \"description\": \"\"\n      }\n    }\n  ]\n}"
            }
          },
          "metadata": {}
        }
      ]
    },
    {
      "cell_type": "markdown",
      "source": [
        "# **LSTM MOdel save as .h5**"
      ],
      "metadata": {
        "id": "CENovf0_SWqI"
      }
    },
    {
      "cell_type": "code",
      "source": [
        "model.save('DataSynthis_Job_task.h5')"
      ],
      "metadata": {
        "colab": {
          "base_uri": "https://localhost:8080/"
        },
        "id": "rN8FTNpAIH67",
        "outputId": "4646cdb8-6912-4602-ba42-5a330cb78801"
      },
      "execution_count": null,
      "outputs": [
        {
          "output_type": "stream",
          "name": "stderr",
          "text": [
            "WARNING:absl:You are saving your model as an HDF5 file via `model.save()` or `keras.saving.save_model(model)`. This file format is considered legacy. We recommend using instead the native Keras format, e.g. `model.save('my_model.keras')` or `keras.saving.save_model(model, 'my_model.keras')`. \n"
          ]
        }
      ]
    },
    {
      "cell_type": "markdown",
      "source": [
        "## **huggingface upload**"
      ],
      "metadata": {
        "id": "7r-pGuy9SQK8"
      }
    },
    {
      "cell_type": "code",
      "source": [
        "! pip install huggingface_hub --q"
      ],
      "metadata": {
        "id": "d4OTxvT8KYvV"
      },
      "execution_count": null,
      "outputs": []
    },
    {
      "cell_type": "code",
      "source": [],
      "metadata": {
        "id": "L5zT_t2MRL7k"
      },
      "execution_count": null,
      "outputs": []
    }
  ],
  "metadata": {
    "kernelspec": {
      "display_name": "Python 3",
      "name": "python3"
    },
    "language_info": {
      "codemirror_mode": {
        "name": "ipython",
        "version": 3
      },
      "file_extension": ".py",
      "mimetype": "text/x-python",
      "name": "python",
      "nbconvert_exporter": "python",
      "pygments_lexer": "ipython3",
      "version": "3.6.9"
    },
    "colab": {
      "provenance": [],
      "gpuType": "T4"
    },
    "accelerator": "GPU"
  },
  "nbformat": 4,
  "nbformat_minor": 0
}